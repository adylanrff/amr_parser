{
 "cells": [
  {
   "cell_type": "markdown",
   "metadata": {},
   "source": [
    "# File ini sudah bisa dipakai untuk training (sudah bisa jalan semua)\n",
    "## by : Amany (21 April 2021) 08:08PM"
   ]
  },
  {
   "cell_type": "code",
   "execution_count": 1,
   "metadata": {},
   "outputs": [],
   "source": [
    "import os\n",
    "import sys\n",
    "os.environ['TF_CPP_MIN_LOG_LEVEL'] = '2' \n",
    "module_path = os.path.abspath(os.path.join('..'))\n",
    "if module_path not in sys.path:\n",
    "    sys.path.append(module_path)"
   ]
  },
  {
   "cell_type": "code",
   "execution_count": 2,
   "metadata": {},
   "outputs": [
    {
     "ename": "ModuleNotFoundError",
     "evalue": "No module named 'pydotplus'",
     "output_type": "error",
     "traceback": [
      "\u001b[1;31m---------------------------------------------------------------------------\u001b[0m",
      "\u001b[1;31mModuleNotFoundError\u001b[0m                       Traceback (most recent call last)",
      "\u001b[1;32m~\\AppData\\Local\\Temp/ipykernel_15840/1159048616.py\u001b[0m in \u001b[0;36m<module>\u001b[1;34m\u001b[0m\n\u001b[0;32m      6\u001b[0m \u001b[1;32mimport\u001b[0m \u001b[0mmatplotlib\u001b[0m\u001b[1;33m\u001b[0m\u001b[1;33m\u001b[0m\u001b[0m\n\u001b[0;32m      7\u001b[0m \u001b[1;32mimport\u001b[0m \u001b[0mmatplotlib\u001b[0m\u001b[1;33m.\u001b[0m\u001b[0mpyplot\u001b[0m \u001b[1;32mas\u001b[0m \u001b[0mplt\u001b[0m\u001b[1;33m\u001b[0m\u001b[1;33m\u001b[0m\u001b[0m\n\u001b[1;32m----> 8\u001b[1;33m \u001b[1;32mimport\u001b[0m \u001b[0mpydotplus\u001b[0m\u001b[1;33m\u001b[0m\u001b[1;33m\u001b[0m\u001b[0m\n\u001b[0m\u001b[0;32m      9\u001b[0m \u001b[1;32mimport\u001b[0m \u001b[0mrandom\u001b[0m\u001b[1;33m\u001b[0m\u001b[1;33m\u001b[0m\u001b[0m\n\u001b[0;32m     10\u001b[0m \u001b[1;32mimport\u001b[0m \u001b[0mpenman\u001b[0m\u001b[1;33m\u001b[0m\u001b[1;33m\u001b[0m\u001b[0m\n",
      "\u001b[1;31mModuleNotFoundError\u001b[0m: No module named 'pydotplus'"
     ]
    }
   ],
   "source": [
    "import io\n",
    "import pandas as pd\n",
    "import numpy as np\n",
    "import seaborn as sns\n",
    "import gensim\n",
    "import matplotlib\n",
    "import matplotlib.pyplot as plt\n",
    "import pydotplus\n",
    "import random\n",
    "import penman\n",
    "import pickle \n",
    "import math\n",
    "\n",
    "from collections import defaultdict\n",
    "\n",
    "from sklearn.model_selection import train_test_split\n",
    "from sklearn.tree import DecisionTreeClassifier\n",
    "from sklearn.feature_extraction.text import CountVectorizer\n",
    "from sklearn.feature_extraction.text import TfidfVectorizer\n",
    "from sklearn.preprocessing import LabelEncoder\n",
    "from sklearn.preprocessing import OneHotEncoder\n",
    "from sklearn.naive_bayes import MultinomialNB\n",
    "from sklearn.pipeline import Pipeline\n",
    "from sklearn.model_selection import cross_val_score, StratifiedShuffleSplit\n",
    "from sklearn.tree import plot_tree, export_graphviz\n",
    "from sklearn.metrics import confusion_matrix , f1_score, accuracy_score, precision_recall_fscore_support\n",
    "\n",
    "from IPython.display import Image  \n",
    "from tqdm import tqdm\n",
    "\n",
    "from xgboost import XGBClassifier\n",
    "\n",
    "RANDOM_STATE = 13516013\n",
    "random.seed(RANDOM_STATE)\n",
    "matplotlib.rcParams['figure.figsize'] = [15, 15]"
   ]
  },
  {
   "cell_type": "code",
   "execution_count": 7,
   "metadata": {},
   "outputs": [],
   "source": [
    "# data_path = \"data/raw/edge_prediction/dependency_parser_features_labeled.csv\"\n",
    "my_dir = \"C:/Users/Asus/JupyterNotebook/Tesis/amr_parser-master(trainUlangAdylan)/data_amany/\"\n",
    "\n",
    "data_path = my_dir+\"data\\\\raw\\\\edge_prediction\\\\dependency_parser_features_labeled_no_unk.csv\"\n",
    "test_data_path = my_dir+\"data\\\\raw\\\\edge_prediction\\\\test_dependency_parser_features_labeled.csv\"\n",
    "amr_data_path = my_dir+\"data\\\\raw\\\\edge_prediction\\\\amr.csv\"\n",
    "amr_test_path = my_dir+\"data\\\\raw\\\\edge_prediction\\\\amr.test.csv\"\n",
    "\n",
    "amr_val_prediction_path = my_dir+\"data\\\\test\\\\val\"\n",
    "amr_test_prediction_path = my_dir+\"data\\\\test\\\\test\"\n",
    "\n",
    "\n",
    "feature_filter_type = ['positional']"
   ]
  },
  {
   "cell_type": "code",
   "execution_count": 8,
   "metadata": {},
   "outputs": [],
   "source": [
    "dependency_features_df = pd.read_csv(data_path)\n",
    "amr_dataset = pd.read_csv(amr_data_path)\n",
    "test_amr_dataset = pd.read_csv(amr_test_path)"
   ]
  },
  {
   "cell_type": "code",
   "execution_count": 9,
   "metadata": {},
   "outputs": [],
   "source": [
    "def feature_selection(dataset, filter_type='all'):\n",
    "    lexical_features = ['parent', 'child']\n",
    "    positional_features = ['parent_position', 'child_position']\n",
    "    structural_features = ['parent_pos', 'child_pos']\n",
    "    syntactic_features = ['dependency_role']\n",
    "    ner_features = ['parent_ner', 'child_ner']\n",
    "    \n",
    "    selected_dataset = dataset\n",
    "    \n",
    "    if filter_type != 'all':\n",
    "        if 'lexical' in filter_type:\n",
    "            selected_dataset = selected_dataset.drop(lexical_features, axis=1)\n",
    "        if 'positional' in filter_type:\n",
    "            selected_dataset = selected_dataset.drop(positional_features, axis=1)\n",
    "        if 'syntactic' in filter_type:\n",
    "            selected_dataset = selected_dataset.drop(syntactic_features+structural_features, axis=1)\n",
    "        if 'ner' in filter_type:\n",
    "            selected_dataset = selected_dataset.drop(ner_features, axis=1)\n",
    "        \n",
    "    return selected_dataset"
   ]
  },
  {
   "cell_type": "markdown",
   "metadata": {},
   "source": [
    "## Cross Validations"
   ]
  },
  {
   "cell_type": "code",
   "execution_count": 10,
   "metadata": {},
   "outputs": [],
   "source": [
    "def custom_dependency_parser_feature_k_fold(dataset, n_split, shuffle=False):\n",
    "    min_sentence_id = dataset.min()['sentence_id']\n",
    "    max_sentence_id = dataset.max()['sentence_id']\n",
    "    sentence_num = max_sentence_id\n",
    "    \n",
    "    sentence_ids = np.arange(min_sentence_id, max_sentence_id+1)\n",
    "    if (shuffle):\n",
    "        np.random.seed(RANDOM_STATE)\n",
    "        np.random.shuffle(sentence_ids)\n",
    "    \n",
    "    cur_sentence_id = min_sentence_id\n",
    "    split_size = sentence_num // n_split\n",
    "    \n",
    "    indexes = []\n",
    "    while (cur_sentence_id < max_sentence_id):\n",
    "        stop_sentence_id = min(cur_sentence_id + split_size-1, sentence_num)\n",
    "        test_sentence_ids = sentence_ids[cur_sentence_id:stop_sentence_id+1]\n",
    "        \n",
    "        test_condition = dataset.sentence_id.isin(test_sentence_ids)\n",
    "        train_condition = ~test_condition \n",
    "        \n",
    "        indexes.append((dataset[train_condition].index, dataset[test_condition].index))\n",
    "        cur_sentence_id = stop_sentence_id\n",
    "    \n",
    "    return indexes\n",
    "    \n",
    "def split_sentence(dataset, split):\n",
    "    random.seed(RANDOM_STATE)\n",
    "    sentence_num = dataset.max()['sentence_id']\n",
    "    train_length = round(sentence_num*(100-(split*100))/100)\n",
    "    sentence_indexes = random.sample(range(1, sentence_num+1), int(train_length))    \n",
    "    data_train, data_val = dataset[dataset.sentence_id.isin(sentence_indexes)], dataset[~dataset.sentence_id.isin(sentence_indexes)]\n",
    "    label = ['label']\n",
    "    return data_train.drop(label, axis=1), data_val.drop(label, axis=1), data_train[label], data_val[label]\n",
    "    "
   ]
  },
  {
   "cell_type": "markdown",
   "metadata": {},
   "source": [
    "### Save Val AMR data "
   ]
  },
  {
   "cell_type": "code",
   "execution_count": 11,
   "metadata": {},
   "outputs": [],
   "source": [
    "def save_amr_data(amr_data, filepath):\n",
    "    with open(filepath + '.txt', 'w+', encoding='utf-8') as f:\n",
    "        for idx, amr_graph in amr_data.values:\n",
    "            f.write(amr_graph)\n",
    "            f.write('\\n\\n')"
   ]
  },
  {
   "cell_type": "markdown",
   "metadata": {},
   "source": [
    "# Encoder"
   ]
  },
  {
   "cell_type": "markdown",
   "metadata": {},
   "source": [
    "### Label Encoder"
   ]
  },
  {
   "cell_type": "code",
   "execution_count": 12,
   "metadata": {},
   "outputs": [],
   "source": [
    "label_encoder = LabelEncoder()\n",
    "label_encoder.fit(dependency_features_df['label'])\n",
    "labels = label_encoder.classes_"
   ]
  },
  {
   "cell_type": "markdown",
   "metadata": {},
   "source": [
    "### One Hot Encoder"
   ]
  },
  {
   "cell_type": "code",
   "execution_count": 13,
   "metadata": {},
   "outputs": [
    {
     "data": {
      "text/plain": [
       "OneHotEncoder(categories='auto', drop=None, dtype=<class 'numpy.float64'>,\n",
       "              handle_unknown='ignore', sparse=True)"
      ]
     },
     "execution_count": 13,
     "metadata": {},
     "output_type": "execute_result"
    }
   ],
   "source": [
    "one_hot_encoder = OneHotEncoder(handle_unknown='ignore')\n",
    "\n",
    "filtered_dependency_features_df = feature_selection(dependency_features_df, feature_filter_type)\n",
    "one_hot_feature_names = ['parent_ner', 'child_ner', 'parent_pos', 'dependency_role','child_pos']\n",
    "one_hot_features = list(filtered_dependency_features_df.columns[filtered_dependency_features_df.columns.isin(one_hot_feature_names)])\n",
    "one_hot_encoder.fit(dependency_features_df[one_hot_features])"
   ]
  },
  {
   "cell_type": "code",
   "execution_count": 14,
   "metadata": {},
   "outputs": [
    {
     "data": {
      "text/plain": [
       "[('parent_ner', 13),\n",
       " ('child_ner', 14),\n",
       " ('parent_pos', 13),\n",
       " ('dependency_role', 23),\n",
       " ('child_pos', 15)]"
      ]
     },
     "execution_count": 14,
     "metadata": {},
     "output_type": "execute_result"
    }
   ],
   "source": [
    "\n",
    "list(zip(one_hot_feature_names, [len(i) for i in one_hot_encoder.categories_]))"
   ]
  },
  {
   "cell_type": "markdown",
   "metadata": {},
   "source": [
    "## Load Word Embedding"
   ]
  },
  {
   "cell_type": "code",
   "execution_count": 17,
   "metadata": {},
   "outputs": [],
   "source": [
    "word_vec_model = gensim.models.Word2Vec.load(r'C:/Users/Asus/JupyterNotebook/Tesis/amr_parser-master(trainUlangAdylan)/pretrained/word2vec/id/id.bin.gz')\n",
    "word_vec = word_vec_model.wv"
   ]
  },
  {
   "cell_type": "markdown",
   "metadata": {},
   "source": [
    "### Preprocess Features"
   ]
  },
  {
   "cell_type": "code",
   "execution_count": 18,
   "metadata": {},
   "outputs": [],
   "source": [
    "def preprocess(X_train, word_vec, one_hot_encoder):\n",
    "    \n",
    "    word_feature_names = ['parent', 'child']\n",
    "    one_hot_feature_names = ['parent_ner', 'child_ner', 'parent_pos', 'dependency_role', 'child_pos']\n",
    "    \n",
    "    word_features = list(X_train.columns[X_train.columns.isin(word_feature_names)])\n",
    "    one_hot_features = list(X_train.columns[X_train.columns.isin(one_hot_feature_names)])\n",
    "    \n",
    "    def check_word_features(X):\n",
    "        columns = [column in word_features for column in X.columns]\n",
    "        return any(columns)\n",
    "\n",
    "    contains_word_features = check_word_features(X_train)\n",
    "    \n",
    "    X_train_dropped = X_train\n",
    "    if (contains_word_features):\n",
    "        X_train_dropped = X_train.drop(word_features+one_hot_features, axis=1)\n",
    "    else:\n",
    "        X_train_dropped = X_train.drop(one_hot_features, axis=1)\n",
    "    \n",
    "    if contains_word_features:\n",
    "        X_train_word_data = X_train[word_features]\n",
    "        # load word embedding\n",
    "        embeddings = []\n",
    "        for data in X_train_word_data.values:\n",
    "            current_embedding = []\n",
    "            for word in data:\n",
    "                splitted_word = word.split('_')[0]\n",
    "                if splitted_word in word_vec:\n",
    "                    current_embedding.append(word_vec[splitted_word])\n",
    "                else:\n",
    "                    none = [0] * 300\n",
    "                    current_embedding.append(none)\n",
    "            embeddings.append(current_embedding)\n",
    "    \n",
    "    # load one hot encoder\n",
    "    X_train_one_hot_data = X_train[one_hot_features]\n",
    "    X_train_one_hot_encoded = one_hot_encoder.transform(X_train_one_hot_data).toarray()\n",
    "    \n",
    "    X_train = []\n",
    "    for idx, row in enumerate(X_train_dropped.values):\n",
    "        concatenated = None\n",
    "        if (contains_word_features):\n",
    "            concatenated = np.concatenate([row, X_train_one_hot_encoded[idx], embeddings[idx][0],embeddings[idx][1]])\n",
    "        else:\n",
    "            concatenated = np.concatenate([row, X_train_one_hot_encoded[idx]])\n",
    "            \n",
    "        X_train.append(concatenated)\n",
    "    \n",
    "    return X_train"
   ]
  },
  {
   "cell_type": "markdown",
   "metadata": {},
   "source": [
    "### Train Model"
   ]
  },
  {
   "cell_type": "code",
   "execution_count": 19,
   "metadata": {},
   "outputs": [],
   "source": [
    "def fit_predict_model(model_name, X_train, y_train, X_val, y_val, params):\n",
    "    supported_model_name = ['dtc', 'xgb']\n",
    "    if model_name not in supported_model_name:\n",
    "        raise Exception(\"Model not supported\")\n",
    "\n",
    "    if model_name == 'dtc':\n",
    "        model = DecisionTreeClassifier(random_state=RANDOM_STATE, **params)\n",
    "    elif model_name == 'xgb':\n",
    "        if not params:\n",
    "            params = {}\n",
    "        model = XGBClassifier(**params)\n",
    "    # Do training\n",
    "    model = model.fit(np.array(X_train), np.array(y_train))\n",
    "    # Do predict with val data\n",
    "    y_val_pred = model.predict(np.array(X_val))\n",
    "    \n",
    "    return model, y_val_pred\n",
    "\n",
    "def preprocess_features(X, y, one_hot_encoder, label_encoder):\n",
    "    # Preprocess features\n",
    "    X = preprocess(X, word_vec, one_hot_encoder)\n",
    "    # Preprocess labels\n",
    "    y = label_encoder.transform(np.ravel(y))\n",
    "\n",
    "    return X, y\n",
    "\n",
    "def run_hold_out_validation(dataset, split_percent, word_vec, label_encoder, one_hot_encoder,  model_name='dtc', params=None):\n",
    "    X_train, X_val, y_train, y_val = split_sentence(dataset, split_percent)\n",
    "    \n",
    "    # preprocess features\n",
    "    X_train, y_train = preprocess_features(X_train, y_train, one_hot_encoder, label_encoder)\n",
    "    X_val, y_val = preprocess_features(X_val, y_val, one_hot_encoder, label_encoder)\n",
    "\n",
    "    model, y_val_pred = fit_predict_model(model_name, X_train, y_train, X_val, y_val, params)\n",
    "    performance = get_metrics(y_val, y_val_pred, label_encoder)\n",
    "\n",
    "    return model, performance \n",
    "\n",
    "def build_amr_from_prediction(X,y):\n",
    "    predictions = create_pediction_graph(X, y)\n",
    "    amr_graphs = []\n",
    "    for idx, prediction in enumerate(predictions):\n",
    "        graph = create_amr_graph_from_prediction(prediction)\n",
    "        amr_graphs.append(graph)\n",
    "    return amr_graphs    \n",
    "\n",
    "def get_smatch_score(filepath):\n",
    "    smatch_output=[]\n",
    "    %run smatch.py -f {filepath}.pred.txt {filepath}.txt --significant 3\n",
    "    with open('best_f_score_smatch.txt') as f:\n",
    "        for line in f:\n",
    "            #f_score = line\n",
    "            smatch_output.append(line)\n",
    "\n",
    "    f_score = float(smatch_output[0].split(' ')[1])\n",
    "#     print('f_score',f_score)\n",
    "    return f_score\n",
    "\n",
    "def run_k_fold_validation(dataset, n_split, word_vec, label_encoder, one_hot_encoder, shuffle=False, feature_filter='all', model_name='dtc', params=None):\n",
    "    folds = custom_dependency_parser_feature_k_fold(dataset, n_split, shuffle=shuffle)\n",
    "    label = ['label']\n",
    "    \n",
    "    performances = defaultdict(list)\n",
    "    \n",
    "    for train_idx, val_idx in folds:\n",
    "        train_dataset, val_dataset = dataset.iloc[train_idx], dataset.iloc[val_idx]\n",
    "        X_train, y_train = train_dataset.drop(label, axis=1), train_dataset[label]\n",
    "        X_val, y_val = val_dataset.drop(label, axis=1), val_dataset[label]\n",
    "        \n",
    "        filtered_X_train = feature_selection(X_train, feature_filter)\n",
    "        filtered_X_val = feature_selection(X_val, feature_filter)\n",
    "        \n",
    "        # save AMR Data\n",
    "        amr_val_df = amr_dataset[amr_dataset.sentence_id.isin(X_val.sentence_id.unique())]\n",
    "        save_amr_data(amr_val_df, amr_val_prediction_path)\n",
    "        \n",
    "        # preprocess features\n",
    "        X_train_processed, y_train_processed = preprocess_features(filtered_X_train, y_train, one_hot_encoder, label_encoder)\n",
    "        X_val_processed, y_val_processed = preprocess_features(filtered_X_val, y_val, one_hot_encoder, label_encoder)\n",
    "        \n",
    "        model, y_val_pred = fit_predict_model(model_name, X_train_processed, y_train_processed, X_val_processed, y_val_processed, params)\n",
    "        performance = get_metrics(y_val_processed, y_val_pred, label_encoder)\n",
    "\n",
    "        # build prediction\n",
    "        amr_graphs = build_amr_from_prediction(X_val, y_val_pred)\n",
    "        save_amr_graphs(amr_graphs, amr_val_prediction_path)\n",
    "        f_score = get_smatch_score(amr_val_prediction_path)\n",
    "        \n",
    "        for key in performance:\n",
    "            performances[key].append(performance[key])\n",
    "        performances['smatch'].append(f_score)\n",
    "    \n",
    "    for key in performances:\n",
    "        for i,j in enumerate(performances[key]):\n",
    "            performances[key][i] = float(j)\n",
    "        performances[key] = np.mean(performances[key])\n",
    "    \n",
    "    return model, performances\n",
    "      \n",
    "def get_metrics(y_test, y_pred, label_encoder):\n",
    "    \n",
    "    y_true, y_pred = label_encoder.inverse_transform(y_test),label_encoder.inverse_transform(y_pred) \n",
    "    f1_micro = f1_score(y_true, y_pred, average='micro')\n",
    "    f1_macro = f1_score(y_true, y_pred, average='macro')\n",
    "    accuracy = accuracy_score(y_true, y_pred)\n",
    "#     precision_recall_fscore_support_score = precision_recall_fscore_support(y_true, y_pred)\n",
    "    \n",
    "    labels = label_encoder.classes_\n",
    "    cm = confusion_matrix(y_true, y_pred, labels)\n",
    "    \n",
    "    return dict(\n",
    "        f1_micro=f1_micro, \n",
    "        f1_macro=f1_macro, \n",
    "        accuracy=accuracy,\n",
    "#         precision_recall_fscore_support_score=precision_recall_fscore_support,\n",
    "#         cm=cm\n",
    "    )\n",
    "\n",
    "def print_performance_metrics(performance, labels):\n",
    "    accuracy = performance['accuracy']\n",
    "    f1_macro = performance['f1_macro']\n",
    "    f1_micro = performance['f1_micro']\n",
    "    smatch = performance.get('smatch', 0)\n",
    "    \n",
    "#     cm = performance['cm']\n",
    "    \n",
    "    print(\"Accuracy: {:.3f}\\nF1 Micro : {:.3f}\\nF1 Macro: {:.3f}\\nSMATCH: {:.3f}\".format(accuracy,f1_micro, f1_macro, smatch))\n",
    "#     print(performance['precision_recall_fscore_support_score'])\n"
   ]
  },
  {
   "cell_type": "markdown",
   "metadata": {},
   "source": [
    "## Post Process"
   ]
  },
  {
   "cell_type": "code",
   "execution_count": 20,
   "metadata": {},
   "outputs": [],
   "source": [
    "def create_pediction_graph(X_test, y_pred):\n",
    "    predictions = []\n",
    "#     X_test_val = X_test.values\n",
    "    cur_sentence_id = X_test['sentence_id'].values[0]\n",
    "    i = 0\n",
    "\n",
    "    while i < len(y_pred):\n",
    "        prediction = {\n",
    "            'nodes': [],\n",
    "            'heads': [],\n",
    "            'corefs': [],\n",
    "            'head_labels': [],\n",
    "            'sentence_id': 0\n",
    "        }\n",
    "        \n",
    "        current_pairs = []\n",
    "        root = None\n",
    "        # Collect nodes\n",
    "        while i < len(y_pred) and cur_sentence_id == X_test['sentence_id'].values[i]:\n",
    "            # add nodes\n",
    "            parent = X_test['parent'].values[i]\n",
    "            child = X_test['child'].values[i]\n",
    "            is_root = X_test['is_root'].values[i]\n",
    "            \n",
    "            if root is None and is_root==1:\n",
    "                root = parent\n",
    "            \n",
    "            if (parent not in prediction['nodes']):\n",
    "                prediction['nodes'].append(parent)\n",
    "            if (child not in prediction['nodes']):\n",
    "                prediction['nodes'].append(child)\n",
    "            current_pairs.append((parent, child, y_pred[i]))    \n",
    "            i+=1\n",
    "        \n",
    "        # Collect heads\n",
    "        for node in prediction['nodes']:\n",
    "            if node == root:\n",
    "                prediction['heads'].append(0)\n",
    "                prediction['head_labels'].append(':root')\n",
    "            else:\n",
    "                for pair in current_pairs:\n",
    "                    if (pair[1] == node):\n",
    "                        prediction['heads'].append(prediction['nodes'].index(pair[0])+1)\n",
    "                        prediction['head_labels'] += list(label_encoder.inverse_transform([pair[2]]))\n",
    "\n",
    "        prediction['corefs'] = list(range(1, len(prediction['nodes'])+1))\n",
    "        prediction['sentence_id'] = cur_sentence_id\n",
    "        prediction['root'] = root\n",
    "        \n",
    "        predictions.append(prediction)\n",
    "        if (i < len(y_pred)):\n",
    "            cur_sentence_id = X_test['sentence_id'].values[i]\n",
    "\n",
    "    return predictions\n",
    "\n",
    "def create_amr_graph_from_prediction(prediction):\n",
    "    nodes = prediction['nodes']\n",
    "    heads = prediction['heads']\n",
    "    head_labels = prediction['head_labels']\n",
    "    sentence_id = prediction['sentence_id']\n",
    "    root = prediction['root']\n",
    "    \n",
    "    \n",
    "    variable_map = dict()\n",
    "    triples = []\n",
    "    for idx, node in enumerate(nodes):\n",
    "        variable_map['vv'+str(idx+1)] = node\n",
    "    \n",
    "    # find top \n",
    "    top = 'vv1'\n",
    "    for var, value in variable_map.items():\n",
    "        if value == root:\n",
    "            top = var\n",
    "    \n",
    "    # rename nodes\n",
    "    for key in variable_map:\n",
    "        variable_map[key] = variable_map[key].split('_')[0]\n",
    "    \n",
    "    # create instances\n",
    "    for variable in variable_map:\n",
    "        triples.append((variable, 'instance', variable_map[variable]))\n",
    "\n",
    "    # create connections\n",
    "    for idx, head in enumerate(heads):\n",
    "        if (head != 0):\n",
    "            head_var = 'vv{}'.format(head)\n",
    "            dep_var = 'vv{}'.format(idx+1)\n",
    "            label = head_labels[idx]\n",
    "            triple = (head_var, label, dep_var)\n",
    "            triples.append(triple)\n",
    "        \n",
    "    graph = penman.Graph()\n",
    "    \n",
    "    graph.heads = heads\n",
    "    graph.nodes = nodes\n",
    "    graph.head_labels = head_labels\n",
    "    graph._top = top\n",
    "    graph._triples = [penman.Triple(*t) for t in triples]\n",
    "    graph.id = sentence_id\n",
    "    \n",
    "    return graph\n",
    "    \n",
    "def save_amr_graphs(amr_graphs, filepath):\n",
    "    sentence_graph_pair = zip(amr_graphs)\n",
    "    with open(filepath + '.pred.txt', 'w+', encoding='utf-8') as f:\n",
    "        for temp_amr_graph in sentence_graph_pair:\n",
    "            amr_graph = temp_amr_graph[0]\n",
    "            try:\n",
    "#     with open(filepath + '.pred.txt', 'w+', encoding='utf-8') as f:\n",
    "#         for idx, amr_graph in enumerate(amr_graphs):\n",
    "#             try:\n",
    "                f.write(str(amr_graph))\n",
    "                f.write('\\n\\n')\n",
    "            except Exception as e:\n",
    "                display(amr_graph.id)\n",
    "                display(amr_graph._top)\n",
    "                display(amr_graph._triples)\n",
    "                display(amr_graph.nodes)                                                \n",
    "                display(amr_graph.heads)\n",
    "                display(amr_graph.head_labels)                                                "
   ]
  },
  {
   "cell_type": "code",
   "execution_count": 21,
   "metadata": {},
   "outputs": [],
   "source": [
    "def create_experiment_report(experiments):\n",
    "    report_dict = defaultdict(list)\n",
    "    \n",
    "    for experiment in experiments:\n",
    "        report_dict['model_name'].append(experiment.name)\n",
    "        report_dict['accuracy'].append(experiment.performance['accuracy'])\n",
    "        report_dict['f1_macro'].append(experiment.performance['f1_macro'])\n",
    "        report_dict['smatch'].append(experiment.performance['smatch'])\n",
    "    \n",
    "    report_df = pd.DataFrame(report_dict)\n",
    "    report_df = report_df.set_index('model_name')\n",
    "    return report_df"
   ]
  },
  {
   "cell_type": "code",
   "execution_count": 22,
   "metadata": {},
   "outputs": [],
   "source": [
    "class TrainingModel:\n",
    "    def __init__(self, name, model, performance, labels):\n",
    "        self.name = name\n",
    "        self.model = model\n",
    "        self.performance = performance\n",
    "        self.labels = labels\n",
    "    \n",
    "    def __gt__(self, model2):\n",
    "        return self.performance['f1_macro'] > model2.performance['f1_macro']\n",
    "    \n",
    "    def print_metrics(self):\n",
    "        print(\"----{}----\".format(self.name))\n",
    "        print()\n",
    "        print_performance_metrics(self.performance, self.labels)\n",
    "        \n",
    "    def save(self):\n",
    "        best_model_filename = my_dir+\"saved_model\\\\{}_best.pickle.dat\".format(self.name)\n",
    "        with open(best_model_filename, 'wb+') as f:\n",
    "            pickle.dump(best_model.model,f)\n",
    "        \n",
    "class ExperimentParams:\n",
    "    def __init__(self, model_name, model_params):\n",
    "        self.model_name = model_name\n",
    "        self.model_params = model_params"
   ]
  },
  {
   "cell_type": "markdown",
   "metadata": {},
   "source": [
    "### initialize Training Params"
   ]
  },
  {
   "cell_type": "code",
   "execution_count": 23,
   "metadata": {},
   "outputs": [],
   "source": [
    "experiment_params = []\n",
    "\n",
    "experiment_params.append(ExperimentParams(model_name='xgb', model_params=[\n",
    "#     {\"learning_rate\" : 0.05, 'max_depth': 5},\n",
    "#     {\"learning_rate\" : 0.05, 'max_depth': 8 },\n",
    "#     {\"learning_rate\" : 0.05, 'max_depth': 10},\n",
    "#     {\"learning_rate\" : 0.10, 'max_depth': 5 },\n",
    "    {\"learning_rate\" : 0.10, 'max_depth': 8},\n",
    "#     {\"learning_rate\" : 0.10, 'max_depth': 10},\n",
    "#     {\"learning_rate\" : 0.20, 'max_depth': 5},\n",
    "#     {\"learning_rate\" : 0.20, 'max_depth': 8},\n",
    "#     {\"learning_rate\" : 0.20, 'max_depth': 10},\n",
    "]))\n",
    "\n",
    "# experiment_params.append(ExperimentParams(model_name='dtc', model_params=[\n",
    "#     {'max_depth': 6 , 'criterion': 'entropy'},\n",
    "#     {'max_depth': 6 , 'criterion': 'gini'},\n",
    "#     {'max_depth': 7 , 'criterion': 'entropy'},\n",
    "#     {'max_depth': 7 , 'criterion': 'gini'}, \n",
    "#     {'max_depth': 10 , 'criterion': 'entropy'},\n",
    "#     {'max_depth': 10 , 'criterion': 'gini'},\n",
    "#     {'max_depth': 12 , 'criterion': 'entropy'},\n",
    "#     {'max_depth': 12 , 'criterion': 'gini'}\n",
    "# ]))"
   ]
  },
  {
   "cell_type": "markdown",
   "metadata": {},
   "source": [
    "## Hold Out "
   ]
  },
  {
   "cell_type": "code",
   "execution_count": 24,
   "metadata": {},
   "outputs": [],
   "source": [
    "# SPLIT_PERCENT = 0.20\n",
    "\n",
    "# trained_models = []\n",
    "# experiment_tqdm = tqdm(experiment_params)\n",
    "# for experiment_param in experiment_tqdm:\n",
    "#     for model_param in experiment_param.model_params: \n",
    "#         model, performance = run_hold_out_validation(dependency_features_df,\n",
    "#                                                    split_percent=SPLIT_PERCENT,\n",
    "#                                                    word_vec=word_vec,\n",
    "#                                                    label_encoder=label_encoder,\n",
    "#                                                    one_hot_encoder=one_hot_encoder,\n",
    "#                                                    model_name=experiment_param.model_name, \n",
    "#                                                    params=model_param)\n",
    "#         model_param_string = ''\n",
    "#         if (model_param is not None):\n",
    "#             model_param_string = '_'.join([\"{}_{}\".format(key, model_param[key]) for key in model_param])\n",
    "#         model_name = experiment_param.model_name + '_' + model_param_string\n",
    "        \n",
    "#         trained_models.append(TrainingModel(model_name, model, performance, labels))"
   ]
  },
  {
   "cell_type": "markdown",
   "metadata": {},
   "source": [
    "## K Fold"
   ]
  },
  {
   "cell_type": "code",
   "execution_count": 25,
   "metadata": {
    "scrolled": true
   },
   "outputs": [
    {
     "name": "stderr",
     "output_type": "stream",
     "text": [
      "  0%|                                                                                            | 0/1 [00:00<?, ?it/s]\n",
      "  0%|                                                                                            | 0/1 [00:00<?, ?it/s]\u001b[A"
     ]
    },
    {
     "name": "stdout",
     "output_type": "stream",
     "text": [
      "F-score: 0.763\n"
     ]
    },
    {
     "data": {
      "text/plain": [
       "460"
      ]
     },
     "metadata": {},
     "output_type": "display_data"
    },
    {
     "data": {
      "text/plain": [
       "'vv3'"
      ]
     },
     "metadata": {},
     "output_type": "display_data"
    },
    {
     "data": {
      "text/plain": [
       "[Triple(source='vv1', relation='instance', target='waktu'),\n",
       " Triple(source='vv2', relation='instance', target='sama'),\n",
       " Triple(source='vv3', relation='instance', target='habis'),\n",
       " Triple(source='vv4', relation='instance', target='pagi'),\n",
       " Triple(source='vv1', relation='mod', target='vv1'),\n",
       " Triple(source='vv3', relation='ARG1', target='vv3')]"
      ]
     },
     "metadata": {},
     "output_type": "display_data"
    },
    {
     "data": {
      "text/plain": [
       "['waktu_1', 'sama_1', 'habis_1', 'pagi_1']"
      ]
     },
     "metadata": {},
     "output_type": "display_data"
    },
    {
     "data": {
      "text/plain": [
       "[1, 0, 3]"
      ]
     },
     "metadata": {},
     "output_type": "display_data"
    },
    {
     "data": {
      "text/plain": [
       "['mod', ':root', 'ARG1']"
      ]
     },
     "metadata": {},
     "output_type": "display_data"
    },
    {
     "name": "stderr",
     "output_type": "stream",
     "text": [
      "Error: File 1 has less AMRs than file 2\n",
      "Ignoring remaining AMRs\n"
     ]
    },
    {
     "name": "stdout",
     "output_type": "stream",
     "text": [
      "F-score: 0.433\n"
     ]
    },
    {
     "data": {
      "text/plain": [
       "922"
      ]
     },
     "metadata": {},
     "output_type": "display_data"
    },
    {
     "data": {
      "text/plain": [
       "'vv1'"
      ]
     },
     "metadata": {},
     "output_type": "display_data"
    },
    {
     "data": {
      "text/plain": [
       "[Triple(source='vv1', relation='instance', target='rambut'),\n",
       " Triple(source='vv2', relation='instance', target='nenek'),\n",
       " Triple(source='vv3', relation='instance', target='krista'),\n",
       " Triple(source='vv4', relation='instance', target='warna'),\n",
       " Triple(source='vv5', relation='instance', target='putih'),\n",
       " Triple(source='vv1', relation='ARG0', target='vv2'),\n",
       " Triple(source='vv2', relation='name', target='vv3'),\n",
       " Triple(source='vv4', relation='mod', target='vv4')]"
      ]
     },
     "metadata": {},
     "output_type": "display_data"
    },
    {
     "data": {
      "text/plain": [
       "['rambut_1', 'nenek_1', 'krista_1', 'warna_1', 'putih_1']"
      ]
     },
     "metadata": {},
     "output_type": "display_data"
    },
    {
     "data": {
      "text/plain": [
       "[0, 1, 2, 4]"
      ]
     },
     "metadata": {},
     "output_type": "display_data"
    },
    {
     "data": {
      "text/plain": [
       "[':root', 'ARG0', 'name', 'mod']"
      ]
     },
     "metadata": {},
     "output_type": "display_data"
    },
    {
     "data": {
      "text/plain": [
       "1629"
      ]
     },
     "metadata": {},
     "output_type": "display_data"
    },
    {
     "data": {
      "text/plain": [
       "'vv1'"
      ]
     },
     "metadata": {},
     "output_type": "display_data"
    },
    {
     "data": {
      "text/plain": [
       "[Triple(source='vv1', relation='instance', target='jam'),\n",
       " Triple(source='vv2', relation='instance', target='satu'),\n",
       " Triple(source='vv3', relation='instance', target='lalu'),\n",
       " Triple(source='vv4', relation='instance', target='stasiun'),\n",
       " Triple(source='vv5', relation='instance', target='kami'),\n",
       " Triple(source='vv6', relation='instance', target='tunggu'),\n",
       " Triple(source='vv1', relation='mod', target='vv2'),\n",
       " Triple(source='vv1', relation='mod', target='vv3'),\n",
       " Triple(source='vv1', relation='mod', target='vv4'),\n",
       " Triple(source='vv5', relation='mod', target='vv5')]"
      ]
     },
     "metadata": {},
     "output_type": "display_data"
    },
    {
     "data": {
      "text/plain": [
       "['jam_1', 'satu_1', 'lalu_1', 'stasiun_1', 'kami_1', 'tunggu_1']"
      ]
     },
     "metadata": {},
     "output_type": "display_data"
    },
    {
     "data": {
      "text/plain": [
       "[0, 1, 1, 1, 5]"
      ]
     },
     "metadata": {},
     "output_type": "display_data"
    },
    {
     "data": {
      "text/plain": [
       "[':root', 'mod', 'mod', 'mod', 'mod']"
      ]
     },
     "metadata": {},
     "output_type": "display_data"
    },
    {
     "data": {
      "text/plain": [
       "2170"
      ]
     },
     "metadata": {},
     "output_type": "display_data"
    },
    {
     "data": {
      "text/plain": [
       "'vv1'"
      ]
     },
     "metadata": {},
     "output_type": "display_data"
    },
    {
     "data": {
      "text/plain": [
       "[Triple(source='vv1', relation='instance', target='pergi'),\n",
       " Triple(source='vv2', relation='instance', target='ibu'),\n",
       " Triple(source='vv3', relation='instance', target='kantor'),\n",
       " Triple(source='vv4', relation='instance', target='antar'),\n",
       " Triple(source='vv5', relation='instance', target='dan'),\n",
       " Triple(source='vv6', relation='instance', target='ayah'),\n",
       " Triple(source='vv7', relation='instance', target='ibu'),\n",
       " Triple(source='vv8', relation='instance', target='pasar'),\n",
       " Triple(source='vv1', relation='ARG0', target='vv2'),\n",
       " Triple(source='vv1', relation='location', target='vv3'),\n",
       " Triple(source='vv4', relation='mod', target='vv4'),\n",
       " Triple(source='vv4', relation='ARG0', target='vv5'),\n",
       " Triple(source='vv4', relation='ARG1', target='vv6'),\n",
       " Triple(source='vv4', relation='location', target='vv7')]"
      ]
     },
     "metadata": {},
     "output_type": "display_data"
    },
    {
     "data": {
      "text/plain": [
       "['pergi_1',\n",
       " 'ibu_1',\n",
       " 'kantor_1',\n",
       " 'antar_1',\n",
       " 'dan_1',\n",
       " 'ayah_1',\n",
       " 'ibu_2',\n",
       " 'pasar_1']"
      ]
     },
     "metadata": {},
     "output_type": "display_data"
    },
    {
     "data": {
      "text/plain": [
       "[0, 1, 1, 4, 4, 4, 4]"
      ]
     },
     "metadata": {},
     "output_type": "display_data"
    },
    {
     "data": {
      "text/plain": [
       "[':root', 'ARG0', 'location', 'mod', 'ARG0', 'ARG1', 'location']"
      ]
     },
     "metadata": {},
     "output_type": "display_data"
    },
    {
     "name": "stderr",
     "output_type": "stream",
     "text": [
      "Error: File 1 has less AMRs than file 2\n",
      "Ignoring remaining AMRs\n"
     ]
    },
    {
     "name": "stdout",
     "output_type": "stream",
     "text": [
      "F-score: 0.462\n"
     ]
    },
    {
     "data": {
      "text/plain": [
       "1952"
      ]
     },
     "metadata": {},
     "output_type": "display_data"
    },
    {
     "data": {
      "text/plain": [
       "'vv3'"
      ]
     },
     "metadata": {},
     "output_type": "display_data"
    },
    {
     "data": {
      "text/plain": [
       "[Triple(source='vv1', relation='instance', target='pagi'),\n",
       " Triple(source='vv2', relation='instance', target='kebun'),\n",
       " Triple(source='vv3', relation='instance', target='potong'),\n",
       " Triple(source='vv4', relation='instance', target='bapak'),\n",
       " Triple(source='vv5', relation='instance', target='siman'),\n",
       " Triple(source='vv6', relation='instance', target='rumput'),\n",
       " Triple(source='vv1', relation='mod', target='vv1'),\n",
       " Triple(source='vv3', relation='ARG0', target='vv3'),\n",
       " Triple(source='vv4', relation='name', target='vv4'),\n",
       " Triple(source='vv3', relation='ARG1', target='vv5')]"
      ]
     },
     "metadata": {},
     "output_type": "display_data"
    },
    {
     "data": {
      "text/plain": [
       "['pagi_1', 'kebun_1', 'potong_1', 'bapak_1', 'siman_1', 'rumput_1']"
      ]
     },
     "metadata": {},
     "output_type": "display_data"
    },
    {
     "data": {
      "text/plain": [
       "[1, 0, 3, 4, 3]"
      ]
     },
     "metadata": {},
     "output_type": "display_data"
    },
    {
     "data": {
      "text/plain": [
       "['mod', ':root', 'ARG0', 'name', 'ARG1']"
      ]
     },
     "metadata": {},
     "output_type": "display_data"
    },
    {
     "name": "stderr",
     "output_type": "stream",
     "text": [
      "Error: File 1 has less AMRs than file 2\n",
      "Ignoring remaining AMRs\n"
     ]
    },
    {
     "name": "stdout",
     "output_type": "stream",
     "text": [
      "F-score: 0.599\n"
     ]
    },
    {
     "data": {
      "text/plain": [
       "2430"
      ]
     },
     "metadata": {},
     "output_type": "display_data"
    },
    {
     "data": {
      "text/plain": [
       "'vv1'"
      ]
     },
     "metadata": {},
     "output_type": "display_data"
    },
    {
     "data": {
      "text/plain": [
       "[Triple(source='vv1', relation='instance', target='pergi'),\n",
       " Triple(source='vv2', relation='instance', target='ibu'),\n",
       " Triple(source='vv3', relation='instance', target='kantor'),\n",
       " Triple(source='vv4', relation='instance', target='ayah'),\n",
       " Triple(source='vv5', relation='instance', target='atau'),\n",
       " Triple(source='vv6', relation='instance', target='antar'),\n",
       " Triple(source='vv7', relation='instance', target='ibu'),\n",
       " Triple(source='vv8', relation='instance', target='pasar'),\n",
       " Triple(source='vv1', relation='ARG0', target='vv2'),\n",
       " Triple(source='vv1', relation='location', target='vv3'),\n",
       " Triple(source='vv6', relation='ARG0', target='vv4'),\n",
       " Triple(source='vv4', relation='mod', target='vv5'),\n",
       " Triple(source='vv6', relation='ARG1', target='vv6'),\n",
       " Triple(source='vv6', relation='location', target='vv7')]"
      ]
     },
     "metadata": {},
     "output_type": "display_data"
    },
    {
     "data": {
      "text/plain": [
       "['pergi_1',\n",
       " 'ibu_1',\n",
       " 'kantor_1',\n",
       " 'ayah_1',\n",
       " 'atau_1',\n",
       " 'antar_1',\n",
       " 'ibu_2',\n",
       " 'pasar_1']"
      ]
     },
     "metadata": {},
     "output_type": "display_data"
    },
    {
     "data": {
      "text/plain": [
       "[0, 1, 1, 6, 4, 6, 6]"
      ]
     },
     "metadata": {},
     "output_type": "display_data"
    },
    {
     "data": {
      "text/plain": [
       "[':root', 'ARG0', 'location', 'ARG0', 'mod', 'ARG1', 'location']"
      ]
     },
     "metadata": {},
     "output_type": "display_data"
    },
    {
     "name": "stderr",
     "output_type": "stream",
     "text": [
      "Error: File 1 has less AMRs than file 2\n",
      "Ignoring remaining AMRs\n"
     ]
    },
    {
     "name": "stdout",
     "output_type": "stream",
     "text": [
      "F-score: 0.707\n"
     ]
    },
    {
     "name": "stderr",
     "output_type": "stream",
     "text": [
      "\n",
      "100%|███████████████████████████████████████████████████████████████████████████████████| 1/1 [07:05<00:00, 425.02s/it]\u001b[A\n",
      "100%|███████████████████████████████████████████████████████████████████████████████████| 1/1 [07:05<00:00, 425.02s/it]"
     ]
    },
    {
     "name": "stdout",
     "output_type": "stream",
     "text": [
      "F-score: 0.814\n"
     ]
    },
    {
     "name": "stderr",
     "output_type": "stream",
     "text": [
      "\n"
     ]
    }
   ],
   "source": [
    "K_SPLIT = 5\n",
    "\n",
    "trained_models = []\n",
    "experiment_tqdm = tqdm(experiment_params)\n",
    "for experiment_param in experiment_tqdm:\n",
    "    train_tqdm = tqdm(experiment_param.model_params)\n",
    "    for model_param in train_tqdm: \n",
    "        model, performance = run_k_fold_validation(dependency_features_df,\n",
    "                                                   n_split=K_SPLIT,\n",
    "                                                   shuffle=True,\n",
    "                                                   word_vec=word_vec,\n",
    "                                                   label_encoder=label_encoder,\n",
    "                                                   one_hot_encoder=one_hot_encoder,\n",
    "                                                   feature_filter=feature_filter_type,\n",
    "                                                   model_name=experiment_param.model_name, \n",
    "                                                   params=model_param)\n",
    "        model_param_string = ''\n",
    "        if (model_param is not None):\n",
    "            model_param_string = '_'.join([\"{}_{}\".format(key, model_param[key]) for key in model_param])\n",
    "        model_name = experiment_param.model_name + '_' + model_param_string\n",
    "        trained_models.append(TrainingModel(model_name, model, performance, labels))"
   ]
  },
  {
   "cell_type": "code",
   "execution_count": null,
   "metadata": {},
   "outputs": [],
   "source": []
  },
  {
   "cell_type": "code",
   "execution_count": 29,
   "metadata": {},
   "outputs": [
    {
     "name": "stdout",
     "output_type": "stream",
     "text": [
      "['positional']\n"
     ]
    },
    {
     "data": {
      "text/html": [
       "<div>\n",
       "<style scoped>\n",
       "    .dataframe tbody tr th:only-of-type {\n",
       "        vertical-align: middle;\n",
       "    }\n",
       "\n",
       "    .dataframe tbody tr th {\n",
       "        vertical-align: top;\n",
       "    }\n",
       "\n",
       "    .dataframe thead th {\n",
       "        text-align: right;\n",
       "    }\n",
       "</style>\n",
       "<table border=\"1\" class=\"dataframe\">\n",
       "  <thead>\n",
       "    <tr style=\"text-align: right;\">\n",
       "      <th></th>\n",
       "      <th>accuracy</th>\n",
       "      <th>f1_macro</th>\n",
       "      <th>smatch</th>\n",
       "    </tr>\n",
       "    <tr>\n",
       "      <th>model_name</th>\n",
       "      <th></th>\n",
       "      <th></th>\n",
       "      <th></th>\n",
       "    </tr>\n",
       "  </thead>\n",
       "  <tbody>\n",
       "    <tr>\n",
       "      <td>xgb_learning_rate_0.1_max_depth_8</td>\n",
       "      <td>0.977748</td>\n",
       "      <td>0.974223</td>\n",
       "      <td>0.629667</td>\n",
       "    </tr>\n",
       "  </tbody>\n",
       "</table>\n",
       "</div>"
      ],
      "text/plain": [
       "                                   accuracy  f1_macro    smatch\n",
       "model_name                                                     \n",
       "xgb_learning_rate_0.1_max_depth_8  0.977748  0.974223  0.629667"
      ]
     },
     "execution_count": 29,
     "metadata": {},
     "output_type": "execute_result"
    }
   ],
   "source": [
    "print(feature_filter_type)\n",
    "report_df = create_experiment_report(trained_models)\n",
    "report_df #akurasi dan f1 macro nya meningkat daripada punya adylan, tapi smatch turun "
   ]
  },
  {
   "cell_type": "code",
   "execution_count": 30,
   "metadata": {},
   "outputs": [
    {
     "name": "stdout",
     "output_type": "stream",
     "text": [
      "----xgb_learning_rate_0.1_max_depth_8----\n",
      "\n",
      "Accuracy: 0.978\n",
      "F1 Micro : 0.978\n",
      "F1 Macro: 0.974\n",
      "SMATCH: 0.630\n"
     ]
    }
   ],
   "source": [
    "best_model = sorted(trained_models, reverse=True)[0]\n",
    "best_model.print_metrics()\n",
    "best_model.save()\n",
    "\n",
    "best_model_filename = my_dir+\"saved_model\\\\{}_best_v2.pickle.dat\".format(best_model.name)\n",
    "with open(best_model_filename, 'wb') as f:\n",
    "    pickle.dump(best_model.model,f)"
   ]
  },
  {
   "cell_type": "code",
   "execution_count": 40,
   "metadata": {},
   "outputs": [
    {
     "name": "stdout",
     "output_type": "stream",
     "text": [
      "----xgb_learning_rate_0.1_max_depth_8----\n",
      "\n",
      "Accuracy: 0.975\n",
      "F1 Micro : 0.975\n",
      "F1 Macro: 0.967\n",
      "SMATCH: 0.620\n"
     ]
    }
   ],
   "source": [
    "best_model = sorted(trained_models, reverse=True)[0]\n",
    "best_model.print_metrics()\n",
    "best_model.save()\n",
    "\n",
    "best_model_filename = my_dir+\"saved_model\\\\{}_best_v2.pickle.dat\".format(best_model.name)\n",
    "with open(best_model_filename, 'wb') as f:\n",
    "    pickle.dump(best_model.model,f)"
   ]
  },
  {
   "cell_type": "markdown",
   "metadata": {},
   "source": [
    "## Load best model"
   ]
  },
  {
   "cell_type": "code",
   "execution_count": 31,
   "metadata": {},
   "outputs": [],
   "source": [
    "best_model_filename = my_dir+\"saved_model\\\\{}_best_v2.pickle.dat\".format('xgb_learning_rate_0.1_max_depth_8')"
   ]
  },
  {
   "cell_type": "code",
   "execution_count": 32,
   "metadata": {},
   "outputs": [],
   "source": [
    "with open(best_model_filename, 'rb') as f:\n",
    "    best_model = pickle.load(open(best_model_filename, 'rb'))"
   ]
  },
  {
   "cell_type": "markdown",
   "metadata": {},
   "source": [
    "## Train for all data\n",
    "Karena sebelumnya itu, model cuma ditrain dengan __sebagian data train__ (karena sebagian lagi dijadikan __data val__ ketika k-fold). Nah sekarang, model ditrain dengan __seluruh data train__.\n",
    "<br>\n",
    "Tapi model ini parameternya tetap sama dengan yang \"xgb_learning_rate_0.1_max_depth_8\" (perbedaan hanya ada pada data yang digunakan untuk train saja)"
   ]
  },
  {
   "cell_type": "code",
   "execution_count": 33,
   "metadata": {},
   "outputs": [],
   "source": [
    "X = dependency_features_df.drop(['label'], axis=1)\n",
    "y = dependency_features_df['label']\n",
    "\n",
    "filtered_X = feature_selection(X, feature_filter_type)\n",
    "X_processed, y_processed = preprocess_features(filtered_X, y, one_hot_encoder, label_encoder)\n",
    "\n",
    "best_model = best_model.fit(np.array(X_processed), np.array(y_processed))"
   ]
  },
  {
   "cell_type": "code",
   "execution_count": 34,
   "metadata": {},
   "outputs": [],
   "source": [
    "with open(my_dir+\"saved_model/best_model_pretrained_v2.pickle.dat\", 'wb') as f:\n",
    "    pickle.dump(best_model,f)"
   ]
  },
  {
   "cell_type": "code",
   "execution_count": 35,
   "metadata": {},
   "outputs": [],
   "source": [
    "with open(my_dir+\"saved_model/one_hot_encoder_v2.pickle.dat\", 'wb') as f:\n",
    "    pickle.dump(one_hot_encoder,f)"
   ]
  },
  {
   "cell_type": "code",
   "execution_count": 36,
   "metadata": {},
   "outputs": [],
   "source": [
    "with open(my_dir+\"saved_model/label_encoder_v2.pickle.dat\", 'wb') as f:\n",
    "    pickle.dump(label_encoder,f)"
   ]
  },
  {
   "cell_type": "markdown",
   "metadata": {},
   "source": [
    "# Test"
   ]
  },
  {
   "cell_type": "code",
   "execution_count": 47,
   "metadata": {},
   "outputs": [],
   "source": [
    "# save amr data\n",
    "save_amr_data(test_amr_dataset, amr_test_prediction_path)\n",
    "\n",
    "test_dependency_features_df = pd.read_csv(test_data_path)\n",
    "X_test, y_test = test_dependency_features_df.drop(['label'], axis=1), test_dependency_features_df['label']\n",
    "\n",
    "filtered_X_test = feature_selection(X_test, feature_filter_type)\n",
    "X_test_processed = preprocess(filtered_X_test, word_vec, one_hot_encoder)"
   ]
  },
  {
   "cell_type": "code",
   "execution_count": 48,
   "metadata": {},
   "outputs": [
    {
     "name": "stdout",
     "output_type": "stream",
     "text": [
      "Accuracy: 0.864\n",
      "F1 Micro : 0.864\n",
      "F1 Macro: 0.804\n",
      "SMATCH: 0.000\n",
      "label_encoder.classes_\t ['ARG0' 'ARG1' 'location' 'mod' 'name' 'time']\n",
      "precision\t\t [0.95       0.78947368 0.86956522 0.87855297 0.984375   0.44736842]\n",
      "recall\t\t\t [0.89492754 0.82677165 0.77922078 0.92896175 0.7875     0.5483871 ]\n",
      "fscore\t\t\t [0.92164179 0.80769231 0.82191781 0.90305445 0.875      0.49275362]\n",
      "support\t\t\t [276 254  77 366  80  31]\n"
     ]
    },
    {
     "data": {
      "image/png": "[encoded data removed]",
      "text/plain": [
       "<Figure size 432x288 with 2 Axes>"
      ]
     },
     "metadata": {
      "needs_background": "light"
     },
     "output_type": "display_data"
    }
   ],
   "source": [
    "y_test_pred = best_model.predict(np.array(X_test_processed))\n",
    "performance = get_metrics(label_encoder.transform(y_test), y_test_pred, label_encoder)\n",
    "cm = confusion_matrix(label_encoder.transform(y_test), y_test_pred)\n",
    "\n",
    "print_performance_metrics(performance, label_encoder.classes_)\n",
    "precision, recall, fscore, support = precision_recall_fscore_support(y_test, label_encoder.inverse_transform(y_test_pred), average=None, labels=label_encoder.classes_)\n",
    "print('label_encoder.classes_\\t',label_encoder.classes_)\n",
    "print('precision\\t\\t',precision)\n",
    "print('recall\\t\\t\\t',recall)\n",
    "print('fscore\\t\\t\\t',fscore)\n",
    "print('support\\t\\t\\t',support)\n",
    "\n",
    "ax= plt.subplot()\n",
    "sns.heatmap(cm, annot=True, ax = ax); #annot=True to annotate cells\n",
    "# labels, title and ticks\n",
    "ax.set_xlabel('Predicted labels');ax.set_ylabel('True labels'); \n",
    "ax.set_title('Confusion Matrix'); \n",
    "ax.xaxis.set_ticklabels(labels); ax.yaxis.set_ticklabels(labels);\n",
    "plt.tight_layout()\n",
    "plt.show()"
   ]
  },
  {
   "cell_type": "code",
   "execution_count": 27,
   "metadata": {},
   "outputs": [
    {
     "name": "stdout",
     "output_type": "stream",
     "text": [
      "Accuracy: 0.864\n",
      "F1 Micro : 0.864\n",
      "F1 Macro: 0.806\n",
      "SMATCH: 0.000\n",
      "label_encoder.classes_\t ['ARG0' 'ARG1' 'location' 'mod' 'name' 'time']\n",
      "precision\t\t [0.94636015 0.7810219  0.88571429 0.88020833 0.98333333 0.48571429]\n",
      "recall\t\t\t [0.89492754 0.84251969 0.80519481 0.92349727 0.7375     0.5483871 ]\n",
      "fscore\t\t\t [0.91992551 0.81060606 0.84353741 0.90133333 0.84285714 0.51515152]\n",
      "support\t\t\t [276 254  77 366  80  31]\n"
     ]
    },
    {
     "data": {
      "image/png": "[encoded data removed]",
      "text/plain": [
       "<Figure size 432x288 with 2 Axes>"
      ]
     },
     "metadata": {
      "needs_background": "light"
     },
     "output_type": "display_data"
    }
   ],
   "source": [
    "y_test_pred = best_model.predict(np.array(X_test_processed))\n",
    "performance = get_metrics(label_encoder.transform(y_test), y_test_pred, label_encoder)\n",
    "cm = confusion_matrix(label_encoder.transform(y_test), y_test_pred)\n",
    "\n",
    "print_performance_metrics(performance, label_encoder.classes_)\n",
    "precision, recall, fscore, support = precision_recall_fscore_support(y_test, label_encoder.inverse_transform(y_test_pred), average=None, labels=label_encoder.classes_)\n",
    "print('label_encoder.classes_\\t',label_encoder.classes_)\n",
    "print('precision\\t\\t',precision)\n",
    "print('recall\\t\\t\\t',recall)\n",
    "print('fscore\\t\\t\\t',fscore)\n",
    "print('support\\t\\t\\t',support)\n",
    "\n",
    "ax= plt.subplot()\n",
    "sns.heatmap(cm, annot=True, ax = ax); #annot=True to annotate cells\n",
    "# labels, title and ticks\n",
    "ax.set_xlabel('Predicted labels');ax.set_ylabel('True labels'); \n",
    "ax.set_title('Confusion Matrix'); \n",
    "ax.xaxis.set_ticklabels(labels); ax.yaxis.set_ticklabels(labels);\n",
    "plt.tight_layout()\n",
    "plt.show()"
   ]
  },
  {
   "cell_type": "code",
   "execution_count": 49,
   "metadata": {},
   "outputs": [
    {
     "name": "stdout",
     "output_type": "stream",
     "text": [
      "\n",
      "label_encoder.classes_\t ['ARG0' 'ARG1' 'location' 'mod' 'name' 'time']\n",
      "precision\t\t [[0.95, 0.79, 0.87, 0.88, 0.98, 0.45]]\n",
      "recall\t\t\t [[0.89, 0.83, 0.78, 0.93, 0.79, 0.55]]\n",
      "fscore\t\t\t [[0.92, 0.81, 0.82, 0.9, 0.87, 0.49]]\n",
      "support\t\t\t [[276, 254, 77, 366, 80, 31]]\n"
     ]
    }
   ],
   "source": [
    "precision, recall, fscore, support = precision_recall_fscore_support(y_test, label_encoder.inverse_transform(y_test_pred), average=None, labels=label_encoder.classes_)\n",
    "print()\n",
    "func = lambda x: round(x,2)\n",
    "\n",
    "print('label_encoder.classes_\\t',label_encoder.classes_)\n",
    "print('precision\\t\\t',[list(map(func, precision))])\n",
    "print('recall\\t\\t\\t',[list(map(func, recall))])\n",
    "print('fscore\\t\\t\\t',[list(map(func, fscore))])\n",
    "print('support\\t\\t\\t',[list(map(func, support))])\n"
   ]
  },
  {
   "cell_type": "code",
   "execution_count": 29,
   "metadata": {},
   "outputs": [
    {
     "data": {
      "text/plain": [
       "array(['ARG0', 'ARG1', 'location', 'mod', 'name', 'time'], dtype=object)"
      ]
     },
     "execution_count": 29,
     "metadata": {},
     "output_type": "execute_result"
    }
   ],
   "source": [
    "labels"
   ]
  },
  {
   "cell_type": "code",
   "execution_count": 30,
   "metadata": {},
   "outputs": [
    {
     "data": {
      "text/plain": [
       "1084"
      ]
     },
     "execution_count": 30,
     "metadata": {},
     "output_type": "execute_result"
    }
   ],
   "source": [
    "len(label_encoder.transform(y_test))"
   ]
  },
  {
   "cell_type": "code",
   "execution_count": 31,
   "metadata": {},
   "outputs": [
    {
     "data": {
      "text/plain": [
       "1084"
      ]
     },
     "execution_count": 31,
     "metadata": {},
     "output_type": "execute_result"
    }
   ],
   "source": [
    "len(y_test_pred)"
   ]
  },
  {
   "cell_type": "code",
   "execution_count": 32,
   "metadata": {},
   "outputs": [
    {
     "data": {
      "image/png": "[encoded data removed]",
      "text/plain": [
       "<Figure size 432x288 with 2 Axes>"
      ]
     },
     "metadata": {
      "needs_background": "light"
     },
     "output_type": "display_data"
    },
    {
     "name": "stdout",
     "output_type": "stream",
     "text": [
      "[[247  25   0   4   0   0]\n",
      " [ 13 214   6  11   0  10]\n",
      " [  0  13  62   2   0   0]\n",
      " [  1  17   1 338   1   8]\n",
      " [  0   0   0  21  59   0]\n",
      " [  0   5   1   8   0  17]]\n"
     ]
    }
   ],
   "source": [
    "ax= plt.subplot()\n",
    "sns.heatmap(cm, annot=True, ax = ax); #annot=True to annotate cells\n",
    "# labels, title and ticks\n",
    "ax.set_xlabel('Predicted labels');ax.set_ylabel('True labels'); \n",
    "ax.set_title('Confusion Matrix');\n",
    "ax.set_ylim(sorted(ax.get_xlim(), reverse=True)) #supaya confusion matrix nya tidak ke crop\n",
    "ax.xaxis.set_ticklabels(labels); ax.yaxis.set_ticklabels(labels);\n",
    "plt.tight_layout()\n",
    "plt.show()\n",
    "\n",
    "print(cm)"
   ]
  },
  {
   "cell_type": "code",
   "execution_count": 33,
   "metadata": {},
   "outputs": [],
   "source": [
    "predictions = create_pediction_graph(X_test, y_test_pred)\n",
    "amr_graphs = []\n",
    "for idx, prediction in enumerate(predictions):\n",
    "    graph = create_amr_graph_from_prediction(prediction)\n",
    "    amr_graphs.append(graph)\n",
    "\n",
    "save_amr_graphs(amr_graphs, amr_test_prediction_path)"
   ]
  },
  {
   "cell_type": "markdown",
   "metadata": {},
   "source": [
    "#### Show Test SMATCH score"
   ]
  },
  {
   "cell_type": "code",
   "execution_count": 51,
   "metadata": {},
   "outputs": [
    {
     "name": "stdout",
     "output_type": "stream",
     "text": [
      "Precision: 0.830\n",
      "Recall: 0.827\n",
      "F-score: 0.829\n"
     ]
    }
   ],
   "source": [
    "filepath = my_dir+\"data\\\\test\\\\test\" \n",
    "%run smatch.py -f {filepath}.pred.txt {filepath}.txt --pr --significant 3"
   ]
  },
  {
   "cell_type": "markdown",
   "metadata": {},
   "source": [
    "### Test Berita\n"
   ]
  },
  {
   "cell_type": "code",
   "execution_count": 52,
   "metadata": {},
   "outputs": [],
   "source": [
    "TEST_BERITA_DIR = my_dir+\"data\\\\raw\\\\test\\\\\"\n",
    "TEST_BERITA_FILE_NAMES = [\"b-salah-darat.csv\",\"c-gedung-roboh.csv\",\"d-indo-fuji.csv\", \"f-bunuh-diri.csv\", \"g-gempa-dieng.csv\"]\n",
    "TEST_BERITA_FILE_PATHS = [TEST_BERITA_DIR + \"labeled_df_\"+ filename for filename in TEST_BERITA_FILE_NAMES]"
   ]
  },
  {
   "cell_type": "code",
   "execution_count": 53,
   "metadata": {},
   "outputs": [
    {
     "name": "stdout",
     "output_type": "stream",
     "text": [
      "b-salah-darat\n",
      "\n",
      "Accuracy: 0.706\n",
      "F1 Micro : 0.706\n",
      "F1 Macro: 0.503\n",
      "SMATCH: 0.000\n",
      "['ARG0' 'ARG1' 'location' 'mod' 'name' 'time']\n",
      "[0.84375    0.74242424 0.6875     0.6986755  0.33333333 0.        ]\n",
      "[0.675      0.67123288 0.66666667 0.94618834 0.04545455 0.        ]\n",
      "[0.75       0.70503597 0.67692308 0.80380952 0.08       0.        ]\n",
      "[ 40  73  33 223  66   7]\n",
      "Precision: 0.690\n",
      "Recall: 0.663\n",
      "F-score: 0.676\n",
      "c-gedung-roboh\n",
      "\n",
      "Accuracy: 0.716\n",
      "F1 Micro : 0.716\n",
      "F1 Macro: 0.455\n",
      "SMATCH: 0.000\n",
      "['ARG0' 'ARG1' 'location' 'mod' 'name' 'time']\n",
      "[0.92307692 0.76190476 0.         0.73895582 0.57142857 0.125     ]\n",
      "[0.68571429 0.57142857 0.         0.95336788 0.22857143 0.14285714]\n",
      "[0.78688525 0.65306122 0.         0.83257919 0.32653061 0.13333333]\n",
      "[ 35  84  16 193  35   7]\n",
      "Precision: 0.699\n",
      "Recall: 0.658\n",
      "F-score: 0.678\n",
      "d-indo-fuji\n",
      "\n",
      "Accuracy: 0.822\n",
      "F1 Micro : 0.822\n",
      "F1 Macro: 0.533\n",
      "SMATCH: 0.000\n",
      "['ARG0' 'ARG1' 'location' 'mod' 'name' 'time']\n",
      "[0.96428571 0.85365854 0.         0.84960422 0.46153846 0.        ]\n",
      "[0.64285714 0.67307692 0.         0.96696697 0.15789474 0.        ]\n",
      "[0.77142857 0.75268817 0.         0.90449438 0.23529412 0.        ]\n",
      "[ 42 104   0 333  38   0]\n"
     ]
    },
    {
     "name": "stderr",
     "output_type": "stream",
     "text": [
      "C:\\Users\\Asus\\Anaconda3\\lib\\site-packages\\sklearn\\metrics\\_classification.py:1268: UndefinedMetricWarning: Precision and F-score are ill-defined and being set to 0.0 in labels with no predicted samples. Use `zero_division` parameter to control this behavior.\n",
      "  _warn_prf(average, modifier, msg_start, len(result))\n",
      "C:\\Users\\Asus\\Anaconda3\\lib\\site-packages\\sklearn\\metrics\\_classification.py:1268: UndefinedMetricWarning: Recall and F-score are ill-defined and being set to 0.0 in labels with no true samples. Use `zero_division` parameter to control this behavior.\n",
      "  _warn_prf(average, modifier, msg_start, len(result))\n"
     ]
    },
    {
     "name": "stdout",
     "output_type": "stream",
     "text": [
      "Precision: 0.696\n",
      "Recall: 0.682\n",
      "F-score: 0.689\n",
      "f-bunuh-diri\n",
      "\n",
      "Accuracy: 0.742\n",
      "F1 Micro : 0.742\n",
      "F1 Macro: 0.472\n",
      "SMATCH: 0.000\n",
      "['ARG0' 'ARG1' 'location' 'mod' 'name' 'time']\n",
      "[0.75862069 0.82857143 0.54545455 0.74418605 0.57142857 0.        ]\n",
      "[0.70967742 0.55769231 0.25       0.97560976 0.15384615 0.        ]\n",
      "[0.73333333 0.66666667 0.34285714 0.84432718 0.24242424 0.        ]\n",
      "[ 31  52  24 164  26   1]\n",
      "Precision: 0.674\n",
      "Recall: 0.674\n",
      "F-score: 0.674\n",
      "g-gempa-dieng\n",
      "\n",
      "Accuracy: 0.732\n",
      "F1 Micro : 0.732\n",
      "F1 Macro: 0.565\n",
      "SMATCH: 0.000\n",
      "['ARG0' 'ARG1' 'location' 'mod' 'name' 'time']\n",
      "[0.77777778 0.80487805 0.125      0.72826087 0.81818182 1.        ]\n",
      "[0.77777778 0.61111111 0.1        0.96402878 0.24324324 0.42857143]\n",
      "[0.77777778 0.69473684 0.11111111 0.82972136 0.375      0.6       ]\n",
      "[ 18  54  10 139  37   7]\n",
      "Precision: 0.665\n",
      "Recall: 0.661\n",
      "F-score: 0.663\n"
     ]
    }
   ],
   "source": [
    "for filepath in TEST_BERITA_FILE_NAMES:\n",
    "    topic = filepath.split('.')[0]\n",
    "    print(topic)\n",
    "    print()\n",
    "    \n",
    "    test_berita_filepath = TEST_BERITA_DIR+\"labeled_df_\"+filepath\n",
    "    test_dependency_features_df = pd.read_csv(test_berita_filepath)\n",
    "    X_test, y_test = test_dependency_features_df.drop(['label'], axis=1), test_dependency_features_df['label']\n",
    "\n",
    "    filtered_X_test = feature_selection(X_test, feature_filter_type)\n",
    "    X_test_processed = preprocess(filtered_X_test, word_vec, one_hot_encoder)\n",
    "    \n",
    "    y_test_pred = best_model.predict(np.array(X_test_processed))\n",
    "    performance = get_metrics(label_encoder.transform(y_test), y_test_pred, label_encoder)\n",
    "    cm = confusion_matrix(label_encoder.transform(y_test), y_test_pred)\n",
    "\n",
    "    print_performance_metrics(performance, label_encoder.classes_)\n",
    "    precision, recall, fscore, support = precision_recall_fscore_support(y_test, label_encoder.inverse_transform(y_test_pred), average=None, labels=label_encoder.classes_)\n",
    "    print(label_encoder.classes_)\n",
    "    print(precision)\n",
    "    print(recall)\n",
    "    print(fscore)\n",
    "    print(support)\n",
    "\n",
    "#     ax= plt.subplot()\n",
    "#     sns.heatmap(cm, annot=True, ax = ax); #annot=True to annotate cells\n",
    "#     # labels, title and ticks\n",
    "#     ax.set_xlabel('Predicted labels');ax.set_ylabel('True labels'); \n",
    "#     ax.set_title('Confusion Matrix'); \n",
    "#     ax.xaxis.set_ticklabels(labels); ax.yaxis.set_ticklabels(labels);\n",
    "#     plt.show()\n",
    "    \n",
    "    predictions = create_pediction_graph(X_test, y_test_pred)\n",
    "    amr_graphs = []\n",
    "    for idx, prediction in enumerate(predictions):\n",
    "        graph = create_amr_graph_from_prediction(prediction)\n",
    "        amr_graphs.append(graph)\n",
    "\n",
    "    amr_output_path = TEST_BERITA_DIR+'amr_output_'+ topic\n",
    "    save_amr_graphs(amr_graphs, amr_output_path)\n",
    "    amr_test_path = TEST_BERITA_DIR+topic+\".txt\"\n",
    "    \n",
    "    %run smatch.py -f {amr_output_path}.pred.txt {amr_test_path} --pr --significant 3"
   ]
  },
  {
   "cell_type": "code",
   "execution_count": 36,
   "metadata": {},
   "outputs": [
    {
     "name": "stdout",
     "output_type": "stream",
     "text": [
      "b-salah-darat\n",
      "\n",
      "Accuracy: 0.708\n",
      "F1 Micro : 0.708\n",
      "F1 Macro: 0.501\n",
      "SMATCH: 0.000\n",
      "['ARG0' 'ARG1' 'location' 'mod' 'name' 'time']\n",
      "[0.86111111 0.73684211 0.7        0.69551282 0.4        0.        ]\n",
      "[0.75609756 0.62686567 0.63636364 0.95175439 0.02985075 0.        ]\n",
      "[0.80519481 0.67741935 0.66666667 0.8037037  0.05555556 0.        ]\n",
      "[ 41  67  33 228  67   6]\n",
      "Precision: 0.695\n",
      "Recall: 0.668\n",
      "F-score: 0.681\n",
      "c-gedung-roboh\n",
      "\n",
      "Accuracy: 0.738\n",
      "F1 Micro : 0.738\n",
      "F1 Macro: 0.485\n",
      "SMATCH: 0.000\n",
      "['ARG0' 'ARG1' 'location' 'mod' 'name' 'time']\n",
      "[1.         0.79310345 0.125      0.74708171 0.55555556 0.18181818]\n",
      "[0.75       0.58227848 0.06666667 0.96482412 0.14705882 0.28571429]\n",
      "[0.85714286 0.67153285 0.08695652 0.84210526 0.23255814 0.22222222]\n",
      "[ 36  79  15 199  34   7]\n",
      "Precision: 0.709\n",
      "Recall: 0.667\n",
      "F-score: 0.688\n",
      "d-indo-fuji\n",
      "\n",
      "Accuracy: 0.836\n",
      "F1 Micro : 0.836\n",
      "F1 Macro: 0.542\n",
      "SMATCH: 0.000\n",
      "['ARG0' 'ARG1' 'location' 'mod' 'name' 'time']\n",
      "[0.96428571 0.86419753 0.         0.85233161 0.6        0.        ]\n",
      "[0.65853659 0.69306931 0.         0.97626113 0.15789474 0.        ]\n",
      "[0.7826087  0.76923077 0.         0.91009682 0.25       0.        ]\n",
      "[ 41 101   0 337  38   0]\n"
     ]
    },
    {
     "name": "stderr",
     "output_type": "stream",
     "text": [
      "C:\\Users\\Asus\\Anaconda3\\lib\\site-packages\\sklearn\\metrics\\_classification.py:1268: UndefinedMetricWarning: Precision and F-score are ill-defined and being set to 0.0 in labels with no predicted samples. Use `zero_division` parameter to control this behavior.\n",
      "  _warn_prf(average, modifier, msg_start, len(result))\n",
      "C:\\Users\\Asus\\Anaconda3\\lib\\site-packages\\sklearn\\metrics\\_classification.py:1268: UndefinedMetricWarning: Recall and F-score are ill-defined and being set to 0.0 in labels with no true samples. Use `zero_division` parameter to control this behavior.\n",
      "  _warn_prf(average, modifier, msg_start, len(result))\n"
     ]
    },
    {
     "name": "stdout",
     "output_type": "stream",
     "text": [
      "Precision: 0.697\n",
      "Recall: 0.683\n",
      "F-score: 0.690\n",
      "f-bunuh-diri\n",
      "\n",
      "Accuracy: 0.721\n",
      "F1 Micro : 0.721\n",
      "F1 Macro: 0.437\n",
      "SMATCH: 0.000\n",
      "['ARG0' 'ARG1' 'location' 'mod' 'name' 'time']\n",
      "[0.7        0.7        0.28571429 0.76585366 0.46666667 0.        ]\n",
      "[0.72413793 0.56       0.07407407 0.96319018 0.24137931 0.        ]\n",
      "[0.71186441 0.62222222 0.11764706 0.85326087 0.31818182 0.        ]\n",
      "[ 29  50  27 163  29   0]\n"
     ]
    },
    {
     "name": "stderr",
     "output_type": "stream",
     "text": [
      "C:\\Users\\Asus\\Anaconda3\\lib\\site-packages\\sklearn\\metrics\\_classification.py:1268: UndefinedMetricWarning: Recall and F-score are ill-defined and being set to 0.0 in labels with no true samples. Use `zero_division` parameter to control this behavior.\n",
      "  _warn_prf(average, modifier, msg_start, len(result))\n"
     ]
    },
    {
     "name": "stdout",
     "output_type": "stream",
     "text": [
      "Precision: 0.682\n",
      "Recall: 0.682\n",
      "F-score: 0.682\n",
      "g-gempa-dieng\n",
      "\n",
      "Accuracy: 0.736\n",
      "F1 Micro : 0.736\n",
      "F1 Macro: 0.561\n",
      "SMATCH: 0.000\n",
      "['ARG0' 'ARG1' 'location' 'mod' 'name' 'time']\n",
      "[0.7        0.72727273 0.1        0.77173913 0.76923077 0.8       ]\n",
      "[0.77777778 0.47058824 0.16666667 0.96598639 0.27777778 0.57142857]\n",
      "[0.73684211 0.57142857 0.125      0.85800604 0.40816327 0.66666667]\n",
      "[ 18  51   6 147  36   7]\n",
      "Precision: 0.680\n",
      "Recall: 0.675\n",
      "F-score: 0.677\n"
     ]
    }
   ],
   "source": [
    "for filepath in TEST_BERITA_FILE_NAMES:\n",
    "    topic = filepath.split('.')[0]\n",
    "    print(topic)\n",
    "    print()\n",
    "    \n",
    "    test_berita_filepath = TEST_BERITA_DIR+\"labeled_df_\"+filepath\n",
    "    test_dependency_features_df = pd.read_csv(test_berita_filepath)\n",
    "    X_test, y_test = test_dependency_features_df.drop(['label'], axis=1), test_dependency_features_df['label']\n",
    "\n",
    "    filtered_X_test = feature_selection(X_test, feature_filter_type)\n",
    "    X_test_processed = preprocess(filtered_X_test, word_vec, one_hot_encoder)\n",
    "    \n",
    "    y_test_pred = best_model.predict(np.array(X_test_processed))\n",
    "    performance = get_metrics(label_encoder.transform(y_test), y_test_pred, label_encoder)\n",
    "    cm = confusion_matrix(label_encoder.transform(y_test), y_test_pred)\n",
    "\n",
    "    print_performance_metrics(performance, label_encoder.classes_)\n",
    "    precision, recall, fscore, support = precision_recall_fscore_support(y_test, label_encoder.inverse_transform(y_test_pred), average=None, labels=label_encoder.classes_)\n",
    "    print(label_encoder.classes_)\n",
    "    print(precision)\n",
    "    print(recall)\n",
    "    print(fscore)\n",
    "    print(support)\n",
    "\n",
    "#     ax= plt.subplot()\n",
    "#     sns.heatmap(cm, annot=True, ax = ax); #annot=True to annotate cells\n",
    "#     # labels, title and ticks\n",
    "#     ax.set_xlabel('Predicted labels');ax.set_ylabel('True labels'); \n",
    "#     ax.set_title('Confusion Matrix'); \n",
    "#     ax.xaxis.set_ticklabels(labels); ax.yaxis.set_ticklabels(labels);\n",
    "#     plt.show()\n",
    "    \n",
    "    predictions = create_pediction_graph(X_test, y_test_pred)\n",
    "    amr_graphs = []\n",
    "    for idx, prediction in enumerate(predictions):\n",
    "        graph = create_amr_graph_from_prediction(prediction)\n",
    "        amr_graphs.append(graph)\n",
    "\n",
    "    amr_output_path = TEST_BERITA_DIR+'amr_output_'+ topic\n",
    "    save_amr_graphs(amr_graphs, amr_output_path)\n",
    "    amr_test_path = TEST_BERITA_DIR+topic+\".txt\"\n",
    "    \n",
    "    %run smatch.py -f {amr_output_path}.pred.txt {amr_test_path} --pr --significant 3"
   ]
  },
  {
   "cell_type": "code",
   "execution_count": 37,
   "metadata": {},
   "outputs": [
    {
     "ename": "SyntaxError",
     "evalue": "illegal target for annotation (<ipython-input-37-fc16ecf9f1ac>, line 3)",
     "output_type": "error",
     "traceback": [
      "\u001b[1;36m  File \u001b[1;32m\"<ipython-input-37-fc16ecf9f1ac>\"\u001b[1;36m, line \u001b[1;32m3\u001b[0m\n\u001b[1;33m    F-score: 0.828\u001b[0m\n\u001b[1;37m                  ^\u001b[0m\n\u001b[1;31mSyntaxError\u001b[0m\u001b[1;31m:\u001b[0m illegal target for annotation\n"
     ]
    }
   ],
   "source": [
    "Precision: 0.831\n",
    "Recall: 0.826\n",
    "F-score: 0.828\n",
    "\n",
    "Precision: 0.667\n",
    "Recall: 0.663\n",
    "F-score: 0.665"
   ]
  },
  {
   "cell_type": "code",
   "execution_count": null,
   "metadata": {},
   "outputs": [],
   "source": []
  }
 ],
 "metadata": {
  "interpreter": {
   "hash": "0ca5d393f6b226cd3ca7fbdd8acf7d8339a1fda0aa6b601d6b6cc21d35a38bcb"
  },
  "kernelspec": {
   "display_name": "Python 3.8.11 64-bit ('amr': conda)",
   "name": "python3"
  },
  "language_info": {
   "codemirror_mode": {
    "name": "ipython",
    "version": 3
   },
   "file_extension": ".py",
   "mimetype": "text/x-python",
   "name": "python",
   "nbconvert_exporter": "python",
   "pygments_lexer": "ipython3",
   "version": "3.8.11"
  }
 },
 "nbformat": 4,
 "nbformat_minor": 4
}
