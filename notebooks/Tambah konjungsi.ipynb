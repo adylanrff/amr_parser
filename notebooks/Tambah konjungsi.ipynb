{
 "cells": [
  {
   "cell_type": "code",
   "execution_count": null,
   "metadata": {},
   "outputs": [],
   "source": [
    "konjungsi = ['dan', 'atau']"
   ]
  },
  {
   "cell_type": "code",
   "execution_count": 178,
   "metadata": {},
   "outputs": [],
   "source": [
    "def gabung2AMRmenjadi1(kumpulan_amr,kata_sambung):    \n",
    "    if penman.__version__ != '1.1.0':\n",
    "        package = 'Penman==1.1.0'\n",
    "        pip.main(['install', package])\n",
    "        reload(penman)\n",
    "\n",
    "    g_per_kalimat = [] \n",
    "\n",
    "    #nama variablenya diubah menjadi vv_ dulu \n",
    "    for indeks, amr in enumerate(kumpulan_amr) : \n",
    "        graph = penman.decode(amr)\n",
    "        t = penman.configure(graph)\n",
    "        t.reset_variables('vv{i}')\n",
    "        graph = penman.interpret(t)\n",
    "\n",
    "        g_per_kalimat.append(penman.encode(graph))\n",
    "\n",
    "    penambahan = 1 \n",
    "    \n",
    "    temp_root = '(vv0 / '+kata_sambung+')'\n",
    "    g = penman.decode(temp_root)\n",
    "\n",
    "    #digitnya vv_ asli akan ditambah sesuai dengan jumlah variabel amr graph kalimat sebelumnya\n",
    "    for indeks, amr in enumerate(g_per_kalimat) : \n",
    "        graph = penman.decode(amr)\n",
    "        max_vv = 0\n",
    "        \n",
    "        for x,y in enumerate(graph.triples):\n",
    "            old_vv = y[0][2:] #dari\n",
    "            new_vv = int(old_vv)+penambahan #dari\n",
    "            var = 'vv{0}'.format(new_vv)\n",
    "            old_vv_ = 0\n",
    "            \n",
    "            rel = y[1]\n",
    "            \n",
    "            if rel==':instance':\n",
    "                con = y[2]\n",
    "            else:\n",
    "                try: \n",
    "                    old_vv_ = y[2][2:] #ke\n",
    "                    new_vv_ = int(old_vv_)+penambahan #ke\n",
    "                    con = 'vv{0}'.format(new_vv_)\n",
    "                except:\n",
    "                    con = y[2]\n",
    "            \n",
    "            if x == 0:\n",
    "                g.triples.extend([(tuple(('vv0',':op'+str(indeks+1),var)))])\n",
    "            \n",
    "            g.triples.extend([(tuple((var,rel,con)))])\n",
    "            \n",
    "            try:\n",
    "                if int(old_vv) > max_vv:\n",
    "                    max_vv = int(old_vv)\n",
    "                if int(old_vv_) > max_vv:\n",
    "                    max_vv = int(old_vv_)\n",
    "            except:\n",
    "                pass\n",
    "                \n",
    "            if x == len(graph.triples)-1:\n",
    "                if max_vv > len(graph.instances()):\n",
    "                    penambahan = penambahan + max_vv\n",
    "                else:\n",
    "                    penambahan = penambahan + len(graph.instances())\n",
    "    \n",
    "    #nama variable diubah menjadi inisial_ kembali\n",
    "    t = penman.configure(g)\n",
    "    t.reset_variables('{prefix}{j}')\n",
    "    g = penman.interpret(t)\n",
    "    graph = penman.encode(g) \n",
    "    \n",
    "    return graph"
   ]
  },
  {
   "cell_type": "markdown",
   "metadata": {},
   "source": [
    "# Kalimat Yang Mau Digabung"
   ]
  },
  {
   "cell_type": "code",
   "execution_count": 151,
   "metadata": {},
   "outputs": [],
   "source": [
    "data_awal = 'amr_simple_amany.txt'\n",
    "my_data = {}\n",
    "with open(data_awal) as file:\n",
    "    amr=''\n",
    "    for line in file:\n",
    "        if '\\n' == line:\n",
    "            if id_amr in my_data:\n",
    "                if sent not in my_data[id_amr]['sent']:\n",
    "                    my_data[id_amr]['sent'].append(sent)\n",
    "                if amr not in my_data[id_amr]['amr']:\n",
    "                    my_data[id_amr]['amr'].append(amr)                \n",
    "            else:\n",
    "                my_data[id_amr] = {'sent':[sent],'amr':[amr]}\n",
    "            amr=''\n",
    "            continue\n",
    "        if ('# ::id ' in line):\n",
    "            id_amr = line.split()[2]\n",
    "#             print(id_amr, type(id_amr))\n",
    "        elif ('# ::snt ' in line):\n",
    "            temp_sent = line.split()[2:]\n",
    "            sent = ' '.join(temp_sent)\n",
    "#             print(sent)\n",
    "        else:\n",
    "            amr+=line\n",
    "#             print(amr)"
   ]
  },
  {
   "cell_type": "markdown",
   "metadata": {},
   "source": [
    "# Buat AMR gabungan dan Kalimat gabungan"
   ]
  },
  {
   "cell_type": "code",
   "execution_count": 195,
   "metadata": {
    "scrolled": true
   },
   "outputs": [],
   "source": [
    "count = 1\n",
    "list_key = list(my_data.keys())\n",
    "id_amr_terakhir = list_key[-1] #700\n",
    "list_kalimat = []\n",
    "list_amr = []\n",
    "\n",
    "for i,j in enumerate(my_data.keys()):\n",
    "    if i%2 ==0: #setiap genap\n",
    "        id1 = list_key[i] #genap\n",
    "        id2 = list_key[i+1] #ganjil\n",
    "        \n",
    "        sent1 = my_data[id1]['sent'][0]\n",
    "        sent2 = my_data[id2]['sent'][0]\n",
    "        \n",
    "        \n",
    "        amr1 = my_data[id1]['amr'][0]\n",
    "        amr2 = my_data[id2]['amr'][0]\n",
    "        \n",
    "        kumpulan_amr = [amr1,amr2]\n",
    "        kata_sambung = 'dan'\n",
    "        graf_gabungan = gabung2AMRmenjadi1(kumpulan_amr,kata_sambung)\n",
    "\n",
    "#         if id1 == '8':\n",
    "#             print(amr1)\n",
    "#             print(amr2)\n",
    "#             print(graf_gabungan)\n",
    "\n",
    "        list_kalimat.append(sent1+' '+kata_sambung+' '+sent2)\n",
    "        list_amr.append(graf_gabungan)\n",
    "        count+=1\n",
    "        \n",
    "for i,j in enumerate(my_data.keys()):\n",
    "    if i%2 ==0: #setiap genap\n",
    "        id1 = list_key[i] #genap\n",
    "        id2 = list_key[i+1] #ganjil\n",
    "        \n",
    "        sent1 = my_data[id1]['sent'][0]\n",
    "        sent2 = my_data[id2]['sent'][0]\n",
    "        \n",
    "        \n",
    "        amr1 = my_data[id1]['amr'][0]\n",
    "        amr2 = my_data[id2]['amr'][0]\n",
    "        \n",
    "        kumpulan_amr = [amr1,amr2]\n",
    "        kata_sambung = 'atau'\n",
    "        graf_gabungan = gabung2AMRmenjadi1(kumpulan_amr,kata_sambung)\n",
    "\n",
    "#         if id1 == '8':\n",
    "#             print(amr1)\n",
    "#             print(amr2)\n",
    "#             print(graf_gabungan)\n",
    "\n",
    "        list_kalimat.append(sent1+' '+kata_sambung+' '+sent2)\n",
    "        list_amr.append(graf_gabungan)\n",
    "        count+=1"
   ]
  },
  {
   "cell_type": "markdown",
   "metadata": {},
   "source": [
    "# Masukkan ke file baru"
   ]
  },
  {
   "cell_type": "code",
   "execution_count": 196,
   "metadata": {},
   "outputs": [],
   "source": [
    "data_akhir = 'amr_simple_amany_v2.txt'\n",
    "with open(data_akhir, 'w', encoding='utf-8') as file:\n",
    "    file.write('')    \n",
    "for i,j in enumerate(list_kalimat):\n",
    "    with open(data_akhir, 'a', encoding='utf-8') as file:\n",
    "        file.write('# ::id '+str(i+1+int(id_amr_terakhir))+'\\n')\n",
    "        file.write('# ::snt '+list_kalimat[i]+'\\n')\n",
    "        file.write(list_amr[i]+'\\n\\n')"
   ]
  },
  {
   "cell_type": "code",
   "execution_count": 197,
   "metadata": {},
   "outputs": [
    {
     "data": {
      "text/plain": [
       "524"
      ]
     },
     "execution_count": 197,
     "metadata": {},
     "output_type": "execute_result"
    }
   ],
   "source": [
    "len(list_kalimat)"
   ]
  },
  {
   "cell_type": "code",
   "execution_count": 198,
   "metadata": {},
   "outputs": [
    {
     "data": {
      "text/plain": [
       "524"
      ]
     },
     "execution_count": 198,
     "metadata": {},
     "output_type": "execute_result"
    }
   ],
   "source": [
    "len(my_data.keys())"
   ]
  },
  {
   "cell_type": "code",
   "execution_count": 182,
   "metadata": {},
   "outputs": [
    {
     "name": "stdout",
     "output_type": "stream",
     "text": [
      "Mereka akhirnya memilih untuk bergabung dan Pemandangannya terlihat indah\n",
      "(d / dan\n",
      "   :op1 (p / pilih\n",
      "           :ARG0 (m / mereka\n",
      "                    :ARG1 (g / gabung)))\n",
      "   :op2 (l / lihat\n",
      "           :ARG1 (p2 / pandang\n",
      "                     :mod (i / indah))))\n"
     ]
    }
   ],
   "source": [
    "i =90\n",
    "print(list_kalimat[i])\n",
    "print(list_amr[i])"
   ]
  },
  {
   "cell_type": "code",
   "execution_count": null,
   "metadata": {},
   "outputs": [],
   "source": []
  }
 ],
 "metadata": {
  "kernelspec": {
   "display_name": "Python 3",
   "language": "python",
   "name": "python3"
  },
  "language_info": {
   "codemirror_mode": {
    "name": "ipython",
    "version": 3
   },
   "file_extension": ".py",
   "mimetype": "text/x-python",
   "name": "python",
   "nbconvert_exporter": "python",
   "pygments_lexer": "ipython3",
   "version": "3.7.4"
  }
 },
 "nbformat": 4,
 "nbformat_minor": 2
}
