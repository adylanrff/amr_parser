{
 "cells": [
  {
   "cell_type": "code",
   "execution_count": 5,
   "metadata": {},
   "outputs": [
    {
     "output_type": "stream",
     "name": "stdout",
     "text": [
      "d:\\MasterDegree\\AMR\\amr-parser\n"
     ]
    }
   ],
   "source": [
    "# Make sure we are at the root of working directory\n",
    "%cd .."
   ]
  },
  {
   "cell_type": "code",
   "execution_count": 6,
   "metadata": {},
   "outputs": [],
   "source": [
    "import os\n",
    "import sys\n",
    "os.environ['TF_CPP_MIN_LOG_LEVEL'] = '2' \n",
    "module_path = os.path.abspath(os.path.join('.'))\n",
    "if module_path not in sys.path:\n",
    "    sys.path.append(module_path)"
   ]
  },
  {
   "cell_type": "code",
   "execution_count": null,
   "metadata": {},
   "outputs": [],
   "source": [
    "import io\n",
    "import pandas as pd\n",
    "import numpy as np\n",
    "import seaborn as sns\n",
    "import gensim\n",
    "import matplotlib.pyplot as plt\n",
    "import random\n",
    "import penman\n",
    "import pickle \n",
    "import math\n",
    "\n",
    "from collections import defaultdict\n",
    "\n",
    "from sklearn.model_selection import train_test_split, cross_val_score, StratifiedShuffleSplit\n",
    "from sklearn.tree import DecisionTreeClassifier, plot_tree, export_graphviz\n",
    "from sklearn.feature_extraction.text import CountVectorizer, TfidfVectorizer\n",
    "from sklearn.preprocessing import LabelEncoder, OneHotEncoder\n",
    "from sklearn.naive_bayes import MultinomialNB\n",
    "from sklearn.pipeline import Pipeline\n",
    "from sklearn.metrics import confusion_matrix , f1_score, accuracy_score, precision_recall_fscore_support\n",
    "\n",
    "from IPython.display import Image  \n",
    "from tqdm.auto import tqdm\n",
    "\n",
    "from xgboost import XGBClassifier\n",
    "\n",
    "RANDOM_STATE = 13516013\n",
    "random.seed(RANDOM_STATE)\n",
    "matplotlib.rcParams['figure.figsize'] = [15, 15]"
   ]
  },
  {
   "cell_type": "code",
   "execution_count": 8,
   "metadata": {},
   "outputs": [],
   "source": [
    "# data_path = \"data/raw/edge_prediction/dependency_parser_features_labeled.csv\"\n",
    "data_path = \"data/raw/edge_prediction/dependency_parser_features_labeled_no_unk.csv\"\n",
    "test_data_path = \"data/raw/edge_prediction/test_dependency_parser_features_labeled.csv\"\n",
    "amr_data_path = \"data/raw/edge_prediction/amr.csv\"\n",
    "amr_test_path = \"data/raw/edge_prediction/amr.test.csv\"\n",
    "\n",
    "amr_val_prediction_path = 'data/test/val'\n",
    "amr_test_prediction_path = 'data/test/test'\n",
    "\n",
    "\n",
    "feature_filter_type = ['positional']"
   ]
  },
  {
   "cell_type": "code",
   "execution_count": 9,
   "metadata": {},
   "outputs": [],
   "source": [
    "dependency_features_df = pd.read_csv(data_path)\n",
    "amr_dataset = pd.read_csv(amr_data_path)\n",
    "test_amr_dataset = pd.read_csv(amr_test_path)"
   ]
  },
  {
   "cell_type": "code",
   "execution_count": 10,
   "metadata": {},
   "outputs": [],
   "source": [
    "def feature_selection(dataset, filter_type='all'):\n",
    "    lexical_features = ['parent', 'child']\n",
    "    positional_features = ['parent_position', 'child_position']\n",
    "    structural_features = ['parent_pos', 'child_pos']\n",
    "    syntactic_features = ['dependency_role']\n",
    "    ner_features = ['parent_ner', 'child_ner']\n",
    "    \n",
    "    selected_dataset = dataset\n",
    "    \n",
    "    if filter_type != 'all':\n",
    "        if 'lexical' in filter_type:\n",
    "            selected_dataset = selected_dataset.drop(lexical_features, axis=1)\n",
    "        if 'positional' in filter_type:\n",
    "            selected_dataset = selected_dataset.drop(positional_features, axis=1)\n",
    "        if 'syntactic' in filter_type:\n",
    "            selected_dataset = selected_dataset.drop(syntactic_features+structural_features, axis=1)\n",
    "        if 'ner' in filter_type:\n",
    "            selected_dataset = selected_dataset.drop(ner_features, axis=1)\n",
    "        \n",
    "    return selected_dataset"
   ]
  },
  {
   "cell_type": "markdown",
   "metadata": {},
   "source": [
    "## Cross Validations"
   ]
  },
  {
   "cell_type": "code",
   "execution_count": 12,
   "metadata": {},
   "outputs": [],
   "source": [
    "def custom_dependency_parser_feature_k_fold(dataset, n_split, shuffle=False):\n",
    "    min_sentence_id = dataset.min()['sentence_id']\n",
    "    max_sentence_id = dataset.max()['sentence_id']\n",
    "    sentence_num = max_sentence_id\n",
    "    \n",
    "    sentence_ids = np.arange(min_sentence_id, max_sentence_id+1)\n",
    "    if (shuffle):\n",
    "        np.random.seed(RANDOM_STATE)\n",
    "        np.random.shuffle(sentence_ids)\n",
    "    \n",
    "    cur_sentence_id = min_sentence_id\n",
    "    split_size = sentence_num // n_split\n",
    "    \n",
    "    indexes = []\n",
    "    while (cur_sentence_id < max_sentence_id):\n",
    "        stop_sentence_id = min(cur_sentence_id + split_size-1, sentence_num)\n",
    "        test_sentence_ids = sentence_ids[cur_sentence_id:stop_sentence_id+1]\n",
    "        \n",
    "        test_condition = dataset.sentence_id.isin(test_sentence_ids)\n",
    "        train_condition = ~test_condition \n",
    "        \n",
    "        indexes.append((dataset[train_condition].index, dataset[test_condition].index))\n",
    "        cur_sentence_id = stop_sentence_id\n",
    "    \n",
    "    return indexes\n",
    "    \n",
    "def split_sentence(dataset, split):\n",
    "    random.seed(RANDOM_STATE)\n",
    "    sentence_num = dataset.max()['sentence_id']\n",
    "    train_length = round(sentence_num*(100-(split*100))/100)\n",
    "    sentence_indexes = random.sample(range(1, sentence_num+1), int(train_length))    \n",
    "    data_train, data_val = dataset[dataset.sentence_id.isin(sentence_indexes)], dataset[~dataset.sentence_id.isin(sentence_indexes)]\n",
    "    label = ['label']\n",
    "    return data_train.drop(label, axis=1), data_val.drop(label, axis=1), data_train[label], data_val[label]\n",
    "    "
   ]
  },
  {
   "cell_type": "markdown",
   "metadata": {},
   "source": [
    "### Save Val AMR data "
   ]
  },
  {
   "cell_type": "code",
   "execution_count": 13,
   "metadata": {},
   "outputs": [],
   "source": [
    "def save_amr_data(amr_data, filepath):\n",
    "    with open(filepath + '.txt', 'w+', encoding='utf-8') as f:\n",
    "        for idx, amr_graph in amr_data.values:\n",
    "            f.write(amr_graph)\n",
    "            f.write('\\n\\n')"
   ]
  },
  {
   "cell_type": "markdown",
   "metadata": {},
   "source": [
    "# Encoder"
   ]
  },
  {
   "cell_type": "markdown",
   "metadata": {},
   "source": [
    "### Label Encoder"
   ]
  },
  {
   "cell_type": "code",
   "execution_count": 14,
   "metadata": {},
   "outputs": [],
   "source": [
    "label_encoder = LabelEncoder()\n",
    "label_encoder.fit(dependency_features_df['label'])\n",
    "labels = label_encoder.classes_"
   ]
  },
  {
   "cell_type": "markdown",
   "metadata": {},
   "source": [
    "### One Hot Encoder"
   ]
  },
  {
   "cell_type": "code",
   "execution_count": 15,
   "metadata": {},
   "outputs": [
    {
     "output_type": "execute_result",
     "data": {
      "text/plain": [
       "OneHotEncoder(handle_unknown='ignore')"
      ]
     },
     "metadata": {},
     "execution_count": 15
    }
   ],
   "source": [
    "one_hot_encoder = OneHotEncoder(handle_unknown='ignore')\n",
    "\n",
    "filtered_dependency_features_df = feature_selection(dependency_features_df, feature_filter_type)\n",
    "one_hot_feature_names = ['parent_ner', 'child_ner', 'parent_pos', 'dependency_role','child_pos']\n",
    "one_hot_features = list(filtered_dependency_features_df.columns[filtered_dependency_features_df.columns.isin(one_hot_feature_names)])\n",
    "one_hot_encoder.fit(dependency_features_df[one_hot_features])"
   ]
  },
  {
   "cell_type": "code",
   "execution_count": 16,
   "metadata": {},
   "outputs": [
    {
     "output_type": "execute_result",
     "data": {
      "text/plain": [
       "[('parent_ner', 11),\n",
       " ('child_ner', 12),\n",
       " ('parent_pos', 13),\n",
       " ('dependency_role', 16),\n",
       " ('child_pos', 15)]"
      ]
     },
     "metadata": {},
     "execution_count": 16
    }
   ],
   "source": [
    "\n",
    "list(zip(one_hot_feature_names, [len(i) for i in one_hot_encoder.categories_]))"
   ]
  },
  {
   "cell_type": "markdown",
   "metadata": {},
   "source": [
    "## Load Word Embedding"
   ]
  },
  {
   "cell_type": "code",
   "execution_count": 17,
   "metadata": {},
   "outputs": [],
   "source": [
    "word_vec_model = gensim.models.Word2Vec.load('pretrained/word2vec/id/id.bin.gz')\n",
    "word_vec = word_vec_model.wv"
   ]
  },
  {
   "cell_type": "markdown",
   "metadata": {},
   "source": [
    "### Preprocess Features"
   ]
  },
  {
   "cell_type": "code",
   "execution_count": 18,
   "metadata": {},
   "outputs": [],
   "source": [
    "def preprocess(X_train, word_vec, one_hot_encoder):\n",
    "    \n",
    "    word_feature_names = ['parent', 'child']\n",
    "    one_hot_feature_names = ['parent_ner', 'child_ner', 'parent_pos', 'dependency_role', 'child_pos']\n",
    "    \n",
    "    word_features = list(X_train.columns[X_train.columns.isin(word_feature_names)])\n",
    "    one_hot_features = list(X_train.columns[X_train.columns.isin(one_hot_feature_names)])\n",
    "    \n",
    "    def check_word_features(X):\n",
    "        columns = [column in word_features for column in X.columns]\n",
    "        return any(columns)\n",
    "\n",
    "    contains_word_features = check_word_features(X_train)\n",
    "    \n",
    "    X_train_dropped = X_train\n",
    "    if (contains_word_features):\n",
    "        X_train_dropped = X_train.drop(word_features+one_hot_features, axis=1)\n",
    "    else:\n",
    "        X_train_dropped = X_train.drop(one_hot_features, axis=1)\n",
    "    \n",
    "    if contains_word_features:\n",
    "        X_train_word_data = X_train[word_features]\n",
    "        # load word embedding\n",
    "        embeddings = []\n",
    "        for data in X_train_word_data.values:\n",
    "            current_embedding = []\n",
    "            for word in data:\n",
    "                splitted_word = word.split('_')[0]\n",
    "                if splitted_word in word_vec:\n",
    "                    current_embedding.append(word_vec[splitted_word])\n",
    "                else:\n",
    "                    none = [0] * 300\n",
    "                    current_embedding.append(none)\n",
    "            embeddings.append(current_embedding)\n",
    "    \n",
    "    # load one hot encoder\n",
    "    X_train_one_hot_data = X_train[one_hot_features]\n",
    "    X_train_one_hot_encoded = one_hot_encoder.transform(X_train_one_hot_data).toarray()\n",
    "    \n",
    "    X_train = []\n",
    "    for idx, row in enumerate(X_train_dropped.values):\n",
    "        concatenated = None\n",
    "        if (contains_word_features):\n",
    "            concatenated = np.concatenate([row, X_train_one_hot_encoded[idx], embeddings[idx][0],embeddings[idx][1]])\n",
    "        else:\n",
    "            concatenated = np.concatenate([row, X_train_one_hot_encoded[idx]])\n",
    "            \n",
    "        X_train.append(concatenated)\n",
    "    \n",
    "    return X_train"
   ]
  },
  {
   "cell_type": "markdown",
   "metadata": {},
   "source": [
    "### Train Model"
   ]
  },
  {
   "cell_type": "code",
   "execution_count": 37,
   "metadata": {},
   "outputs": [],
   "source": [
    "def fit_predict_model(model_name, X_train, y_train, X_val, y_val, params):\n",
    "    supported_model_name = ['dtc', 'xgb']\n",
    "    if model_name not in supported_model_name:\n",
    "        raise Exception(\"Model not supported\")\n",
    "\n",
    "    if model_name == 'dtc':\n",
    "        model = DecisionTreeClassifier(random_state=RANDOM_STATE, **params)\n",
    "    elif model_name == 'xgb':\n",
    "        if not params:\n",
    "            params = {}\n",
    "        model = XGBClassifier(**params)\n",
    "    # Do training\n",
    "    model = model.fit(np.array(X_train), np.array(y_train))\n",
    "    # Do predict with val data\n",
    "    y_val_pred = model.predict(np.array(X_val))\n",
    "    \n",
    "    return model, y_val_pred\n",
    "\n",
    "def preprocess_features(X, y, one_hot_encoder, label_encoder):\n",
    "    # Preprocess features\n",
    "    X = preprocess(X, word_vec, one_hot_encoder)\n",
    "    # Preprocess labels\n",
    "    y = label_encoder.transform(np.ravel(y))\n",
    "\n",
    "    return X, y\n",
    "\n",
    "def run_hold_out_validation(dataset, split_percent, word_vec, label_encoder, one_hot_encoder,  model_name='dtc', params=None):\n",
    "    X_train, X_val, y_train, y_val = split_sentence(dataset, split_percent)\n",
    "    \n",
    "    # preprocess features\n",
    "    X_train, y_train = preprocess_features(X_train, y_train, one_hot_encoder, label_encoder)\n",
    "    X_val, y_val = preprocess_features(X_val, y_val, one_hot_encoder, label_encoder)\n",
    "\n",
    "    model, y_val_pred = fit_predict_model(model_name, X_train, y_train, X_val, y_val, params)\n",
    "    performance = get_metrics(y_val, y_val_pred, label_encoder)\n",
    "\n",
    "    return model, performance \n",
    "\n",
    "def build_amr_from_prediction(X,y):\n",
    "    predictions = create_pediction_graph(X, y)\n",
    "    amr_graphs = []\n",
    "    for idx, prediction in enumerate(predictions):\n",
    "        graph = create_amr_graph_from_prediction(prediction)\n",
    "        amr_graphs.append(graph)\n",
    "    return amr_graphs    \n",
    "\n",
    "def get_smatch_score(filepath):\n",
    "    smatch_output = !python tools/smatch/smatch.py -f {filepath}.pred.txt {filepath}.txt --significant 3\n",
    "    print(smatch_output)\n",
    "    f_score = float(smatch_output[0].split(' ')[1])\n",
    "    # smatch_output=[]\n",
    "    # %run tools/smatch/smatch.py -f {filepath}.pred.txt {filepath}.txt --significant 3\n",
    "    # with open('best_f_score_smatch.txt') as f:\n",
    "    #     for line in f:\n",
    "    #         smatch_output.append(line)\n",
    "\n",
    "    # f_score = float(smatch_output[0].split(' ')[1])\n",
    "    return f_score\n",
    "\n",
    "def run_k_fold_validation(dataset, n_split, word_vec, label_encoder, one_hot_encoder, shuffle=False, feature_filter='all', model_name='dtc', params=None):\n",
    "    folds = custom_dependency_parser_feature_k_fold(dataset, n_split, shuffle=shuffle)\n",
    "    label = ['label']\n",
    "    \n",
    "    performances = defaultdict(list)\n",
    "    \n",
    "    for train_idx, val_idx in folds:\n",
    "        train_dataset, val_dataset = dataset.iloc[train_idx], dataset.iloc[val_idx]\n",
    "        X_train, y_train = train_dataset.drop(label, axis=1), train_dataset[label]\n",
    "        X_val, y_val = val_dataset.drop(label, axis=1), val_dataset[label]\n",
    "        \n",
    "        filtered_X_train = feature_selection(X_train, feature_filter)\n",
    "        filtered_X_val = feature_selection(X_val, feature_filter)\n",
    "        \n",
    "        # save AMR Data\n",
    "        amr_val_df = amr_dataset[amr_dataset.sentence_id.isin(X_val.sentence_id.unique())]\n",
    "        save_amr_data(amr_val_df, amr_val_prediction_path)\n",
    "        \n",
    "        # preprocess features\n",
    "        X_train_processed, y_train_processed = preprocess_features(filtered_X_train, y_train, one_hot_encoder, label_encoder)\n",
    "        X_val_processed, y_val_processed = preprocess_features(filtered_X_val, y_val, one_hot_encoder, label_encoder)\n",
    "        \n",
    "        model, y_val_pred = fit_predict_model(model_name, X_train_processed, y_train_processed, X_val_processed, y_val_processed, params)\n",
    "        performance = get_metrics(y_val_processed, y_val_pred, label_encoder)\n",
    "\n",
    "        # build prediction\n",
    "        amr_graphs = build_amr_from_prediction(X_val, y_val_pred)\n",
    "        save_amr_graphs(amr_graphs, amr_val_prediction_path)\n",
    "        f_score = get_smatch_score(amr_val_prediction_path)\n",
    "        \n",
    "        for key in performance:\n",
    "            performances[key].append(performance[key])\n",
    "        performances['smatch'].append(f_score)\n",
    "    \n",
    "    for key in performances:\n",
    "        performances[key] = np.mean(performances[key])\n",
    "    \n",
    "    return model, performances\n",
    "      \n",
    "def get_metrics(y_test, y_pred, label_encoder):\n",
    "    \n",
    "    y_true, y_pred = label_encoder.inverse_transform(y_test),label_encoder.inverse_transform(y_pred) \n",
    "    f1_micro = f1_score(y_true, y_pred, average='micro')\n",
    "    f1_macro = f1_score(y_true, y_pred, average='macro')\n",
    "    accuracy = accuracy_score(y_true, y_pred)\n",
    "#     precision_recall_fscore_support_score = precision_recall_fscore_support(y_true, y_pred)\n",
    "    \n",
    "    labels = label_encoder.classes_\n",
    "    cm = confusion_matrix(y_true, y_pred, labels=labels)\n",
    "    \n",
    "    return dict(\n",
    "        f1_micro=f1_micro, \n",
    "        f1_macro=f1_macro, \n",
    "        accuracy=accuracy,\n",
    "#         precision_recall_fscore_support_score=precision_recall_fscore_support,\n",
    "#         cm=cm\n",
    "    )\n",
    "\n",
    "def print_performance_metrics(performance, labels):\n",
    "    accuracy = performance['accuracy']\n",
    "    f1_macro = performance['f1_macro']\n",
    "    f1_micro = performance['f1_micro']\n",
    "    smatch = performance.get('smatch', 0)\n",
    "    \n",
    "#     cm = performance['cm']\n",
    "    \n",
    "    print(\"Accuracy: {:.3f}\\nF1 Micro : {:.3f}\\nF1 Macro: {:.3f}\\nSMATCH: {:.3f}\".format(accuracy,f1_micro, f1_macro, smatch))\n",
    "#     print(performance['precision_recall_fscore_support_score'])\n"
   ]
  },
  {
   "cell_type": "markdown",
   "metadata": {},
   "source": [
    "## Post Process"
   ]
  },
  {
   "cell_type": "code",
   "execution_count": 21,
   "metadata": {},
   "outputs": [],
   "source": [
    "def create_pediction_graph(X_test, y_pred):\n",
    "    predictions = []\n",
    "#     X_test_val = X_test.values\n",
    "    cur_sentence_id = X_test['sentence_id'].values[0]\n",
    "    i = 0\n",
    "\n",
    "    while i < len(y_pred):\n",
    "        prediction = {\n",
    "            'nodes': [],\n",
    "            'heads': [],\n",
    "            'corefs': [],\n",
    "            'head_labels': [],\n",
    "            'sentence_id': 0\n",
    "        }\n",
    "        \n",
    "        current_pairs = []\n",
    "        root = None\n",
    "        # Collect nodes\n",
    "        while i < len(y_pred) and cur_sentence_id == X_test['sentence_id'].values[i]:\n",
    "            # add nodes\n",
    "            parent = X_test['parent'].values[i]\n",
    "            child = X_test['child'].values[i]\n",
    "            is_root = X_test['is_root'].values[i]\n",
    "            \n",
    "            if root is None and is_root==1:\n",
    "                root = parent\n",
    "            \n",
    "            if (parent not in prediction['nodes']):\n",
    "                prediction['nodes'].append(parent)\n",
    "            if (child not in prediction['nodes']):\n",
    "                prediction['nodes'].append(child)\n",
    "            current_pairs.append((parent, child, y_pred[i]))    \n",
    "            i+=1\n",
    "        \n",
    "        # Collect heads\n",
    "        for node in prediction['nodes']:\n",
    "            if node == root:\n",
    "                prediction['heads'].append(0)\n",
    "                prediction['head_labels'].append(':root')\n",
    "            else:\n",
    "                for pair in current_pairs:\n",
    "                    if (pair[1] == node):\n",
    "                        prediction['heads'].append(prediction['nodes'].index(pair[0])+1)\n",
    "                        prediction['head_labels'] += list(label_encoder.inverse_transform([pair[2]]))\n",
    "\n",
    "        prediction['corefs'] = list(range(1, len(prediction['nodes'])+1))\n",
    "        prediction['sentence_id'] = cur_sentence_id\n",
    "        prediction['root'] = root\n",
    "        \n",
    "        predictions.append(prediction)\n",
    "        if (i < len(y_pred)):\n",
    "            cur_sentence_id = X_test['sentence_id'].values[i]\n",
    "\n",
    "    return predictions\n",
    "\n",
    "def create_amr_graph_from_prediction(prediction):\n",
    "    nodes = prediction['nodes']\n",
    "    heads = prediction['heads']\n",
    "    head_labels = prediction['head_labels']\n",
    "    sentence_id = prediction['sentence_id']\n",
    "    root = prediction['root']\n",
    "    \n",
    "    \n",
    "    variable_map = dict()\n",
    "    triples = []\n",
    "    for idx, node in enumerate(nodes):\n",
    "        variable_map['vv'+str(idx+1)] = node\n",
    "    \n",
    "    # find top \n",
    "    top = 'vv1'\n",
    "    for var, value in variable_map.items():\n",
    "        if value == root:\n",
    "            top = var\n",
    "    \n",
    "    # rename nodes\n",
    "    for key in variable_map:\n",
    "        variable_map[key] = variable_map[key].split('_')[0]\n",
    "    \n",
    "    # create instances\n",
    "    for variable in variable_map:\n",
    "        triples.append((variable, 'instance', variable_map[variable]))\n",
    "\n",
    "    # create connections\n",
    "    for idx, head in enumerate(heads):\n",
    "        if (head != 0):\n",
    "            head_var = 'vv{}'.format(head)\n",
    "            dep_var = 'vv{}'.format(idx+1)\n",
    "            label = head_labels[idx]\n",
    "            triple = (head_var, label, dep_var)\n",
    "            triples.append(triple)\n",
    "        \n",
    "    graph = penman.Graph()\n",
    "    \n",
    "    graph.heads = heads\n",
    "    graph.nodes = nodes\n",
    "    graph.head_labels = head_labels\n",
    "    graph._top = top\n",
    "    graph._triples = [penman.Triple(*t) for t in triples]\n",
    "    graph.id = sentence_id\n",
    "    \n",
    "    return graph\n",
    "    \n",
    "def save_amr_graphs(amr_graphs, filepath):\n",
    "    with open(filepath + '.pred.txt', 'w+', encoding='utf-8') as f:\n",
    "        for idx, amr_graph in enumerate(amr_graphs):\n",
    "            try:\n",
    "                f.write(str(amr_graph))\n",
    "                f.write('\\n\\n')\n",
    "            except Exception as e:\n",
    "                display(amr_graph.id)\n",
    "                display(amr_graph._top)\n",
    "                display(amr_graph._triples)\n",
    "                display(amr_graph.nodes)                                                \n",
    "                display(amr_graph.heads)\n",
    "                display(amr_graph.head_labels)                                                "
   ]
  },
  {
   "cell_type": "code",
   "execution_count": 22,
   "metadata": {},
   "outputs": [],
   "source": [
    "def create_experiment_report(experiments):\n",
    "    report_dict = defaultdict(list)\n",
    "    \n",
    "    for experiment in experiments:\n",
    "        report_dict['model_name'].append(experiment.name)\n",
    "        report_dict['accuracy'].append(experiment.performance['accuracy'])\n",
    "        report_dict['f1_macro'].append(experiment.performance['f1_macro'])\n",
    "        report_dict['smatch'].append(experiment.performance['smatch'])\n",
    "    \n",
    "    report_df = pd.DataFrame(report_dict)\n",
    "    report_df = report_df.set_index('model_name')\n",
    "    return report_df"
   ]
  },
  {
   "cell_type": "code",
   "execution_count": 42,
   "metadata": {},
   "outputs": [],
   "source": [
    "class TrainingModel:\n",
    "    def __init__(self, name, model, performance, labels):\n",
    "        self.name = name\n",
    "        self.model = model\n",
    "        self.performance = performance\n",
    "        self.labels = labels\n",
    "    \n",
    "    def __gt__(self, model2):\n",
    "        return self.performance['f1_macro'] > model2.performance['f1_macro']\n",
    "    \n",
    "    def print_metrics(self):\n",
    "        print(\"----{}----\".format(self.name))\n",
    "        print()\n",
    "        print_performance_metrics(self.performance, self.labels)\n",
    "    \n",
    "    def save(self):\n",
    "        best_model_filename = \"saved_model/{}_best.pickle.dat\".format(self.name)\n",
    "        with open(best_model_filename, 'wb+') as f:\n",
    "            pickle.dump(self.model,f)\n",
    "\n",
    "class ExperimentParams:\n",
    "    def __init__(self, model_name, model_params):\n",
    "        self.model_name = model_name\n",
    "        self.model_params = model_params"
   ]
  },
  {
   "cell_type": "markdown",
   "metadata": {},
   "source": [
    "### initialize Training Params"
   ]
  },
  {
   "cell_type": "code",
   "execution_count": 26,
   "metadata": {},
   "outputs": [],
   "source": [
    "experiment_params = []\n",
    "\n",
    "experiment_params.append(ExperimentParams(model_name='xgb', model_params=[\n",
    "#     {\"learning_rate\" : 0.05, 'max_depth': 5},\n",
    "#     {\"learning_rate\" : 0.05, 'max_depth': 8 },\n",
    "#     {\"learning_rate\" : 0.05, 'max_depth': 10},\n",
    "#     {\"learning_rate\" : 0.10, 'max_depth': 5 },\n",
    "    {\"learning_rate\" : 0.10, 'max_depth': 8},\n",
    "#     {\"learning_rate\" : 0.10, 'max_depth': 10},\n",
    "#     {\"learning_rate\" : 0.20, 'max_depth': 5},\n",
    "#     {\"learning_rate\" : 0.20, 'max_depth': 8},\n",
    "#     {\"learning_rate\" : 0.20, 'max_depth': 10},\n",
    "]))\n",
    "\n",
    "# experiment_params.append(ExperimentParams(model_name='dtc', model_params=[\n",
    "#     {'max_depth': 6 , 'criterion': 'entropy'},\n",
    "#     {'max_depth': 6 , 'criterion': 'gini'},\n",
    "#     {'max_depth': 7 , 'criterion': 'entropy'},\n",
    "#     {'max_depth': 7 , 'criterion': 'gini'}, \n",
    "#     {'max_depth': 10 , 'criterion': 'entropy'},\n",
    "#     {'max_depth': 10 , 'criterion': 'gini'},\n",
    "#     {'max_depth': 12 , 'criterion': 'entropy'},\n",
    "#     {'max_depth': 12 , 'criterion': 'gini'}\n",
    "# ]))"
   ]
  },
  {
   "cell_type": "markdown",
   "metadata": {},
   "source": [
    "## Hold Out "
   ]
  },
  {
   "cell_type": "code",
   "execution_count": null,
   "metadata": {},
   "outputs": [],
   "source": [
    "# SPLIT_PERCENT = 0.20\n",
    "\n",
    "# trained_models = []\n",
    "# experiment_tqdm = tqdm(experiment_params)\n",
    "# for experiment_param in experiment_tqdm:\n",
    "#     for model_param in experiment_param.model_params: \n",
    "#         model, performance = run_hold_out_validation(dependency_features_df,\n",
    "#                                                    split_percent=SPLIT_PERCENT,\n",
    "#                                                    word_vec=word_vec,\n",
    "#                                                    label_encoder=label_encoder,\n",
    "#                                                    one_hot_encoder=one_hot_encoder,\n",
    "#                                                    model_name=experiment_param.model_name, \n",
    "#                                                    params=model_param)\n",
    "#         model_param_string = ''\n",
    "#         if (model_param is not None):\n",
    "#             model_param_string = '_'.join([\"{}_{}\".format(key, model_param[key]) for key in model_param])\n",
    "#         model_name = experiment_param.model_name + '_' + model_param_string\n",
    "        \n",
    "#         trained_models.append(TrainingModel(model_name, model, performance, labels))"
   ]
  },
  {
   "cell_type": "markdown",
   "metadata": {},
   "source": [
    "## K Fold"
   ]
  },
  {
   "cell_type": "code",
   "execution_count": 38,
   "metadata": {
    "scrolled": true
   },
   "outputs": [
    {
     "output_type": "stream",
     "name": "stderr",
     "text": [
      "  0%|          | 0/1 [00:00<?, ?it/s]\n",
      "  0%|          | 0/1 [00:00<?, ?it/s]\u001b[AD:\\miniconda3\\envs\\amr\\lib\\site-packages\\sklearn\\utils\\validation.py:70: FutureWarning: Pass labels=['ARG0' 'ARG1' 'location' 'mod' 'name' 'time'] as keyword args. From version 1.0 (renaming of 0.25) passing these as positional arguments will result in an error\n",
      "  warnings.warn(f\"Pass {args_msg} as keyword args. From version \"\n",
      "['F-score: 0.838']\n",
      "D:\\miniconda3\\envs\\amr\\lib\\site-packages\\sklearn\\utils\\validation.py:70: FutureWarning: Pass labels=['ARG0' 'ARG1' 'location' 'mod' 'name' 'time'] as keyword args. From version 1.0 (renaming of 0.25) passing these as positional arguments will result in an error\n",
      "  warnings.warn(f\"Pass {args_msg} as keyword args. From version \"\n",
      "['F-score: 0.848']\n",
      "D:\\miniconda3\\envs\\amr\\lib\\site-packages\\sklearn\\utils\\validation.py:70: FutureWarning: Pass labels=['ARG0' 'ARG1' 'location' 'mod' 'name' 'time'] as keyword args. From version 1.0 (renaming of 0.25) passing these as positional arguments will result in an error\n",
      "  warnings.warn(f\"Pass {args_msg} as keyword args. From version \"\n",
      "['F-score: 0.873']\n",
      "D:\\miniconda3\\envs\\amr\\lib\\site-packages\\sklearn\\utils\\validation.py:70: FutureWarning: Pass labels=['ARG0' 'ARG1' 'location' 'mod' 'name' 'time'] as keyword args. From version 1.0 (renaming of 0.25) passing these as positional arguments will result in an error\n",
      "  warnings.warn(f\"Pass {args_msg} as keyword args. From version \"\n",
      "['F-score: 0.839']\n",
      "D:\\miniconda3\\envs\\amr\\lib\\site-packages\\sklearn\\utils\\validation.py:70: FutureWarning: Pass labels=['ARG0' 'ARG1' 'location' 'mod' 'name' 'time'] as keyword args. From version 1.0 (renaming of 0.25) passing these as positional arguments will result in an error\n",
      "  warnings.warn(f\"Pass {args_msg} as keyword args. From version \"\n",
      "['F-score: 0.826']\n",
      "D:\\miniconda3\\envs\\amr\\lib\\site-packages\\sklearn\\utils\\validation.py:70: FutureWarning: Pass labels=['ARG0' 'ARG1' 'location' 'mod' 'name' 'time'] as keyword args. From version 1.0 (renaming of 0.25) passing these as positional arguments will result in an error\n",
      "  warnings.warn(f\"Pass {args_msg} as keyword args. From version \"\n",
      "\n",
      "100%|██████████| 1/1 [01:56<00:00, 116.76s/it]\n",
      "100%|██████████| 1/1 [01:56<00:00, 116.78s/it]['F-score: 0.871']\n",
      "\n"
     ]
    }
   ],
   "source": [
    "K_SPLIT = 5\n",
    "\n",
    "trained_models = []\n",
    "experiment_tqdm = tqdm(experiment_params)\n",
    "for experiment_param in experiment_tqdm:\n",
    "    train_tqdm = tqdm(experiment_param.model_params)\n",
    "    for model_param in train_tqdm: \n",
    "        model, performance = run_k_fold_validation(dependency_features_df,\n",
    "                                                   n_split=K_SPLIT,\n",
    "                                                   shuffle=True,\n",
    "                                                   word_vec=word_vec,\n",
    "                                                   label_encoder=label_encoder,\n",
    "                                                   one_hot_encoder=one_hot_encoder,\n",
    "                                                   feature_filter=feature_filter_type,\n",
    "                                                   model_name=experiment_param.model_name, \n",
    "                                                   params=model_param)\n",
    "        model_param_string = ''\n",
    "        if (model_param is not None):\n",
    "            model_param_string = '_'.join([\"{}_{}\".format(key, model_param[key]) for key in model_param])\n",
    "        model_name = experiment_param.model_name + '_' + model_param_string\n",
    "        trained_models.append(TrainingModel(model_name, model, performance, labels))"
   ]
  },
  {
   "cell_type": "code",
   "execution_count": 39,
   "metadata": {},
   "outputs": [
    {
     "output_type": "stream",
     "name": "stdout",
     "text": [
      "['positional']\n"
     ]
    },
    {
     "output_type": "execute_result",
     "data": {
      "text/plain": [
       "                                   accuracy  f1_macro    smatch\n",
       "model_name                                                     \n",
       "xgb_learning_rate_0.1_max_depth_8  0.894099  0.855202  0.849167"
      ],
      "text/html": "<div>\n<style scoped>\n    .dataframe tbody tr th:only-of-type {\n        vertical-align: middle;\n    }\n\n    .dataframe tbody tr th {\n        vertical-align: top;\n    }\n\n    .dataframe thead th {\n        text-align: right;\n    }\n</style>\n<table border=\"1\" class=\"dataframe\">\n  <thead>\n    <tr style=\"text-align: right;\">\n      <th></th>\n      <th>accuracy</th>\n      <th>f1_macro</th>\n      <th>smatch</th>\n    </tr>\n    <tr>\n      <th>model_name</th>\n      <th></th>\n      <th></th>\n      <th></th>\n    </tr>\n  </thead>\n  <tbody>\n    <tr>\n      <th>xgb_learning_rate_0.1_max_depth_8</th>\n      <td>0.894099</td>\n      <td>0.855202</td>\n      <td>0.849167</td>\n    </tr>\n  </tbody>\n</table>\n</div>"
     },
     "metadata": {},
     "execution_count": 39
    }
   ],
   "source": [
    "print(feature_filter_type)\n",
    "report_df = create_experiment_report(trained_models)\n",
    "report_df"
   ]
  },
  {
   "cell_type": "code",
   "execution_count": 43,
   "metadata": {},
   "outputs": [
    {
     "output_type": "stream",
     "name": "stdout",
     "text": [
      "----xgb_learning_rate_0.1_max_depth_8----\n\nAccuracy: 0.894\nF1 Micro : 0.894\nF1 Macro: 0.855\nSMATCH: 0.849\n"
     ]
    },
    {
     "output_type": "error",
     "ename": "NameError",
     "evalue": "name 'my_dir' is not defined",
     "traceback": [
      "\u001b[1;31m---------------------------------------------------------------------------\u001b[0m",
      "\u001b[1;31mNameError\u001b[0m                                 Traceback (most recent call last)",
      "\u001b[1;32mC:\\Users\\BANDIT~1\\AppData\\Local\\Temp/ipykernel_43864/2957367697.py\u001b[0m in \u001b[0;36m<module>\u001b[1;34m\u001b[0m\n\u001b[0;32m      1\u001b[0m \u001b[0mbest_model\u001b[0m \u001b[1;33m=\u001b[0m \u001b[0msorted\u001b[0m\u001b[1;33m(\u001b[0m\u001b[0mtrained_models\u001b[0m\u001b[1;33m,\u001b[0m \u001b[0mreverse\u001b[0m\u001b[1;33m=\u001b[0m\u001b[1;32mTrue\u001b[0m\u001b[1;33m)\u001b[0m\u001b[1;33m[\u001b[0m\u001b[1;36m0\u001b[0m\u001b[1;33m]\u001b[0m\u001b[1;33m\u001b[0m\u001b[1;33m\u001b[0m\u001b[0m\n\u001b[0;32m      2\u001b[0m \u001b[0mbest_model\u001b[0m\u001b[1;33m.\u001b[0m\u001b[0mprint_metrics\u001b[0m\u001b[1;33m(\u001b[0m\u001b[1;33m)\u001b[0m\u001b[1;33m\u001b[0m\u001b[1;33m\u001b[0m\u001b[0m\n\u001b[1;32m----> 3\u001b[1;33m \u001b[0mbest_model\u001b[0m\u001b[1;33m.\u001b[0m\u001b[0msave\u001b[0m\u001b[1;33m(\u001b[0m\u001b[1;33m)\u001b[0m\u001b[1;33m\u001b[0m\u001b[1;33m\u001b[0m\u001b[0m\n\u001b[0m\u001b[0;32m      4\u001b[0m \u001b[1;33m\u001b[0m\u001b[0m\n\u001b[0;32m      5\u001b[0m \u001b[0mbest_model_filename\u001b[0m \u001b[1;33m=\u001b[0m \u001b[1;34m\"saved_model/{}_best.pickle.dat\"\u001b[0m\u001b[1;33m.\u001b[0m\u001b[0mformat\u001b[0m\u001b[1;33m(\u001b[0m\u001b[0mbest_model\u001b[0m\u001b[1;33m.\u001b[0m\u001b[0mname\u001b[0m\u001b[1;33m)\u001b[0m\u001b[1;33m\u001b[0m\u001b[1;33m\u001b[0m\u001b[0m\n",
      "\u001b[1;32mC:\\Users\\BANDIT~1\\AppData\\Local\\Temp/ipykernel_43864/884651754.py\u001b[0m in \u001b[0;36msave\u001b[1;34m(self)\u001b[0m\n\u001b[0;32m     15\u001b[0m \u001b[1;33m\u001b[0m\u001b[0m\n\u001b[0;32m     16\u001b[0m     \u001b[1;32mdef\u001b[0m \u001b[0msave\u001b[0m\u001b[1;33m(\u001b[0m\u001b[0mself\u001b[0m\u001b[1;33m)\u001b[0m\u001b[1;33m:\u001b[0m\u001b[1;33m\u001b[0m\u001b[1;33m\u001b[0m\u001b[0m\n\u001b[1;32m---> 17\u001b[1;33m         \u001b[0mbest_model_filename\u001b[0m \u001b[1;33m=\u001b[0m \u001b[0mmy_dir\u001b[0m\u001b[1;33m+\u001b[0m\u001b[1;34m\"saved_model/{}_best.pickle.dat\"\u001b[0m\u001b[1;33m.\u001b[0m\u001b[0mformat\u001b[0m\u001b[1;33m(\u001b[0m\u001b[0mself\u001b[0m\u001b[1;33m.\u001b[0m\u001b[0mname\u001b[0m\u001b[1;33m)\u001b[0m\u001b[1;33m\u001b[0m\u001b[1;33m\u001b[0m\u001b[0m\n\u001b[0m\u001b[0;32m     18\u001b[0m         \u001b[1;32mwith\u001b[0m \u001b[0mopen\u001b[0m\u001b[1;33m(\u001b[0m\u001b[0mbest_model_filename\u001b[0m\u001b[1;33m,\u001b[0m \u001b[1;34m'wb+'\u001b[0m\u001b[1;33m)\u001b[0m \u001b[1;32mas\u001b[0m \u001b[0mf\u001b[0m\u001b[1;33m:\u001b[0m\u001b[1;33m\u001b[0m\u001b[1;33m\u001b[0m\u001b[0m\n\u001b[0;32m     19\u001b[0m             \u001b[0mpickle\u001b[0m\u001b[1;33m.\u001b[0m\u001b[0mdump\u001b[0m\u001b[1;33m(\u001b[0m\u001b[0mbest_model\u001b[0m\u001b[1;33m.\u001b[0m\u001b[0mmodel\u001b[0m\u001b[1;33m,\u001b[0m\u001b[0mf\u001b[0m\u001b[1;33m)\u001b[0m\u001b[1;33m\u001b[0m\u001b[1;33m\u001b[0m\u001b[0m\n",
      "\u001b[1;31mNameError\u001b[0m: name 'my_dir' is not defined"
     ]
    }
   ],
   "source": [
    "best_model = sorted(trained_models, reverse=True)[0]\n",
    "best_model.print_metrics()\n",
    "\n",
    "best_model_filename = \"saved_model/{}_best.pickle.dat\".format(best_model.name)\n",
    "with open(best_model_filename, 'wb') as f:\n",
    "    pickle.dump(best_model.model,f)"
   ]
  },
  {
   "cell_type": "markdown",
   "metadata": {},
   "source": [
    "## Load best model"
   ]
  },
  {
   "cell_type": "code",
   "execution_count": 44,
   "metadata": {},
   "outputs": [],
   "source": [
    "with open(best_model_filename, 'rb') as f:\n",
    "    best_model = pickle.load(open(best_model_filename, 'rb'))"
   ]
  },
  {
   "cell_type": "markdown",
   "metadata": {},
   "source": [
    "## Train for all data\n",
    "\n",
    "Karena sebelumnya itu, model cuma ditrain dengan sebagian data train (karena sebagian lagi dijadikan data val ketika k-fold). Nah sekarang, model ditrain dengan seluruh data train.\n",
    "Tapi model ini parameternya tetap sama dengan yang \"xgb_learning_rate_0.1_max_depth_8\" (perbedaan hanya ada pada data yang digunakan untuk train saja)"
   ]
  },
  {
   "cell_type": "code",
   "execution_count": 45,
   "metadata": {},
   "outputs": [],
   "source": [
    "X = dependency_features_df.drop(['label'], axis=1)\n",
    "y = dependency_features_df['label']\n",
    "\n",
    "filtered_X = feature_selection(X, feature_filter_type)\n",
    "X_processed, y_processed = preprocess_features(filtered_X, y, one_hot_encoder, label_encoder)\n",
    "\n",
    "best_model = best_model.fit(np.array(X_processed), np.array(y_processed))"
   ]
  },
  {
   "cell_type": "code",
   "execution_count": 46,
   "metadata": {},
   "outputs": [],
   "source": [
    "with open('saved_model/best_model_pretrained.pickle.dat', 'wb') as f:\n",
    "    pickle.dump(best_model,f)\n",
    "\n",
    "with open(my_dir+\"saved_model/one_hot_encoder.pickle.dat\", 'wb') as f:\n",
    "    pickle.dump(one_hot_encoder,f)\n",
    "\n",
    "with open(my_dir+\"saved_model/label_encoder.pickle.dat\", 'wb') as f:\n",
    "    pickle.dump(label_encoder,f)"
   ]
  },
  {
   "cell_type": "markdown",
   "metadata": {},
   "source": [
    "# Test"
   ]
  },
  {
   "cell_type": "code",
   "execution_count": 47,
   "metadata": {},
   "outputs": [],
   "source": [
    "# save amr data\n",
    "save_amr_data(test_amr_dataset, amr_test_prediction_path)\n",
    "\n",
    "test_dependency_features_df = pd.read_csv(test_data_path)\n",
    "X_test, y_test = test_dependency_features_df.drop(['label'], axis=1), test_dependency_features_df['label']\n",
    "\n",
    "filtered_X_test = feature_selection(X_test, feature_filter_type)\n",
    "X_test_processed = preprocess(filtered_X_test, word_vec, one_hot_encoder)"
   ]
  },
  {
   "cell_type": "code",
   "execution_count": 48,
   "metadata": {},
   "outputs": [
    {
     "output_type": "stream",
     "name": "stderr",
     "text": [
      "D:\\miniconda3\\envs\\amr\\lib\\site-packages\\sklearn\\utils\\validation.py:70: FutureWarning: Pass labels=['ARG0' 'ARG1' 'location' 'mod' 'name' 'time'] as keyword args. From version 1.0 (renaming of 0.25) passing these as positional arguments will result in an error\n",
      "  warnings.warn(f\"Pass {args_msg} as keyword args. From version \"\n",
      "Accuracy: 0.870\n",
      "F1 Micro : 0.870\n",
      "F1 Macro: 0.786\n",
      "SMATCH: 0.000\n",
      "label_encoder.classes_\t ['ARG0' 'ARG1' 'location' 'mod' 'name' 'time']\n",
      "precision\t\t [0.96031746 0.75704225 0.82894737 0.92992424 0.875      0.35135135]\n",
      "recall\t\t\t [0.8962963  0.81132075 0.77777778 0.91947566 0.90588235 0.43333333]\n",
      "fscore\t\t\t [0.92720307 0.78324226 0.80254777 0.92467043 0.89017341 0.3880597 ]\n",
      "support\t\t\t [270 265  81 534  85  30]\n"
     ]
    },
    {
     "output_type": "display_data",
     "data": {
      "text/plain": "<Figure size 1080x1080 with 2 Axes>",
      "image/svg+xml": "<?xml version=\"1.0\" encoding=\"utf-8\" standalone=\"no\"?>\r\n<!DOCTYPE svg PUBLIC \"-//W3C//DTD SVG 1.1//EN\"\r\n  \"http://www.w3.org/Graphics/SVG/1.1/DTD/svg11.dtd\">\r\n<svg height=\"1071.274375pt\" version=\"1.1\" viewBox=\"0 0 994.70375 1071.274375\" width=\"994.70375pt\" xmlns=\"http://www.w3.org/2000/svg\" xmlns:xlink=\"http://www.w3.org/1999/xlink\">\r\n <metadata>\r\n  <rdf:RDF xmlns:cc=\"http://creativecommons.org/ns#\" xmlns:dc=\"http://purl.org/dc/elements/1.1/\" xmlns:rdf=\"http://www.w3.org/1999/02/22-rdf-syntax-ns#\">\r\n   <cc:Work>\r\n    <dc:type rdf:resource=\"http://purl.org/dc/dcmitype/StillImage\"/>\r\n    <dc:date>2021-07-13T20:40:56.724305</dc:date>\r\n    <dc:format>image/svg+xml</dc:format>\r\n    <dc:creator>\r\n     <cc:Agent>\r\n      <dc:title>Matplotlib v3.4.2, https://matplotlib.org/</dc:title>\r\n     </cc:Agent>\r\n    </dc:creator>\r\n   </cc:Work>\r\n  </rdf:RDF>\r\n </metadata>\r\n <defs>\r\n  <style type=\"text/css\">*{stroke-linecap:butt;stroke-linejoin:round;}</style>\r\n </defs>\r\n <g id=\"figure_1\">\r\n  <g id=\"patch_1\">\r\n   <path d=\"M 0 1071.274375 \r\nL 994.70375 1071.274375 \r\nL 994.70375 0 \r\nL 0 0 \r\nz\r\n\" style=\"fill:none;\"/>\r\n  </g>\r\n  <g id=\"axes_1\">\r\n   <g id=\"patch_2\">\r\n    <path d=\"M 37.55625 1033.718125 \r\nL 859.47625 1033.718125 \r\nL 859.47625 22.318125 \r\nL 37.55625 22.318125 \r\nz\r\n\" style=\"fill:#ffffff;\"/>\r\n   </g>\r\n   <g id=\"QuadMesh_1\">\r\n    <path clip-path=\"url(#peeb2282200)\" d=\"M 37.55625 22.318125 \r\nL 174.542917 22.318125 \r\nL 174.542917 190.884792 \r\nL 37.55625 190.884792 \r\nL 37.55625 22.318125 \r\n\" style=\"fill:#c81951;\"/>\r\n    <path clip-path=\"url(#peeb2282200)\" d=\"M 174.542917 22.318125 \r\nL 311.529583 22.318125 \r\nL 311.529583 190.884792 \r\nL 174.542917 190.884792 \r\nL 174.542917 22.318125 \r\n\" style=\"fill:#130d25;\"/>\r\n    <path clip-path=\"url(#peeb2282200)\" d=\"M 311.529583 22.318125 \r\nL 448.51625 22.318125 \r\nL 448.51625 190.884792 \r\nL 311.529583 190.884792 \r\nL 311.529583 22.318125 \r\n\" style=\"fill:#03051a;\"/>\r\n    <path clip-path=\"url(#peeb2282200)\" d=\"M 448.51625 22.318125 \r\nL 585.502917 22.318125 \r\nL 585.502917 190.884792 \r\nL 448.51625 190.884792 \r\nL 448.51625 22.318125 \r\n\" style=\"fill:#04051a;\"/>\r\n    <path clip-path=\"url(#peeb2282200)\" d=\"M 585.502917 22.318125 \r\nL 722.489583 22.318125 \r\nL 722.489583 190.884792 \r\nL 585.502917 190.884792 \r\nL 585.502917 22.318125 \r\n\" style=\"fill:#03051a;\"/>\r\n    <path clip-path=\"url(#peeb2282200)\" d=\"M 722.489583 22.318125 \r\nL 859.47625 22.318125 \r\nL 859.47625 190.884792 \r\nL 722.489583 190.884792 \r\nL 722.489583 22.318125 \r\n\" style=\"fill:#03051a;\"/>\r\n    <path clip-path=\"url(#peeb2282200)\" d=\"M 37.55625 190.884792 \r\nL 174.542917 190.884792 \r\nL 174.542917 359.451458 \r\nL 37.55625 359.451458 \r\nL 37.55625 190.884792 \r\n\" style=\"fill:#07071d;\"/>\r\n    <path clip-path=\"url(#peeb2282200)\" d=\"M 174.542917 190.884792 \r\nL 311.529583 190.884792 \r\nL 311.529583 359.451458 \r\nL 174.542917 359.451458 \r\nL 174.542917 190.884792 \r\n\" style=\"fill:#b21758;\"/>\r\n    <path clip-path=\"url(#peeb2282200)\" d=\"M 311.529583 190.884792 \r\nL 448.51625 190.884792 \r\nL 448.51625 359.451458 \r\nL 311.529583 359.451458 \r\nL 311.529583 190.884792 \r\n\" style=\"fill:#08081e;\"/>\r\n    <path clip-path=\"url(#peeb2282200)\" d=\"M 448.51625 190.884792 \r\nL 585.502917 190.884792 \r\nL 585.502917 359.451458 \r\nL 448.51625 359.451458 \r\nL 448.51625 190.884792 \r\n\" style=\"fill:#0b0920;\"/>\r\n    <path clip-path=\"url(#peeb2282200)\" d=\"M 585.502917 190.884792 \r\nL 722.489583 190.884792 \r\nL 722.489583 359.451458 \r\nL 585.502917 359.451458 \r\nL 585.502917 190.884792 \r\n\" style=\"fill:#03051a;\"/>\r\n    <path clip-path=\"url(#peeb2282200)\" d=\"M 722.489583 190.884792 \r\nL 859.47625 190.884792 \r\nL 859.47625 359.451458 \r\nL 722.489583 359.451458 \r\nL 722.489583 190.884792 \r\n\" style=\"fill:#0b0920;\"/>\r\n    <path clip-path=\"url(#peeb2282200)\" d=\"M 37.55625 359.451458 \r\nL 174.542917 359.451458 \r\nL 174.542917 528.018125 \r\nL 37.55625 528.018125 \r\nL 37.55625 359.451458 \r\n\" style=\"fill:#03051a;\"/>\r\n    <path clip-path=\"url(#peeb2282200)\" d=\"M 174.542917 359.451458 \r\nL 311.529583 359.451458 \r\nL 311.529583 528.018125 \r\nL 174.542917 528.018125 \r\nL 174.542917 359.451458 \r\n\" style=\"fill:#0b0920;\"/>\r\n    <path clip-path=\"url(#peeb2282200)\" d=\"M 311.529583 359.451458 \r\nL 448.51625 359.451458 \r\nL 448.51625 528.018125 \r\nL 311.529583 528.018125 \r\nL 311.529583 359.451458 \r\n\" style=\"fill:#30173a;\"/>\r\n    <path clip-path=\"url(#peeb2282200)\" d=\"M 448.51625 359.451458 \r\nL 585.502917 359.451458 \r\nL 585.502917 528.018125 \r\nL 448.51625 528.018125 \r\nL 448.51625 359.451458 \r\n\" style=\"fill:#05061b;\"/>\r\n    <path clip-path=\"url(#peeb2282200)\" d=\"M 585.502917 359.451458 \r\nL 722.489583 359.451458 \r\nL 722.489583 528.018125 \r\nL 585.502917 528.018125 \r\nL 585.502917 359.451458 \r\n\" style=\"fill:#03051a;\"/>\r\n    <path clip-path=\"url(#peeb2282200)\" d=\"M 722.489583 359.451458 \r\nL 859.47625 359.451458 \r\nL 859.47625 528.018125 \r\nL 722.489583 528.018125 \r\nL 722.489583 359.451458 \r\n\" style=\"fill:#03051a;\"/>\r\n    <path clip-path=\"url(#peeb2282200)\" d=\"M 37.55625 528.018125 \r\nL 174.542917 528.018125 \r\nL 174.542917 696.584792 \r\nL 37.55625 696.584792 \r\nL 37.55625 528.018125 \r\n\" style=\"fill:#03051a;\"/>\r\n    <path clip-path=\"url(#peeb2282200)\" d=\"M 174.542917 528.018125 \r\nL 311.529583 528.018125 \r\nL 311.529583 696.584792 \r\nL 174.542917 696.584792 \r\nL 174.542917 528.018125 \r\n\" style=\"fill:#110c24;\"/>\r\n    <path clip-path=\"url(#peeb2282200)\" d=\"M 311.529583 528.018125 \r\nL 448.51625 528.018125 \r\nL 448.51625 696.584792 \r\nL 311.529583 696.584792 \r\nL 311.529583 528.018125 \r\n\" style=\"fill:#03051a;\"/>\r\n    <path clip-path=\"url(#peeb2282200)\" d=\"M 448.51625 528.018125 \r\nL 585.502917 528.018125 \r\nL 585.502917 696.584792 \r\nL 448.51625 696.584792 \r\nL 448.51625 528.018125 \r\n\" style=\"fill:#faebdd;\"/>\r\n    <path clip-path=\"url(#peeb2282200)\" d=\"M 585.502917 528.018125 \r\nL 722.489583 528.018125 \r\nL 722.489583 696.584792 \r\nL 585.502917 696.584792 \r\nL 585.502917 528.018125 \r\n\" style=\"fill:#08081e;\"/>\r\n    <path clip-path=\"url(#peeb2282200)\" d=\"M 722.489583 528.018125 \r\nL 859.47625 528.018125 \r\nL 859.47625 696.584792 \r\nL 722.489583 696.584792 \r\nL 722.489583 528.018125 \r\n\" style=\"fill:#07071d;\"/>\r\n    <path clip-path=\"url(#peeb2282200)\" d=\"M 37.55625 696.584792 \r\nL 174.542917 696.584792 \r\nL 174.542917 865.151458 \r\nL 37.55625 865.151458 \r\nL 37.55625 696.584792 \r\n\" style=\"fill:#03051a;\"/>\r\n    <path clip-path=\"url(#peeb2282200)\" d=\"M 174.542917 696.584792 \r\nL 311.529583 696.584792 \r\nL 311.529583 865.151458 \r\nL 174.542917 865.151458 \r\nL 174.542917 696.584792 \r\n\" style=\"fill:#03051a;\"/>\r\n    <path clip-path=\"url(#peeb2282200)\" d=\"M 311.529583 696.584792 \r\nL 448.51625 696.584792 \r\nL 448.51625 865.151458 \r\nL 311.529583 865.151458 \r\nL 311.529583 696.584792 \r\n\" style=\"fill:#03051a;\"/>\r\n    <path clip-path=\"url(#peeb2282200)\" d=\"M 448.51625 696.584792 \r\nL 585.502917 696.584792 \r\nL 585.502917 865.151458 \r\nL 448.51625 865.151458 \r\nL 448.51625 696.584792 \r\n\" style=\"fill:#07071d;\"/>\r\n    <path clip-path=\"url(#peeb2282200)\" d=\"M 585.502917 696.584792 \r\nL 722.489583 696.584792 \r\nL 722.489583 865.151458 \r\nL 585.502917 865.151458 \r\nL 585.502917 696.584792 \r\n\" style=\"fill:#3c1a42;\"/>\r\n    <path clip-path=\"url(#peeb2282200)\" d=\"M 722.489583 696.584792 \r\nL 859.47625 696.584792 \r\nL 859.47625 865.151458 \r\nL 722.489583 865.151458 \r\nL 722.489583 696.584792 \r\n\" style=\"fill:#03051a;\"/>\r\n    <path clip-path=\"url(#peeb2282200)\" d=\"M 37.55625 865.151458 \r\nL 174.542917 865.151458 \r\nL 174.542917 1033.718125 \r\nL 37.55625 1033.718125 \r\nL 37.55625 865.151458 \r\n\" style=\"fill:#03051a;\"/>\r\n    <path clip-path=\"url(#peeb2282200)\" d=\"M 174.542917 865.151458 \r\nL 311.529583 865.151458 \r\nL 311.529583 1033.718125 \r\nL 174.542917 1033.718125 \r\nL 174.542917 865.151458 \r\n\" style=\"fill:#07071d;\"/>\r\n    <path clip-path=\"url(#peeb2282200)\" d=\"M 311.529583 865.151458 \r\nL 448.51625 865.151458 \r\nL 448.51625 1033.718125 \r\nL 311.529583 1033.718125 \r\nL 311.529583 865.151458 \r\n\" style=\"fill:#03051a;\"/>\r\n    <path clip-path=\"url(#peeb2282200)\" d=\"M 448.51625 865.151458 \r\nL 585.502917 865.151458 \r\nL 585.502917 1033.718125 \r\nL 448.51625 1033.718125 \r\nL 448.51625 865.151458 \r\n\" style=\"fill:#06071c;\"/>\r\n    <path clip-path=\"url(#peeb2282200)\" d=\"M 585.502917 865.151458 \r\nL 722.489583 865.151458 \r\nL 722.489583 1033.718125 \r\nL 585.502917 1033.718125 \r\nL 585.502917 865.151458 \r\n\" style=\"fill:#03051a;\"/>\r\n    <path clip-path=\"url(#peeb2282200)\" d=\"M 722.489583 865.151458 \r\nL 859.47625 865.151458 \r\nL 859.47625 1033.718125 \r\nL 722.489583 1033.718125 \r\nL 722.489583 865.151458 \r\n\" style=\"fill:#0a091f;\"/>\r\n   </g>\r\n   <g id=\"matplotlib.axis_1\">\r\n    <g id=\"xtick_1\">\r\n     <g id=\"line2d_1\">\r\n      <defs>\r\n       <path d=\"M 0 0 \r\nL 0 3.5 \r\n\" id=\"m5c6a577ae7\" style=\"stroke:#000000;stroke-width:0.8;\"/>\r\n      </defs>\r\n      <g>\r\n       <use style=\"stroke:#000000;stroke-width:0.8;\" x=\"106.049583\" xlink:href=\"#m5c6a577ae7\" y=\"1033.718125\"/>\r\n      </g>\r\n     </g>\r\n     <g id=\"text_1\">\r\n      <!-- ARG0 -->\r\n      <g transform=\"translate(92.099583 1048.316562)scale(0.1 -0.1)\">\r\n       <defs>\r\n        <path d=\"M 2188 4044 \r\nL 1331 1722 \r\nL 3047 1722 \r\nL 2188 4044 \r\nz\r\nM 1831 4666 \r\nL 2547 4666 \r\nL 4325 0 \r\nL 3669 0 \r\nL 3244 1197 \r\nL 1141 1197 \r\nL 716 0 \r\nL 50 0 \r\nL 1831 4666 \r\nz\r\n\" id=\"DejaVuSans-41\" transform=\"scale(0.015625)\"/>\r\n        <path d=\"M 2841 2188 \r\nQ 3044 2119 3236 1894 \r\nQ 3428 1669 3622 1275 \r\nL 4263 0 \r\nL 3584 0 \r\nL 2988 1197 \r\nQ 2756 1666 2539 1819 \r\nQ 2322 1972 1947 1972 \r\nL 1259 1972 \r\nL 1259 0 \r\nL 628 0 \r\nL 628 4666 \r\nL 2053 4666 \r\nQ 2853 4666 3247 4331 \r\nQ 3641 3997 3641 3322 \r\nQ 3641 2881 3436 2590 \r\nQ 3231 2300 2841 2188 \r\nz\r\nM 1259 4147 \r\nL 1259 2491 \r\nL 2053 2491 \r\nQ 2509 2491 2742 2702 \r\nQ 2975 2913 2975 3322 \r\nQ 2975 3731 2742 3939 \r\nQ 2509 4147 2053 4147 \r\nL 1259 4147 \r\nz\r\n\" id=\"DejaVuSans-52\" transform=\"scale(0.015625)\"/>\r\n        <path d=\"M 3809 666 \r\nL 3809 1919 \r\nL 2778 1919 \r\nL 2778 2438 \r\nL 4434 2438 \r\nL 4434 434 \r\nQ 4069 175 3628 42 \r\nQ 3188 -91 2688 -91 \r\nQ 1594 -91 976 548 \r\nQ 359 1188 359 2328 \r\nQ 359 3472 976 4111 \r\nQ 1594 4750 2688 4750 \r\nQ 3144 4750 3555 4637 \r\nQ 3966 4525 4313 4306 \r\nL 4313 3634 \r\nQ 3963 3931 3569 4081 \r\nQ 3175 4231 2741 4231 \r\nQ 1884 4231 1454 3753 \r\nQ 1025 3275 1025 2328 \r\nQ 1025 1384 1454 906 \r\nQ 1884 428 2741 428 \r\nQ 3075 428 3337 486 \r\nQ 3600 544 3809 666 \r\nz\r\n\" id=\"DejaVuSans-47\" transform=\"scale(0.015625)\"/>\r\n        <path d=\"M 2034 4250 \r\nQ 1547 4250 1301 3770 \r\nQ 1056 3291 1056 2328 \r\nQ 1056 1369 1301 889 \r\nQ 1547 409 2034 409 \r\nQ 2525 409 2770 889 \r\nQ 3016 1369 3016 2328 \r\nQ 3016 3291 2770 3770 \r\nQ 2525 4250 2034 4250 \r\nz\r\nM 2034 4750 \r\nQ 2819 4750 3233 4129 \r\nQ 3647 3509 3647 2328 \r\nQ 3647 1150 3233 529 \r\nQ 2819 -91 2034 -91 \r\nQ 1250 -91 836 529 \r\nQ 422 1150 422 2328 \r\nQ 422 3509 836 4129 \r\nQ 1250 4750 2034 4750 \r\nz\r\n\" id=\"DejaVuSans-30\" transform=\"scale(0.015625)\"/>\r\n       </defs>\r\n       <use xlink:href=\"#DejaVuSans-41\"/>\r\n       <use x=\"68.408203\" xlink:href=\"#DejaVuSans-52\"/>\r\n       <use x=\"137.890625\" xlink:href=\"#DejaVuSans-47\"/>\r\n       <use x=\"215.380859\" xlink:href=\"#DejaVuSans-30\"/>\r\n      </g>\r\n     </g>\r\n    </g>\r\n    <g id=\"xtick_2\">\r\n     <g id=\"line2d_2\">\r\n      <g>\r\n       <use style=\"stroke:#000000;stroke-width:0.8;\" x=\"243.03625\" xlink:href=\"#m5c6a577ae7\" y=\"1033.718125\"/>\r\n      </g>\r\n     </g>\r\n     <g id=\"text_2\">\r\n      <!-- ARG1 -->\r\n      <g transform=\"translate(229.08625 1048.316562)scale(0.1 -0.1)\">\r\n       <defs>\r\n        <path d=\"M 794 531 \r\nL 1825 531 \r\nL 1825 4091 \r\nL 703 3866 \r\nL 703 4441 \r\nL 1819 4666 \r\nL 2450 4666 \r\nL 2450 531 \r\nL 3481 531 \r\nL 3481 0 \r\nL 794 0 \r\nL 794 531 \r\nz\r\n\" id=\"DejaVuSans-31\" transform=\"scale(0.015625)\"/>\r\n       </defs>\r\n       <use xlink:href=\"#DejaVuSans-41\"/>\r\n       <use x=\"68.408203\" xlink:href=\"#DejaVuSans-52\"/>\r\n       <use x=\"137.890625\" xlink:href=\"#DejaVuSans-47\"/>\r\n       <use x=\"215.380859\" xlink:href=\"#DejaVuSans-31\"/>\r\n      </g>\r\n     </g>\r\n    </g>\r\n    <g id=\"xtick_3\">\r\n     <g id=\"line2d_3\">\r\n      <g>\r\n       <use style=\"stroke:#000000;stroke-width:0.8;\" x=\"380.022917\" xlink:href=\"#m5c6a577ae7\" y=\"1033.718125\"/>\r\n      </g>\r\n     </g>\r\n     <g id=\"text_3\">\r\n      <!-- location -->\r\n      <g transform=\"translate(360.183854 1048.316562)scale(0.1 -0.1)\">\r\n       <defs>\r\n        <path d=\"M 603 4863 \r\nL 1178 4863 \r\nL 1178 0 \r\nL 603 0 \r\nL 603 4863 \r\nz\r\n\" id=\"DejaVuSans-6c\" transform=\"scale(0.015625)\"/>\r\n        <path d=\"M 1959 3097 \r\nQ 1497 3097 1228 2736 \r\nQ 959 2375 959 1747 \r\nQ 959 1119 1226 758 \r\nQ 1494 397 1959 397 \r\nQ 2419 397 2687 759 \r\nQ 2956 1122 2956 1747 \r\nQ 2956 2369 2687 2733 \r\nQ 2419 3097 1959 3097 \r\nz\r\nM 1959 3584 \r\nQ 2709 3584 3137 3096 \r\nQ 3566 2609 3566 1747 \r\nQ 3566 888 3137 398 \r\nQ 2709 -91 1959 -91 \r\nQ 1206 -91 779 398 \r\nQ 353 888 353 1747 \r\nQ 353 2609 779 3096 \r\nQ 1206 3584 1959 3584 \r\nz\r\n\" id=\"DejaVuSans-6f\" transform=\"scale(0.015625)\"/>\r\n        <path d=\"M 3122 3366 \r\nL 3122 2828 \r\nQ 2878 2963 2633 3030 \r\nQ 2388 3097 2138 3097 \r\nQ 1578 3097 1268 2742 \r\nQ 959 2388 959 1747 \r\nQ 959 1106 1268 751 \r\nQ 1578 397 2138 397 \r\nQ 2388 397 2633 464 \r\nQ 2878 531 3122 666 \r\nL 3122 134 \r\nQ 2881 22 2623 -34 \r\nQ 2366 -91 2075 -91 \r\nQ 1284 -91 818 406 \r\nQ 353 903 353 1747 \r\nQ 353 2603 823 3093 \r\nQ 1294 3584 2113 3584 \r\nQ 2378 3584 2631 3529 \r\nQ 2884 3475 3122 3366 \r\nz\r\n\" id=\"DejaVuSans-63\" transform=\"scale(0.015625)\"/>\r\n        <path d=\"M 2194 1759 \r\nQ 1497 1759 1228 1600 \r\nQ 959 1441 959 1056 \r\nQ 959 750 1161 570 \r\nQ 1363 391 1709 391 \r\nQ 2188 391 2477 730 \r\nQ 2766 1069 2766 1631 \r\nL 2766 1759 \r\nL 2194 1759 \r\nz\r\nM 3341 1997 \r\nL 3341 0 \r\nL 2766 0 \r\nL 2766 531 \r\nQ 2569 213 2275 61 \r\nQ 1981 -91 1556 -91 \r\nQ 1019 -91 701 211 \r\nQ 384 513 384 1019 \r\nQ 384 1609 779 1909 \r\nQ 1175 2209 1959 2209 \r\nL 2766 2209 \r\nL 2766 2266 \r\nQ 2766 2663 2505 2880 \r\nQ 2244 3097 1772 3097 \r\nQ 1472 3097 1187 3025 \r\nQ 903 2953 641 2809 \r\nL 641 3341 \r\nQ 956 3463 1253 3523 \r\nQ 1550 3584 1831 3584 \r\nQ 2591 3584 2966 3190 \r\nQ 3341 2797 3341 1997 \r\nz\r\n\" id=\"DejaVuSans-61\" transform=\"scale(0.015625)\"/>\r\n        <path d=\"M 1172 4494 \r\nL 1172 3500 \r\nL 2356 3500 \r\nL 2356 3053 \r\nL 1172 3053 \r\nL 1172 1153 \r\nQ 1172 725 1289 603 \r\nQ 1406 481 1766 481 \r\nL 2356 481 \r\nL 2356 0 \r\nL 1766 0 \r\nQ 1100 0 847 248 \r\nQ 594 497 594 1153 \r\nL 594 3053 \r\nL 172 3053 \r\nL 172 3500 \r\nL 594 3500 \r\nL 594 4494 \r\nL 1172 4494 \r\nz\r\n\" id=\"DejaVuSans-74\" transform=\"scale(0.015625)\"/>\r\n        <path d=\"M 603 3500 \r\nL 1178 3500 \r\nL 1178 0 \r\nL 603 0 \r\nL 603 3500 \r\nz\r\nM 603 4863 \r\nL 1178 4863 \r\nL 1178 4134 \r\nL 603 4134 \r\nL 603 4863 \r\nz\r\n\" id=\"DejaVuSans-69\" transform=\"scale(0.015625)\"/>\r\n        <path d=\"M 3513 2113 \r\nL 3513 0 \r\nL 2938 0 \r\nL 2938 2094 \r\nQ 2938 2591 2744 2837 \r\nQ 2550 3084 2163 3084 \r\nQ 1697 3084 1428 2787 \r\nQ 1159 2491 1159 1978 \r\nL 1159 0 \r\nL 581 0 \r\nL 581 3500 \r\nL 1159 3500 \r\nL 1159 2956 \r\nQ 1366 3272 1645 3428 \r\nQ 1925 3584 2291 3584 \r\nQ 2894 3584 3203 3211 \r\nQ 3513 2838 3513 2113 \r\nz\r\n\" id=\"DejaVuSans-6e\" transform=\"scale(0.015625)\"/>\r\n       </defs>\r\n       <use xlink:href=\"#DejaVuSans-6c\"/>\r\n       <use x=\"27.783203\" xlink:href=\"#DejaVuSans-6f\"/>\r\n       <use x=\"88.964844\" xlink:href=\"#DejaVuSans-63\"/>\r\n       <use x=\"143.945312\" xlink:href=\"#DejaVuSans-61\"/>\r\n       <use x=\"205.224609\" xlink:href=\"#DejaVuSans-74\"/>\r\n       <use x=\"244.433594\" xlink:href=\"#DejaVuSans-69\"/>\r\n       <use x=\"272.216797\" xlink:href=\"#DejaVuSans-6f\"/>\r\n       <use x=\"333.398438\" xlink:href=\"#DejaVuSans-6e\"/>\r\n      </g>\r\n     </g>\r\n    </g>\r\n    <g id=\"xtick_4\">\r\n     <g id=\"line2d_4\">\r\n      <g>\r\n       <use style=\"stroke:#000000;stroke-width:0.8;\" x=\"517.009583\" xlink:href=\"#m5c6a577ae7\" y=\"1033.718125\"/>\r\n      </g>\r\n     </g>\r\n     <g id=\"text_4\">\r\n      <!-- mod -->\r\n      <g transform=\"translate(505.905677 1048.316562)scale(0.1 -0.1)\">\r\n       <defs>\r\n        <path d=\"M 3328 2828 \r\nQ 3544 3216 3844 3400 \r\nQ 4144 3584 4550 3584 \r\nQ 5097 3584 5394 3201 \r\nQ 5691 2819 5691 2113 \r\nL 5691 0 \r\nL 5113 0 \r\nL 5113 2094 \r\nQ 5113 2597 4934 2840 \r\nQ 4756 3084 4391 3084 \r\nQ 3944 3084 3684 2787 \r\nQ 3425 2491 3425 1978 \r\nL 3425 0 \r\nL 2847 0 \r\nL 2847 2094 \r\nQ 2847 2600 2669 2842 \r\nQ 2491 3084 2119 3084 \r\nQ 1678 3084 1418 2786 \r\nQ 1159 2488 1159 1978 \r\nL 1159 0 \r\nL 581 0 \r\nL 581 3500 \r\nL 1159 3500 \r\nL 1159 2956 \r\nQ 1356 3278 1631 3431 \r\nQ 1906 3584 2284 3584 \r\nQ 2666 3584 2933 3390 \r\nQ 3200 3197 3328 2828 \r\nz\r\n\" id=\"DejaVuSans-6d\" transform=\"scale(0.015625)\"/>\r\n        <path d=\"M 2906 2969 \r\nL 2906 4863 \r\nL 3481 4863 \r\nL 3481 0 \r\nL 2906 0 \r\nL 2906 525 \r\nQ 2725 213 2448 61 \r\nQ 2172 -91 1784 -91 \r\nQ 1150 -91 751 415 \r\nQ 353 922 353 1747 \r\nQ 353 2572 751 3078 \r\nQ 1150 3584 1784 3584 \r\nQ 2172 3584 2448 3432 \r\nQ 2725 3281 2906 2969 \r\nz\r\nM 947 1747 \r\nQ 947 1113 1208 752 \r\nQ 1469 391 1925 391 \r\nQ 2381 391 2643 752 \r\nQ 2906 1113 2906 1747 \r\nQ 2906 2381 2643 2742 \r\nQ 2381 3103 1925 3103 \r\nQ 1469 3103 1208 2742 \r\nQ 947 2381 947 1747 \r\nz\r\n\" id=\"DejaVuSans-64\" transform=\"scale(0.015625)\"/>\r\n       </defs>\r\n       <use xlink:href=\"#DejaVuSans-6d\"/>\r\n       <use x=\"97.412109\" xlink:href=\"#DejaVuSans-6f\"/>\r\n       <use x=\"158.59375\" xlink:href=\"#DejaVuSans-64\"/>\r\n      </g>\r\n     </g>\r\n    </g>\r\n    <g id=\"xtick_5\">\r\n     <g id=\"line2d_5\">\r\n      <g>\r\n       <use style=\"stroke:#000000;stroke-width:0.8;\" x=\"653.99625\" xlink:href=\"#m5c6a577ae7\" y=\"1033.718125\"/>\r\n      </g>\r\n     </g>\r\n     <g id=\"text_5\">\r\n      <!-- name -->\r\n      <g transform=\"translate(639.816563 1048.316562)scale(0.1 -0.1)\">\r\n       <defs>\r\n        <path d=\"M 3597 1894 \r\nL 3597 1613 \r\nL 953 1613 \r\nQ 991 1019 1311 708 \r\nQ 1631 397 2203 397 \r\nQ 2534 397 2845 478 \r\nQ 3156 559 3463 722 \r\nL 3463 178 \r\nQ 3153 47 2828 -22 \r\nQ 2503 -91 2169 -91 \r\nQ 1331 -91 842 396 \r\nQ 353 884 353 1716 \r\nQ 353 2575 817 3079 \r\nQ 1281 3584 2069 3584 \r\nQ 2775 3584 3186 3129 \r\nQ 3597 2675 3597 1894 \r\nz\r\nM 3022 2063 \r\nQ 3016 2534 2758 2815 \r\nQ 2500 3097 2075 3097 \r\nQ 1594 3097 1305 2825 \r\nQ 1016 2553 972 2059 \r\nL 3022 2063 \r\nz\r\n\" id=\"DejaVuSans-65\" transform=\"scale(0.015625)\"/>\r\n       </defs>\r\n       <use xlink:href=\"#DejaVuSans-6e\"/>\r\n       <use x=\"63.378906\" xlink:href=\"#DejaVuSans-61\"/>\r\n       <use x=\"124.658203\" xlink:href=\"#DejaVuSans-6d\"/>\r\n       <use x=\"222.070312\" xlink:href=\"#DejaVuSans-65\"/>\r\n      </g>\r\n     </g>\r\n    </g>\r\n    <g id=\"xtick_6\">\r\n     <g id=\"line2d_6\">\r\n      <g>\r\n       <use style=\"stroke:#000000;stroke-width:0.8;\" x=\"790.982917\" xlink:href=\"#m5c6a577ae7\" y=\"1033.718125\"/>\r\n      </g>\r\n     </g>\r\n     <g id=\"text_6\">\r\n      <!-- time -->\r\n      <g transform=\"translate(779.686823 1048.316562)scale(0.1 -0.1)\">\r\n       <use xlink:href=\"#DejaVuSans-74\"/>\r\n       <use x=\"39.208984\" xlink:href=\"#DejaVuSans-69\"/>\r\n       <use x=\"66.992188\" xlink:href=\"#DejaVuSans-6d\"/>\r\n       <use x=\"164.404297\" xlink:href=\"#DejaVuSans-65\"/>\r\n      </g>\r\n     </g>\r\n    </g>\r\n    <g id=\"text_7\">\r\n     <!-- Predicted labels -->\r\n     <g transform=\"translate(408.759219 1061.994688)scale(0.1 -0.1)\">\r\n      <defs>\r\n       <path d=\"M 1259 4147 \r\nL 1259 2394 \r\nL 2053 2394 \r\nQ 2494 2394 2734 2622 \r\nQ 2975 2850 2975 3272 \r\nQ 2975 3691 2734 3919 \r\nQ 2494 4147 2053 4147 \r\nL 1259 4147 \r\nz\r\nM 628 4666 \r\nL 2053 4666 \r\nQ 2838 4666 3239 4311 \r\nQ 3641 3956 3641 3272 \r\nQ 3641 2581 3239 2228 \r\nQ 2838 1875 2053 1875 \r\nL 1259 1875 \r\nL 1259 0 \r\nL 628 0 \r\nL 628 4666 \r\nz\r\n\" id=\"DejaVuSans-50\" transform=\"scale(0.015625)\"/>\r\n       <path d=\"M 2631 2963 \r\nQ 2534 3019 2420 3045 \r\nQ 2306 3072 2169 3072 \r\nQ 1681 3072 1420 2755 \r\nQ 1159 2438 1159 1844 \r\nL 1159 0 \r\nL 581 0 \r\nL 581 3500 \r\nL 1159 3500 \r\nL 1159 2956 \r\nQ 1341 3275 1631 3429 \r\nQ 1922 3584 2338 3584 \r\nQ 2397 3584 2469 3576 \r\nQ 2541 3569 2628 3553 \r\nL 2631 2963 \r\nz\r\n\" id=\"DejaVuSans-72\" transform=\"scale(0.015625)\"/>\r\n       <path id=\"DejaVuSans-20\" transform=\"scale(0.015625)\"/>\r\n       <path d=\"M 3116 1747 \r\nQ 3116 2381 2855 2742 \r\nQ 2594 3103 2138 3103 \r\nQ 1681 3103 1420 2742 \r\nQ 1159 2381 1159 1747 \r\nQ 1159 1113 1420 752 \r\nQ 1681 391 2138 391 \r\nQ 2594 391 2855 752 \r\nQ 3116 1113 3116 1747 \r\nz\r\nM 1159 2969 \r\nQ 1341 3281 1617 3432 \r\nQ 1894 3584 2278 3584 \r\nQ 2916 3584 3314 3078 \r\nQ 3713 2572 3713 1747 \r\nQ 3713 922 3314 415 \r\nQ 2916 -91 2278 -91 \r\nQ 1894 -91 1617 61 \r\nQ 1341 213 1159 525 \r\nL 1159 0 \r\nL 581 0 \r\nL 581 4863 \r\nL 1159 4863 \r\nL 1159 2969 \r\nz\r\n\" id=\"DejaVuSans-62\" transform=\"scale(0.015625)\"/>\r\n       <path d=\"M 2834 3397 \r\nL 2834 2853 \r\nQ 2591 2978 2328 3040 \r\nQ 2066 3103 1784 3103 \r\nQ 1356 3103 1142 2972 \r\nQ 928 2841 928 2578 \r\nQ 928 2378 1081 2264 \r\nQ 1234 2150 1697 2047 \r\nL 1894 2003 \r\nQ 2506 1872 2764 1633 \r\nQ 3022 1394 3022 966 \r\nQ 3022 478 2636 193 \r\nQ 2250 -91 1575 -91 \r\nQ 1294 -91 989 -36 \r\nQ 684 19 347 128 \r\nL 347 722 \r\nQ 666 556 975 473 \r\nQ 1284 391 1588 391 \r\nQ 1994 391 2212 530 \r\nQ 2431 669 2431 922 \r\nQ 2431 1156 2273 1281 \r\nQ 2116 1406 1581 1522 \r\nL 1381 1569 \r\nQ 847 1681 609 1914 \r\nQ 372 2147 372 2553 \r\nQ 372 3047 722 3315 \r\nQ 1072 3584 1716 3584 \r\nQ 2034 3584 2315 3537 \r\nQ 2597 3491 2834 3397 \r\nz\r\n\" id=\"DejaVuSans-73\" transform=\"scale(0.015625)\"/>\r\n      </defs>\r\n      <use xlink:href=\"#DejaVuSans-50\"/>\r\n      <use x=\"58.552734\" xlink:href=\"#DejaVuSans-72\"/>\r\n      <use x=\"97.416016\" xlink:href=\"#DejaVuSans-65\"/>\r\n      <use x=\"158.939453\" xlink:href=\"#DejaVuSans-64\"/>\r\n      <use x=\"222.416016\" xlink:href=\"#DejaVuSans-69\"/>\r\n      <use x=\"250.199219\" xlink:href=\"#DejaVuSans-63\"/>\r\n      <use x=\"305.179688\" xlink:href=\"#DejaVuSans-74\"/>\r\n      <use x=\"344.388672\" xlink:href=\"#DejaVuSans-65\"/>\r\n      <use x=\"405.912109\" xlink:href=\"#DejaVuSans-64\"/>\r\n      <use x=\"469.388672\" xlink:href=\"#DejaVuSans-20\"/>\r\n      <use x=\"501.175781\" xlink:href=\"#DejaVuSans-6c\"/>\r\n      <use x=\"528.958984\" xlink:href=\"#DejaVuSans-61\"/>\r\n      <use x=\"590.238281\" xlink:href=\"#DejaVuSans-62\"/>\r\n      <use x=\"653.714844\" xlink:href=\"#DejaVuSans-65\"/>\r\n      <use x=\"715.238281\" xlink:href=\"#DejaVuSans-6c\"/>\r\n      <use x=\"743.021484\" xlink:href=\"#DejaVuSans-73\"/>\r\n     </g>\r\n    </g>\r\n   </g>\r\n   <g id=\"matplotlib.axis_2\">\r\n    <g id=\"ytick_1\">\r\n     <g id=\"line2d_7\">\r\n      <defs>\r\n       <path d=\"M 0 0 \r\nL -3.5 0 \r\n\" id=\"m1b1eb407fe\" style=\"stroke:#000000;stroke-width:0.8;\"/>\r\n      </defs>\r\n      <g>\r\n       <use style=\"stroke:#000000;stroke-width:0.8;\" x=\"37.55625\" xlink:href=\"#m1b1eb407fe\" y=\"106.601458\"/>\r\n      </g>\r\n     </g>\r\n     <g id=\"text_8\">\r\n      <!-- ARG0 -->\r\n      <g transform=\"translate(28.476563 130.70224)rotate(-90)scale(0.1 -0.1)\">\r\n       <use xlink:href=\"#DejaVuSans-41\"/>\r\n       <use x=\"68.408203\" xlink:href=\"#DejaVuSans-52\"/>\r\n       <use x=\"137.890625\" xlink:href=\"#DejaVuSans-47\"/>\r\n       <use x=\"215.380859\" xlink:href=\"#DejaVuSans-30\"/>\r\n      </g>\r\n     </g>\r\n    </g>\r\n    <g id=\"ytick_2\">\r\n     <g id=\"line2d_8\">\r\n      <g>\r\n       <use style=\"stroke:#000000;stroke-width:0.8;\" x=\"37.55625\" xlink:href=\"#m1b1eb407fe\" y=\"275.168125\"/>\r\n      </g>\r\n     </g>\r\n     <g id=\"text_9\">\r\n      <!-- ARG1 -->\r\n      <g transform=\"translate(28.476563 299.268906)rotate(-90)scale(0.1 -0.1)\">\r\n       <use xlink:href=\"#DejaVuSans-41\"/>\r\n       <use x=\"68.408203\" xlink:href=\"#DejaVuSans-52\"/>\r\n       <use x=\"137.890625\" xlink:href=\"#DejaVuSans-47\"/>\r\n       <use x=\"215.380859\" xlink:href=\"#DejaVuSans-31\"/>\r\n      </g>\r\n     </g>\r\n    </g>\r\n    <g id=\"ytick_3\">\r\n     <g id=\"line2d_9\">\r\n      <g>\r\n       <use style=\"stroke:#000000;stroke-width:0.8;\" x=\"37.55625\" xlink:href=\"#m1b1eb407fe\" y=\"443.734792\"/>\r\n      </g>\r\n     </g>\r\n     <g id=\"text_10\">\r\n      <!-- location -->\r\n      <g transform=\"translate(28.476563 479.613698)rotate(-90)scale(0.1 -0.1)\">\r\n       <use xlink:href=\"#DejaVuSans-6c\"/>\r\n       <use x=\"27.783203\" xlink:href=\"#DejaVuSans-6f\"/>\r\n       <use x=\"88.964844\" xlink:href=\"#DejaVuSans-63\"/>\r\n       <use x=\"143.945312\" xlink:href=\"#DejaVuSans-61\"/>\r\n       <use x=\"205.224609\" xlink:href=\"#DejaVuSans-74\"/>\r\n       <use x=\"244.433594\" xlink:href=\"#DejaVuSans-69\"/>\r\n       <use x=\"272.216797\" xlink:href=\"#DejaVuSans-6f\"/>\r\n       <use x=\"333.398438\" xlink:href=\"#DejaVuSans-6e\"/>\r\n      </g>\r\n     </g>\r\n    </g>\r\n    <g id=\"ytick_4\">\r\n     <g id=\"line2d_10\">\r\n      <g>\r\n       <use style=\"stroke:#000000;stroke-width:0.8;\" x=\"37.55625\" xlink:href=\"#m1b1eb407fe\" y=\"612.301458\"/>\r\n      </g>\r\n     </g>\r\n     <g id=\"text_11\">\r\n      <!-- mod -->\r\n      <g transform=\"translate(28.476563 630.710052)rotate(-90)scale(0.1 -0.1)\">\r\n       <use xlink:href=\"#DejaVuSans-6d\"/>\r\n       <use x=\"97.412109\" xlink:href=\"#DejaVuSans-6f\"/>\r\n       <use x=\"158.59375\" xlink:href=\"#DejaVuSans-64\"/>\r\n      </g>\r\n     </g>\r\n    </g>\r\n    <g id=\"ytick_5\">\r\n     <g id=\"line2d_11\">\r\n      <g>\r\n       <use style=\"stroke:#000000;stroke-width:0.8;\" x=\"37.55625\" xlink:href=\"#m1b1eb407fe\" y=\"780.868125\"/>\r\n      </g>\r\n     </g>\r\n     <g id=\"text_12\">\r\n      <!-- name -->\r\n      <g transform=\"translate(28.476563 805.428281)rotate(-90)scale(0.1 -0.1)\">\r\n       <use xlink:href=\"#DejaVuSans-6e\"/>\r\n       <use x=\"63.378906\" xlink:href=\"#DejaVuSans-61\"/>\r\n       <use x=\"124.658203\" xlink:href=\"#DejaVuSans-6d\"/>\r\n       <use x=\"222.070312\" xlink:href=\"#DejaVuSans-65\"/>\r\n      </g>\r\n     </g>\r\n    </g>\r\n    <g id=\"ytick_6\">\r\n     <g id=\"line2d_12\">\r\n      <g>\r\n       <use style=\"stroke:#000000;stroke-width:0.8;\" x=\"37.55625\" xlink:href=\"#m1b1eb407fe\" y=\"949.434792\"/>\r\n      </g>\r\n     </g>\r\n     <g id=\"text_13\">\r\n      <!-- time -->\r\n      <g transform=\"translate(28.476563 968.22776)rotate(-90)scale(0.1 -0.1)\">\r\n       <use xlink:href=\"#DejaVuSans-74\"/>\r\n       <use x=\"39.208984\" xlink:href=\"#DejaVuSans-69\"/>\r\n       <use x=\"66.992188\" xlink:href=\"#DejaVuSans-6d\"/>\r\n       <use x=\"164.404297\" xlink:href=\"#DejaVuSans-65\"/>\r\n      </g>\r\n     </g>\r\n    </g>\r\n    <g id=\"text_14\">\r\n     <!-- True labels -->\r\n     <g transform=\"translate(14.798438 554.922031)rotate(-90)scale(0.1 -0.1)\">\r\n      <defs>\r\n       <path d=\"M -19 4666 \r\nL 3928 4666 \r\nL 3928 4134 \r\nL 2272 4134 \r\nL 2272 0 \r\nL 1638 0 \r\nL 1638 4134 \r\nL -19 4134 \r\nL -19 4666 \r\nz\r\n\" id=\"DejaVuSans-54\" transform=\"scale(0.015625)\"/>\r\n       <path d=\"M 544 1381 \r\nL 544 3500 \r\nL 1119 3500 \r\nL 1119 1403 \r\nQ 1119 906 1312 657 \r\nQ 1506 409 1894 409 \r\nQ 2359 409 2629 706 \r\nQ 2900 1003 2900 1516 \r\nL 2900 3500 \r\nL 3475 3500 \r\nL 3475 0 \r\nL 2900 0 \r\nL 2900 538 \r\nQ 2691 219 2414 64 \r\nQ 2138 -91 1772 -91 \r\nQ 1169 -91 856 284 \r\nQ 544 659 544 1381 \r\nz\r\nM 1991 3584 \r\nL 1991 3584 \r\nz\r\n\" id=\"DejaVuSans-75\" transform=\"scale(0.015625)\"/>\r\n      </defs>\r\n      <use xlink:href=\"#DejaVuSans-54\"/>\r\n      <use x=\"46.333984\" xlink:href=\"#DejaVuSans-72\"/>\r\n      <use x=\"87.447266\" xlink:href=\"#DejaVuSans-75\"/>\r\n      <use x=\"150.826172\" xlink:href=\"#DejaVuSans-65\"/>\r\n      <use x=\"212.349609\" xlink:href=\"#DejaVuSans-20\"/>\r\n      <use x=\"244.136719\" xlink:href=\"#DejaVuSans-6c\"/>\r\n      <use x=\"271.919922\" xlink:href=\"#DejaVuSans-61\"/>\r\n      <use x=\"333.199219\" xlink:href=\"#DejaVuSans-62\"/>\r\n      <use x=\"396.675781\" xlink:href=\"#DejaVuSans-65\"/>\r\n      <use x=\"458.199219\" xlink:href=\"#DejaVuSans-6c\"/>\r\n      <use x=\"485.982422\" xlink:href=\"#DejaVuSans-73\"/>\r\n     </g>\r\n    </g>\r\n   </g>\r\n   <g id=\"text_15\">\r\n    <!-- 2.4e+02 -->\r\n    <g style=\"fill:#ffffff;\" transform=\"translate(84.469115 109.360833)scale(0.1 -0.1)\">\r\n     <defs>\r\n      <path d=\"M 1228 531 \r\nL 3431 531 \r\nL 3431 0 \r\nL 469 0 \r\nL 469 531 \r\nQ 828 903 1448 1529 \r\nQ 2069 2156 2228 2338 \r\nQ 2531 2678 2651 2914 \r\nQ 2772 3150 2772 3378 \r\nQ 2772 3750 2511 3984 \r\nQ 2250 4219 1831 4219 \r\nQ 1534 4219 1204 4116 \r\nQ 875 4013 500 3803 \r\nL 500 4441 \r\nQ 881 4594 1212 4672 \r\nQ 1544 4750 1819 4750 \r\nQ 2544 4750 2975 4387 \r\nQ 3406 4025 3406 3419 \r\nQ 3406 3131 3298 2873 \r\nQ 3191 2616 2906 2266 \r\nQ 2828 2175 2409 1742 \r\nQ 1991 1309 1228 531 \r\nz\r\n\" id=\"DejaVuSans-32\" transform=\"scale(0.015625)\"/>\r\n      <path d=\"M 684 794 \r\nL 1344 794 \r\nL 1344 0 \r\nL 684 0 \r\nL 684 794 \r\nz\r\n\" id=\"DejaVuSans-2e\" transform=\"scale(0.015625)\"/>\r\n      <path d=\"M 2419 4116 \r\nL 825 1625 \r\nL 2419 1625 \r\nL 2419 4116 \r\nz\r\nM 2253 4666 \r\nL 3047 4666 \r\nL 3047 1625 \r\nL 3713 1625 \r\nL 3713 1100 \r\nL 3047 1100 \r\nL 3047 0 \r\nL 2419 0 \r\nL 2419 1100 \r\nL 313 1100 \r\nL 313 1709 \r\nL 2253 4666 \r\nz\r\n\" id=\"DejaVuSans-34\" transform=\"scale(0.015625)\"/>\r\n      <path d=\"M 2944 4013 \r\nL 2944 2272 \r\nL 4684 2272 \r\nL 4684 1741 \r\nL 2944 1741 \r\nL 2944 0 \r\nL 2419 0 \r\nL 2419 1741 \r\nL 678 1741 \r\nL 678 2272 \r\nL 2419 2272 \r\nL 2419 4013 \r\nL 2944 4013 \r\nz\r\n\" id=\"DejaVuSans-2b\" transform=\"scale(0.015625)\"/>\r\n     </defs>\r\n     <use xlink:href=\"#DejaVuSans-32\"/>\r\n     <use x=\"63.623047\" xlink:href=\"#DejaVuSans-2e\"/>\r\n     <use x=\"95.410156\" xlink:href=\"#DejaVuSans-34\"/>\r\n     <use x=\"159.033203\" xlink:href=\"#DejaVuSans-65\"/>\r\n     <use x=\"220.556641\" xlink:href=\"#DejaVuSans-2b\"/>\r\n     <use x=\"304.345703\" xlink:href=\"#DejaVuSans-30\"/>\r\n     <use x=\"367.96875\" xlink:href=\"#DejaVuSans-32\"/>\r\n    </g>\r\n   </g>\r\n   <g id=\"text_16\">\r\n    <!-- 24 -->\r\n    <g style=\"fill:#ffffff;\" transform=\"translate(236.67375 109.360833)scale(0.1 -0.1)\">\r\n     <use xlink:href=\"#DejaVuSans-32\"/>\r\n     <use x=\"63.623047\" xlink:href=\"#DejaVuSans-34\"/>\r\n    </g>\r\n   </g>\r\n   <g id=\"text_17\">\r\n    <!-- 0 -->\r\n    <g style=\"fill:#ffffff;\" transform=\"translate(376.841667 109.360833)scale(0.1 -0.1)\">\r\n     <use xlink:href=\"#DejaVuSans-30\"/>\r\n    </g>\r\n   </g>\r\n   <g id=\"text_18\">\r\n    <!-- 3 -->\r\n    <g style=\"fill:#ffffff;\" transform=\"translate(513.828333 109.360833)scale(0.1 -0.1)\">\r\n     <defs>\r\n      <path d=\"M 2597 2516 \r\nQ 3050 2419 3304 2112 \r\nQ 3559 1806 3559 1356 \r\nQ 3559 666 3084 287 \r\nQ 2609 -91 1734 -91 \r\nQ 1441 -91 1130 -33 \r\nQ 819 25 488 141 \r\nL 488 750 \r\nQ 750 597 1062 519 \r\nQ 1375 441 1716 441 \r\nQ 2309 441 2620 675 \r\nQ 2931 909 2931 1356 \r\nQ 2931 1769 2642 2001 \r\nQ 2353 2234 1838 2234 \r\nL 1294 2234 \r\nL 1294 2753 \r\nL 1863 2753 \r\nQ 2328 2753 2575 2939 \r\nQ 2822 3125 2822 3475 \r\nQ 2822 3834 2567 4026 \r\nQ 2313 4219 1838 4219 \r\nQ 1578 4219 1281 4162 \r\nQ 984 4106 628 3988 \r\nL 628 4550 \r\nQ 988 4650 1302 4700 \r\nQ 1616 4750 1894 4750 \r\nQ 2613 4750 3031 4423 \r\nQ 3450 4097 3450 3541 \r\nQ 3450 3153 3228 2886 \r\nQ 3006 2619 2597 2516 \r\nz\r\n\" id=\"DejaVuSans-33\" transform=\"scale(0.015625)\"/>\r\n     </defs>\r\n     <use xlink:href=\"#DejaVuSans-33\"/>\r\n    </g>\r\n   </g>\r\n   <g id=\"text_19\">\r\n    <!-- 0 -->\r\n    <g style=\"fill:#ffffff;\" transform=\"translate(650.815 109.360833)scale(0.1 -0.1)\">\r\n     <use xlink:href=\"#DejaVuSans-30\"/>\r\n    </g>\r\n   </g>\r\n   <g id=\"text_20\">\r\n    <!-- 1 -->\r\n    <g style=\"fill:#ffffff;\" transform=\"translate(787.801667 109.360833)scale(0.1 -0.1)\">\r\n     <use xlink:href=\"#DejaVuSans-31\"/>\r\n    </g>\r\n   </g>\r\n   <g id=\"text_21\">\r\n    <!-- 9 -->\r\n    <g style=\"fill:#ffffff;\" transform=\"translate(102.868333 277.9275)scale(0.1 -0.1)\">\r\n     <defs>\r\n      <path d=\"M 703 97 \r\nL 703 672 \r\nQ 941 559 1184 500 \r\nQ 1428 441 1663 441 \r\nQ 2288 441 2617 861 \r\nQ 2947 1281 2994 2138 \r\nQ 2813 1869 2534 1725 \r\nQ 2256 1581 1919 1581 \r\nQ 1219 1581 811 2004 \r\nQ 403 2428 403 3163 \r\nQ 403 3881 828 4315 \r\nQ 1253 4750 1959 4750 \r\nQ 2769 4750 3195 4129 \r\nQ 3622 3509 3622 2328 \r\nQ 3622 1225 3098 567 \r\nQ 2575 -91 1691 -91 \r\nQ 1453 -91 1209 -44 \r\nQ 966 3 703 97 \r\nz\r\nM 1959 2075 \r\nQ 2384 2075 2632 2365 \r\nQ 2881 2656 2881 3163 \r\nQ 2881 3666 2632 3958 \r\nQ 2384 4250 1959 4250 \r\nQ 1534 4250 1286 3958 \r\nQ 1038 3666 1038 3163 \r\nQ 1038 2656 1286 2365 \r\nQ 1534 2075 1959 2075 \r\nz\r\n\" id=\"DejaVuSans-39\" transform=\"scale(0.015625)\"/>\r\n     </defs>\r\n     <use xlink:href=\"#DejaVuSans-39\"/>\r\n    </g>\r\n   </g>\r\n   <g id=\"text_22\">\r\n    <!-- 2.2e+02 -->\r\n    <g style=\"fill:#ffffff;\" transform=\"translate(221.455781 277.9275)scale(0.1 -0.1)\">\r\n     <use xlink:href=\"#DejaVuSans-32\"/>\r\n     <use x=\"63.623047\" xlink:href=\"#DejaVuSans-2e\"/>\r\n     <use x=\"95.410156\" xlink:href=\"#DejaVuSans-32\"/>\r\n     <use x=\"159.033203\" xlink:href=\"#DejaVuSans-65\"/>\r\n     <use x=\"220.556641\" xlink:href=\"#DejaVuSans-2b\"/>\r\n     <use x=\"304.345703\" xlink:href=\"#DejaVuSans-30\"/>\r\n     <use x=\"367.96875\" xlink:href=\"#DejaVuSans-32\"/>\r\n    </g>\r\n   </g>\r\n   <g id=\"text_23\">\r\n    <!-- 11 -->\r\n    <g style=\"fill:#ffffff;\" transform=\"translate(373.660417 277.9275)scale(0.1 -0.1)\">\r\n     <use xlink:href=\"#DejaVuSans-31\"/>\r\n     <use x=\"63.623047\" xlink:href=\"#DejaVuSans-31\"/>\r\n    </g>\r\n   </g>\r\n   <g id=\"text_24\">\r\n    <!-- 15 -->\r\n    <g style=\"fill:#ffffff;\" transform=\"translate(510.647083 277.9275)scale(0.1 -0.1)\">\r\n     <defs>\r\n      <path d=\"M 691 4666 \r\nL 3169 4666 \r\nL 3169 4134 \r\nL 1269 4134 \r\nL 1269 2991 \r\nQ 1406 3038 1543 3061 \r\nQ 1681 3084 1819 3084 \r\nQ 2600 3084 3056 2656 \r\nQ 3513 2228 3513 1497 \r\nQ 3513 744 3044 326 \r\nQ 2575 -91 1722 -91 \r\nQ 1428 -91 1123 -41 \r\nQ 819 9 494 109 \r\nL 494 744 \r\nQ 775 591 1075 516 \r\nQ 1375 441 1709 441 \r\nQ 2250 441 2565 725 \r\nQ 2881 1009 2881 1497 \r\nQ 2881 1984 2565 2268 \r\nQ 2250 2553 1709 2553 \r\nQ 1456 2553 1204 2497 \r\nQ 953 2441 691 2322 \r\nL 691 4666 \r\nz\r\n\" id=\"DejaVuSans-35\" transform=\"scale(0.015625)\"/>\r\n     </defs>\r\n     <use xlink:href=\"#DejaVuSans-31\"/>\r\n     <use x=\"63.623047\" xlink:href=\"#DejaVuSans-35\"/>\r\n    </g>\r\n   </g>\r\n   <g id=\"text_25\">\r\n    <!-- 0 -->\r\n    <g style=\"fill:#ffffff;\" transform=\"translate(650.815 277.9275)scale(0.1 -0.1)\">\r\n     <use xlink:href=\"#DejaVuSans-30\"/>\r\n    </g>\r\n   </g>\r\n   <g id=\"text_26\">\r\n    <!-- 15 -->\r\n    <g style=\"fill:#ffffff;\" transform=\"translate(784.620417 277.9275)scale(0.1 -0.1)\">\r\n     <use xlink:href=\"#DejaVuSans-31\"/>\r\n     <use x=\"63.623047\" xlink:href=\"#DejaVuSans-35\"/>\r\n    </g>\r\n   </g>\r\n   <g id=\"text_27\">\r\n    <!-- 0 -->\r\n    <g style=\"fill:#ffffff;\" transform=\"translate(102.868333 446.494167)scale(0.1 -0.1)\">\r\n     <use xlink:href=\"#DejaVuSans-30\"/>\r\n    </g>\r\n   </g>\r\n   <g id=\"text_28\">\r\n    <!-- 14 -->\r\n    <g style=\"fill:#ffffff;\" transform=\"translate(236.67375 446.494167)scale(0.1 -0.1)\">\r\n     <use xlink:href=\"#DejaVuSans-31\"/>\r\n     <use x=\"63.623047\" xlink:href=\"#DejaVuSans-34\"/>\r\n    </g>\r\n   </g>\r\n   <g id=\"text_29\">\r\n    <!-- 63 -->\r\n    <g style=\"fill:#ffffff;\" transform=\"translate(373.660417 446.494167)scale(0.1 -0.1)\">\r\n     <defs>\r\n      <path d=\"M 2113 2584 \r\nQ 1688 2584 1439 2293 \r\nQ 1191 2003 1191 1497 \r\nQ 1191 994 1439 701 \r\nQ 1688 409 2113 409 \r\nQ 2538 409 2786 701 \r\nQ 3034 994 3034 1497 \r\nQ 3034 2003 2786 2293 \r\nQ 2538 2584 2113 2584 \r\nz\r\nM 3366 4563 \r\nL 3366 3988 \r\nQ 3128 4100 2886 4159 \r\nQ 2644 4219 2406 4219 \r\nQ 1781 4219 1451 3797 \r\nQ 1122 3375 1075 2522 \r\nQ 1259 2794 1537 2939 \r\nQ 1816 3084 2150 3084 \r\nQ 2853 3084 3261 2657 \r\nQ 3669 2231 3669 1497 \r\nQ 3669 778 3244 343 \r\nQ 2819 -91 2113 -91 \r\nQ 1303 -91 875 529 \r\nQ 447 1150 447 2328 \r\nQ 447 3434 972 4092 \r\nQ 1497 4750 2381 4750 \r\nQ 2619 4750 2861 4703 \r\nQ 3103 4656 3366 4563 \r\nz\r\n\" id=\"DejaVuSans-36\" transform=\"scale(0.015625)\"/>\r\n     </defs>\r\n     <use xlink:href=\"#DejaVuSans-36\"/>\r\n     <use x=\"63.623047\" xlink:href=\"#DejaVuSans-33\"/>\r\n    </g>\r\n   </g>\r\n   <g id=\"text_30\">\r\n    <!-- 4 -->\r\n    <g style=\"fill:#ffffff;\" transform=\"translate(513.828333 446.494167)scale(0.1 -0.1)\">\r\n     <use xlink:href=\"#DejaVuSans-34\"/>\r\n    </g>\r\n   </g>\r\n   <g id=\"text_31\">\r\n    <!-- 0 -->\r\n    <g style=\"fill:#ffffff;\" transform=\"translate(650.815 446.494167)scale(0.1 -0.1)\">\r\n     <use xlink:href=\"#DejaVuSans-30\"/>\r\n    </g>\r\n   </g>\r\n   <g id=\"text_32\">\r\n    <!-- 0 -->\r\n    <g style=\"fill:#ffffff;\" transform=\"translate(787.801667 446.494167)scale(0.1 -0.1)\">\r\n     <use xlink:href=\"#DejaVuSans-30\"/>\r\n    </g>\r\n   </g>\r\n   <g id=\"text_33\">\r\n    <!-- 1 -->\r\n    <g style=\"fill:#ffffff;\" transform=\"translate(102.868333 615.060833)scale(0.1 -0.1)\">\r\n     <use xlink:href=\"#DejaVuSans-31\"/>\r\n    </g>\r\n   </g>\r\n   <g id=\"text_34\">\r\n    <!-- 22 -->\r\n    <g style=\"fill:#ffffff;\" transform=\"translate(236.67375 615.060833)scale(0.1 -0.1)\">\r\n     <use xlink:href=\"#DejaVuSans-32\"/>\r\n     <use x=\"63.623047\" xlink:href=\"#DejaVuSans-32\"/>\r\n    </g>\r\n   </g>\r\n   <g id=\"text_35\">\r\n    <!-- 1 -->\r\n    <g style=\"fill:#ffffff;\" transform=\"translate(376.841667 615.060833)scale(0.1 -0.1)\">\r\n     <use xlink:href=\"#DejaVuSans-31\"/>\r\n    </g>\r\n   </g>\r\n   <g id=\"text_36\">\r\n    <!-- 4.9e+02 -->\r\n    <g style=\"fill:#262626;\" transform=\"translate(495.429115 615.060833)scale(0.1 -0.1)\">\r\n     <use xlink:href=\"#DejaVuSans-34\"/>\r\n     <use x=\"63.623047\" xlink:href=\"#DejaVuSans-2e\"/>\r\n     <use x=\"95.410156\" xlink:href=\"#DejaVuSans-39\"/>\r\n     <use x=\"159.033203\" xlink:href=\"#DejaVuSans-65\"/>\r\n     <use x=\"220.556641\" xlink:href=\"#DejaVuSans-2b\"/>\r\n     <use x=\"304.345703\" xlink:href=\"#DejaVuSans-30\"/>\r\n     <use x=\"367.96875\" xlink:href=\"#DejaVuSans-32\"/>\r\n    </g>\r\n   </g>\r\n   <g id=\"text_37\">\r\n    <!-- 11 -->\r\n    <g style=\"fill:#ffffff;\" transform=\"translate(647.63375 615.060833)scale(0.1 -0.1)\">\r\n     <use xlink:href=\"#DejaVuSans-31\"/>\r\n     <use x=\"63.623047\" xlink:href=\"#DejaVuSans-31\"/>\r\n    </g>\r\n   </g>\r\n   <g id=\"text_38\">\r\n    <!-- 8 -->\r\n    <g style=\"fill:#ffffff;\" transform=\"translate(787.801667 615.060833)scale(0.1 -0.1)\">\r\n     <defs>\r\n      <path d=\"M 2034 2216 \r\nQ 1584 2216 1326 1975 \r\nQ 1069 1734 1069 1313 \r\nQ 1069 891 1326 650 \r\nQ 1584 409 2034 409 \r\nQ 2484 409 2743 651 \r\nQ 3003 894 3003 1313 \r\nQ 3003 1734 2745 1975 \r\nQ 2488 2216 2034 2216 \r\nz\r\nM 1403 2484 \r\nQ 997 2584 770 2862 \r\nQ 544 3141 544 3541 \r\nQ 544 4100 942 4425 \r\nQ 1341 4750 2034 4750 \r\nQ 2731 4750 3128 4425 \r\nQ 3525 4100 3525 3541 \r\nQ 3525 3141 3298 2862 \r\nQ 3072 2584 2669 2484 \r\nQ 3125 2378 3379 2068 \r\nQ 3634 1759 3634 1313 \r\nQ 3634 634 3220 271 \r\nQ 2806 -91 2034 -91 \r\nQ 1263 -91 848 271 \r\nQ 434 634 434 1313 \r\nQ 434 1759 690 2068 \r\nQ 947 2378 1403 2484 \r\nz\r\nM 1172 3481 \r\nQ 1172 3119 1398 2916 \r\nQ 1625 2713 2034 2713 \r\nQ 2441 2713 2670 2916 \r\nQ 2900 3119 2900 3481 \r\nQ 2900 3844 2670 4047 \r\nQ 2441 4250 2034 4250 \r\nQ 1625 4250 1398 4047 \r\nQ 1172 3844 1172 3481 \r\nz\r\n\" id=\"DejaVuSans-38\" transform=\"scale(0.015625)\"/>\r\n     </defs>\r\n     <use xlink:href=\"#DejaVuSans-38\"/>\r\n    </g>\r\n   </g>\r\n   <g id=\"text_39\">\r\n    <!-- 0 -->\r\n    <g style=\"fill:#ffffff;\" transform=\"translate(102.868333 783.6275)scale(0.1 -0.1)\">\r\n     <use xlink:href=\"#DejaVuSans-30\"/>\r\n    </g>\r\n   </g>\r\n   <g id=\"text_40\">\r\n    <!-- 0 -->\r\n    <g style=\"fill:#ffffff;\" transform=\"translate(239.855 783.6275)scale(0.1 -0.1)\">\r\n     <use xlink:href=\"#DejaVuSans-30\"/>\r\n    </g>\r\n   </g>\r\n   <g id=\"text_41\">\r\n    <!-- 0 -->\r\n    <g style=\"fill:#ffffff;\" transform=\"translate(376.841667 783.6275)scale(0.1 -0.1)\">\r\n     <use xlink:href=\"#DejaVuSans-30\"/>\r\n    </g>\r\n   </g>\r\n   <g id=\"text_42\">\r\n    <!-- 8 -->\r\n    <g style=\"fill:#ffffff;\" transform=\"translate(513.828333 783.6275)scale(0.1 -0.1)\">\r\n     <use xlink:href=\"#DejaVuSans-38\"/>\r\n    </g>\r\n   </g>\r\n   <g id=\"text_43\">\r\n    <!-- 77 -->\r\n    <g style=\"fill:#ffffff;\" transform=\"translate(647.63375 783.6275)scale(0.1 -0.1)\">\r\n     <defs>\r\n      <path d=\"M 525 4666 \r\nL 3525 4666 \r\nL 3525 4397 \r\nL 1831 0 \r\nL 1172 0 \r\nL 2766 4134 \r\nL 525 4134 \r\nL 525 4666 \r\nz\r\n\" id=\"DejaVuSans-37\" transform=\"scale(0.015625)\"/>\r\n     </defs>\r\n     <use xlink:href=\"#DejaVuSans-37\"/>\r\n     <use x=\"63.623047\" xlink:href=\"#DejaVuSans-37\"/>\r\n    </g>\r\n   </g>\r\n   <g id=\"text_44\">\r\n    <!-- 0 -->\r\n    <g style=\"fill:#ffffff;\" transform=\"translate(787.801667 783.6275)scale(0.1 -0.1)\">\r\n     <use xlink:href=\"#DejaVuSans-30\"/>\r\n    </g>\r\n   </g>\r\n   <g id=\"text_45\">\r\n    <!-- 0 -->\r\n    <g style=\"fill:#ffffff;\" transform=\"translate(102.868333 952.194167)scale(0.1 -0.1)\">\r\n     <use xlink:href=\"#DejaVuSans-30\"/>\r\n    </g>\r\n   </g>\r\n   <g id=\"text_46\">\r\n    <!-- 9 -->\r\n    <g style=\"fill:#ffffff;\" transform=\"translate(239.855 952.194167)scale(0.1 -0.1)\">\r\n     <use xlink:href=\"#DejaVuSans-39\"/>\r\n    </g>\r\n   </g>\r\n   <g id=\"text_47\">\r\n    <!-- 1 -->\r\n    <g style=\"fill:#ffffff;\" transform=\"translate(376.841667 952.194167)scale(0.1 -0.1)\">\r\n     <use xlink:href=\"#DejaVuSans-31\"/>\r\n    </g>\r\n   </g>\r\n   <g id=\"text_48\">\r\n    <!-- 7 -->\r\n    <g style=\"fill:#ffffff;\" transform=\"translate(513.828333 952.194167)scale(0.1 -0.1)\">\r\n     <use xlink:href=\"#DejaVuSans-37\"/>\r\n    </g>\r\n   </g>\r\n   <g id=\"text_49\">\r\n    <!-- 0 -->\r\n    <g style=\"fill:#ffffff;\" transform=\"translate(650.815 952.194167)scale(0.1 -0.1)\">\r\n     <use xlink:href=\"#DejaVuSans-30\"/>\r\n    </g>\r\n   </g>\r\n   <g id=\"text_50\">\r\n    <!-- 13 -->\r\n    <g style=\"fill:#ffffff;\" transform=\"translate(784.620417 952.194167)scale(0.1 -0.1)\">\r\n     <use xlink:href=\"#DejaVuSans-31\"/>\r\n     <use x=\"63.623047\" xlink:href=\"#DejaVuSans-33\"/>\r\n    </g>\r\n   </g>\r\n   <g id=\"text_51\">\r\n    <!-- Confusion Matrix -->\r\n    <g transform=\"translate(397.874375 16.318125)scale(0.12 -0.12)\">\r\n     <defs>\r\n      <path d=\"M 4122 4306 \r\nL 4122 3641 \r\nQ 3803 3938 3442 4084 \r\nQ 3081 4231 2675 4231 \r\nQ 1875 4231 1450 3742 \r\nQ 1025 3253 1025 2328 \r\nQ 1025 1406 1450 917 \r\nQ 1875 428 2675 428 \r\nQ 3081 428 3442 575 \r\nQ 3803 722 4122 1019 \r\nL 4122 359 \r\nQ 3791 134 3420 21 \r\nQ 3050 -91 2638 -91 \r\nQ 1578 -91 968 557 \r\nQ 359 1206 359 2328 \r\nQ 359 3453 968 4101 \r\nQ 1578 4750 2638 4750 \r\nQ 3056 4750 3426 4639 \r\nQ 3797 4528 4122 4306 \r\nz\r\n\" id=\"DejaVuSans-43\" transform=\"scale(0.015625)\"/>\r\n      <path d=\"M 2375 4863 \r\nL 2375 4384 \r\nL 1825 4384 \r\nQ 1516 4384 1395 4259 \r\nQ 1275 4134 1275 3809 \r\nL 1275 3500 \r\nL 2222 3500 \r\nL 2222 3053 \r\nL 1275 3053 \r\nL 1275 0 \r\nL 697 0 \r\nL 697 3053 \r\nL 147 3053 \r\nL 147 3500 \r\nL 697 3500 \r\nL 697 3744 \r\nQ 697 4328 969 4595 \r\nQ 1241 4863 1831 4863 \r\nL 2375 4863 \r\nz\r\n\" id=\"DejaVuSans-66\" transform=\"scale(0.015625)\"/>\r\n      <path d=\"M 628 4666 \r\nL 1569 4666 \r\nL 2759 1491 \r\nL 3956 4666 \r\nL 4897 4666 \r\nL 4897 0 \r\nL 4281 0 \r\nL 4281 4097 \r\nL 3078 897 \r\nL 2444 897 \r\nL 1241 4097 \r\nL 1241 0 \r\nL 628 0 \r\nL 628 4666 \r\nz\r\n\" id=\"DejaVuSans-4d\" transform=\"scale(0.015625)\"/>\r\n      <path d=\"M 3513 3500 \r\nL 2247 1797 \r\nL 3578 0 \r\nL 2900 0 \r\nL 1881 1375 \r\nL 863 0 \r\nL 184 0 \r\nL 1544 1831 \r\nL 300 3500 \r\nL 978 3500 \r\nL 1906 2253 \r\nL 2834 3500 \r\nL 3513 3500 \r\nz\r\n\" id=\"DejaVuSans-78\" transform=\"scale(0.015625)\"/>\r\n     </defs>\r\n     <use xlink:href=\"#DejaVuSans-43\"/>\r\n     <use x=\"69.824219\" xlink:href=\"#DejaVuSans-6f\"/>\r\n     <use x=\"131.005859\" xlink:href=\"#DejaVuSans-6e\"/>\r\n     <use x=\"194.384766\" xlink:href=\"#DejaVuSans-66\"/>\r\n     <use x=\"229.589844\" xlink:href=\"#DejaVuSans-75\"/>\r\n     <use x=\"292.96875\" xlink:href=\"#DejaVuSans-73\"/>\r\n     <use x=\"345.068359\" xlink:href=\"#DejaVuSans-69\"/>\r\n     <use x=\"372.851562\" xlink:href=\"#DejaVuSans-6f\"/>\r\n     <use x=\"434.033203\" xlink:href=\"#DejaVuSans-6e\"/>\r\n     <use x=\"497.412109\" xlink:href=\"#DejaVuSans-20\"/>\r\n     <use x=\"529.199219\" xlink:href=\"#DejaVuSans-4d\"/>\r\n     <use x=\"615.478516\" xlink:href=\"#DejaVuSans-61\"/>\r\n     <use x=\"676.757812\" xlink:href=\"#DejaVuSans-74\"/>\r\n     <use x=\"715.966797\" xlink:href=\"#DejaVuSans-72\"/>\r\n     <use x=\"757.080078\" xlink:href=\"#DejaVuSans-69\"/>\r\n     <use x=\"784.863281\" xlink:href=\"#DejaVuSans-78\"/>\r\n    </g>\r\n   </g>\r\n  </g>\r\n  <g id=\"axes_2\">\r\n   <g id=\"patch_3\">\r\n    <path d=\"M 910.84625 1033.718125 \r\nL 961.41625 1033.718125 \r\nL 961.41625 22.318125 \r\nL 910.84625 22.318125 \r\nz\r\n\" style=\"fill:#ffffff;\"/>\r\n   </g>\r\n   <g id=\"patch_4\">\r\n    <path clip-path=\"url(#p4cdd469149)\" d=\"M 910.84625 1033.718125 \r\nL 910.84625 1029.767344 \r\nL 910.84625 26.268906 \r\nL 910.84625 22.318125 \r\nL 961.41625 22.318125 \r\nL 961.41625 26.268906 \r\nL 961.41625 1029.767344 \r\nL 961.41625 1033.718125 \r\nL 961.41625 1033.718125 \r\nz\r\n\" style=\"fill:#ffffff;stroke:#ffffff;stroke-linejoin:miter;stroke-width:0.01;\"/>\r\n   </g>\r\n   <image height=\"1011\" id=\"image87a7928403\" transform=\"scale(1 -1)translate(0 -1011)\" width=\"50\" x=\"911\" xlink:href=\"data:image/png;base64,\r\niVBORw0KGgoAAAANSUhEUgAAADIAAAPzCAYAAAD1Y189AAAFnUlEQVR4nO3dgW3kMAwAQUnhN/H995k0ccAtiJkKsvD7SNmX/P359//3LPC+/QN8ipCaud/+CT5kzRVZEzL37vjHteaKCKlxj9QIqZl73CMpQmrMkRohNfPcIy1CauxaNUJqzJEaITXOIzVCaubZtVqE1JgjNUJqnEdqhNSYIzVCapxHaoTUmCM1Qmq8Q6wRUuPMXiOkxq5VI6TGmb1GSI05UiOkxhypWRMy9+5o2VFxhPR4ZFojpMYj0xohNeZIjZAac6RGSI05UiOkxhypEVJjjtQIqTFHaoTUmCM1Qmp8haNGSI2vAtYIqTFHaoTUmCM1Qmqc2WuE1Ni1aoTU2LVqhNSYIzVCatwjNUJq/G/gNWtCfM2pRkiNR6Y1Qmqs8TVCajwyrRFSY47UCKlxHqkRUjNbSrZ0CMlxHqkRUuM8UiOkxnmkRkiN80iNkBq7Vo2QGmf2GiE1dq0aITXO7DVCapxHaoTU2LVqhNTYtWqE1Ni1aoTU+DXwGiE1fp+9Zk2Io26NkBpH3RohNeZIjZAac6RGSI05UiOkxmuFGiE1XivUCKkxR2qE1DiP1Aip8VyrRkiNOVIjpMaZvUZIjTN7jZAau1aNkBq7Vo2QGrtWjZAau1aNkBq7Vo2QGrtWjZCaeb/f/hE+Y80VWRNija8RUmONrxFSY47UCKlx1K0RUmPXqhFSY9eqEVLjkWmNkBq7Vo2QGrtWjZAa90iNkBrnkRohNc4jNUJq7Fo1QmrcIzVCauY6j7QIqTFHaoTUuEdqhNR49lsjpMaz3xohNXatmjUhVpQaITVWlBohNfPOjkGy5ooIqbFr1QipcdStEVLjPFIjpGbe745la80VEVJj16oRUmPXqhFS49lvjZAaz35rhNTMNUdahNQ4s9cIqXGP1AipsWvVCKkxR2qE1JgjNUJqvB+pEVIzb8mL9jVXREiNXatGSI0ze82akLlL/nTmmisipGaee6RFSI2vlNcIqTFHaoTUOI/UCKkxR2qE1MxdciBZc0WE1Ni1aoTU2LVqhNTYtWqE1Ni1aoTU2LVqhNTMXfI3d9ZcESE1ziM1QmrMkRohNc7sNUJqnNlrhNTMXZKyJENIj12rRkiNM3vNmhCPTGuE1Pj4rRFS4x6pEVJj16oRUmOO1Aip8VqhRkiN1wo1QmrMkRohNc4jNUJqzJEaITVznEdahNSYIzVCatwjNUJq3CM1QmpmS8qSDCE95kiNkBpzpEZIjTlSI6TGHKkRUjP37fgFkjVXZE2Ij98aITU+fmuE1JgjNUJq5pgjLUJq7Fo1QmrsWjVCauxaNUJq7Fo1QmrMkRohNe6RGiE1c5f8DdA1V0RIjTlSI6TGPVIjpGbO29Gyo+II6TFHaoTUeD9SI6TGHKkRUjNnye+B76g4QnrMkRohNe6RmjUhcz0ybRFS4+O3RkiNo26NkBpzpEZIja9w1AipMUdqhNQ4j9QIqTFHaoTUeD9SI6TGHKkRUuM8UiOkxhypEVLj/UiNkJo5/uROi5Aac6RGSI17pEZIjTN7jZAaz35rhNTYtWqE1PizVDVCauxaNWtCrCg1QmrcIzVCaryerhFSY47UCKlx1K0RUmOO1AipcY/UCKlxZq8RUmOO1AipcY/UCKnxXKtGSI05UiOkxhypEVJjjtQIqTFHaoTUmCM1QmrcIzVCauxaNUJqzJEaITXmSM2aEB+/NUJqfPzWCKkxR2qE1My9P9/+GT5izRURUmOO1AipcY/UCKlxZq8RUmOO1AipMUdqhNTMeZ5rpQipMUdqhNQ4j9QIqTFHaoTUeM9eI6TGrlUjpMauVSOkxhypEVJjjtQIqfEOsUZIjTlSsybEGl8jpGauj98WITXmSI2QGmt8jZAaj4NqhNSYIzVCapxHaoTUeK5VI6TGHKkRUuM8UiOkxnOtGiE1f5yRM6UeebY4AAAAAElFTkSuQmCC\" y=\"-22\"/>\r\n   <g id=\"matplotlib.axis_3\"/>\r\n   <g id=\"matplotlib.axis_4\">\r\n    <g id=\"ytick_7\">\r\n     <g id=\"line2d_13\">\r\n      <defs>\r\n       <path d=\"M 0 0 \r\nL 3.5 0 \r\n\" id=\"md457fd325f\" style=\"stroke:#000000;stroke-width:0.8;\"/>\r\n      </defs>\r\n      <g>\r\n       <use style=\"stroke:#000000;stroke-width:0.8;\" x=\"961.41625\" xlink:href=\"#md457fd325f\" y=\"1033.718125\"/>\r\n      </g>\r\n     </g>\r\n     <g id=\"text_52\">\r\n      <!-- 0 -->\r\n      <g transform=\"translate(968.41625 1037.517344)scale(0.1 -0.1)\">\r\n       <use xlink:href=\"#DejaVuSans-30\"/>\r\n      </g>\r\n     </g>\r\n    </g>\r\n    <g id=\"ytick_8\">\r\n     <g id=\"line2d_14\">\r\n      <g>\r\n       <use style=\"stroke:#000000;stroke-width:0.8;\" x=\"961.41625\" xlink:href=\"#md457fd325f\" y=\"827.730345\"/>\r\n      </g>\r\n     </g>\r\n     <g id=\"text_53\">\r\n      <!-- 100 -->\r\n      <g transform=\"translate(968.41625 831.529564)scale(0.1 -0.1)\">\r\n       <use xlink:href=\"#DejaVuSans-31\"/>\r\n       <use x=\"63.623047\" xlink:href=\"#DejaVuSans-30\"/>\r\n       <use x=\"127.246094\" xlink:href=\"#DejaVuSans-30\"/>\r\n      </g>\r\n     </g>\r\n    </g>\r\n    <g id=\"ytick_9\">\r\n     <g id=\"line2d_15\">\r\n      <g>\r\n       <use style=\"stroke:#000000;stroke-width:0.8;\" x=\"961.41625\" xlink:href=\"#md457fd325f\" y=\"621.742565\"/>\r\n      </g>\r\n     </g>\r\n     <g id=\"text_54\">\r\n      <!-- 200 -->\r\n      <g transform=\"translate(968.41625 625.541784)scale(0.1 -0.1)\">\r\n       <use xlink:href=\"#DejaVuSans-32\"/>\r\n       <use x=\"63.623047\" xlink:href=\"#DejaVuSans-30\"/>\r\n       <use x=\"127.246094\" xlink:href=\"#DejaVuSans-30\"/>\r\n      </g>\r\n     </g>\r\n    </g>\r\n    <g id=\"ytick_10\">\r\n     <g id=\"line2d_16\">\r\n      <g>\r\n       <use style=\"stroke:#000000;stroke-width:0.8;\" x=\"961.41625\" xlink:href=\"#md457fd325f\" y=\"415.754785\"/>\r\n      </g>\r\n     </g>\r\n     <g id=\"text_55\">\r\n      <!-- 300 -->\r\n      <g transform=\"translate(968.41625 419.554004)scale(0.1 -0.1)\">\r\n       <use xlink:href=\"#DejaVuSans-33\"/>\r\n       <use x=\"63.623047\" xlink:href=\"#DejaVuSans-30\"/>\r\n       <use x=\"127.246094\" xlink:href=\"#DejaVuSans-30\"/>\r\n      </g>\r\n     </g>\r\n    </g>\r\n    <g id=\"ytick_11\">\r\n     <g id=\"line2d_17\">\r\n      <g>\r\n       <use style=\"stroke:#000000;stroke-width:0.8;\" x=\"961.41625\" xlink:href=\"#md457fd325f\" y=\"209.767005\"/>\r\n      </g>\r\n     </g>\r\n     <g id=\"text_56\">\r\n      <!-- 400 -->\r\n      <g transform=\"translate(968.41625 213.566224)scale(0.1 -0.1)\">\r\n       <use xlink:href=\"#DejaVuSans-34\"/>\r\n       <use x=\"63.623047\" xlink:href=\"#DejaVuSans-30\"/>\r\n       <use x=\"127.246094\" xlink:href=\"#DejaVuSans-30\"/>\r\n      </g>\r\n     </g>\r\n    </g>\r\n   </g>\r\n   <g id=\"LineCollection_1\"/>\r\n   <g id=\"patch_5\">\r\n    <path d=\"M 910.84625 1033.718125 \r\nL 910.84625 1029.767344 \r\nL 910.84625 26.268906 \r\nL 910.84625 22.318125 \r\nL 961.41625 22.318125 \r\nL 961.41625 26.268906 \r\nL 961.41625 1029.767344 \r\nL 961.41625 1033.718125 \r\nz\r\n\" style=\"fill:none;\"/>\r\n   </g>\r\n  </g>\r\n </g>\r\n <defs>\r\n  <clipPath id=\"peeb2282200\">\r\n   <rect height=\"1011.4\" width=\"821.92\" x=\"37.55625\" y=\"22.318125\"/>\r\n  </clipPath>\r\n  <clipPath id=\"p4cdd469149\">\r\n   <rect height=\"1011.4\" width=\"50.57\" x=\"910.84625\" y=\"22.318125\"/>\r\n  </clipPath>\r\n </defs>\r\n</svg>\r\n",
      "image/png": "[encoded data removed]"
     },
     "metadata": {
      "needs_background": "light"
     }
    }
   ],
   "source": [
    "y_test_pred = best_model.predict(np.array(X_test_processed))\n",
    "performance = get_metrics(label_encoder.transform(y_test), y_test_pred, label_encoder)\n",
    "cm = confusion_matrix(label_encoder.transform(y_test), y_test_pred)\n",
    "\n",
    "print_performance_metrics(performance, label_encoder.classes_)\n",
    "precision, recall, fscore, support = precision_recall_fscore_support(y_test, label_encoder.inverse_transform(y_test_pred), average=None, labels=label_encoder.classes_)\n",
    "print('label_encoder.classes_\\t',label_encoder.classes_)\n",
    "print('precision\\t\\t',precision)\n",
    "print('recall\\t\\t\\t',recall)\n",
    "print('fscore\\t\\t\\t',fscore)\n",
    "print('support\\t\\t\\t',support)\n",
    "\n",
    "ax= plt.subplot()\n",
    "sns.heatmap(cm, annot=True, ax = ax); #annot=True to annotate cells\n",
    "# labels, title and ticks\n",
    "ax.set_xlabel('Predicted labels');ax.set_ylabel('True labels'); \n",
    "ax.set_title('Confusion Matrix'); \n",
    "ax.xaxis.set_ticklabels(labels); ax.yaxis.set_ticklabels(labels);\n",
    "plt.tight_layout()\n",
    "plt.show()"
   ]
  },
  {
   "cell_type": "code",
   "execution_count": 49,
   "metadata": {},
   "outputs": [],
   "source": [
    "predictions = create_pediction_graph(X_test, y_test_pred)\n",
    "amr_graphs = []\n",
    "for idx, prediction in enumerate(predictions):\n",
    "    graph = create_amr_graph_from_prediction(prediction)\n",
    "    amr_graphs.append(graph)\n",
    "\n",
    "save_amr_graphs(amr_graphs, amr_test_prediction_path)"
   ]
  },
  {
   "cell_type": "markdown",
   "metadata": {},
   "source": [
    "#### Show Test SMATCH score\n",
    "Hasil Run\n",
    "Pair Prediction : 0.67  \n",
    "Label Prediction : ? ini berapa dan dimana    \n",
    "Smatch : 0.79  \n",
    "Zhang : ?  \n",
    "\n",
    "Ini bandingin dengan Laporan Adylan  \n",
    "Pair prediction : Kalimat - Dep Parse - Filter - Akurasi Pair (pair ini apa?) : 0.72  \n",
    "Label prediction : 0.819  \n",
    "Smatch : 0.82  \n",
    "Zhang : 0.758  "
   ]
  },
  {
   "cell_type": "code",
   "execution_count": 50,
   "metadata": {},
   "outputs": [
    {
     "output_type": "stream",
     "name": "stdout",
     "text": [
      "Precision: 0.745\n",
      "Recall: 0.839\n",
      "F-score: 0.790\n"
     ]
    }
   ],
   "source": [
    "!python tools/smatch/smatch.py -f data/test/test.pred.txt data/test/test.txt --pr --significant 3"
   ]
  },
  {
   "cell_type": "markdown",
   "metadata": {},
   "source": [
    "### Test Berita\n"
   ]
  },
  {
   "cell_type": "code",
   "execution_count": 51,
   "metadata": {},
   "outputs": [],
   "source": [
    "TEST_BERITA_DIR = \"data/raw/test/\"\n",
    "TEST_BERITA_FILE_NAMES = [\"b-salah-darat.csv\",\"c-gedung-roboh.csv\",\"d-indo-fuji.csv\", \"f-bunuh-diri.csv\", \"g-gempa-dieng.csv\"]\n",
    "TEST_BERITA_FILE_PATHS = [TEST_BERITA_DIR + \"labeled_df_\"+ filename for filename in TEST_BERITA_FILE_NAMES]"
   ]
  },
  {
   "cell_type": "code",
   "execution_count": 52,
   "metadata": {},
   "outputs": [
    {
     "output_type": "stream",
     "name": "stdout",
     "text": [
      "b-salah-darat\n",
      "\n",
      "Accuracy: 0.681\n",
      "F1 Micro : 0.681\n",
      "F1 Macro: 0.503\n",
      "SMATCH: 0.000\n",
      "['ARG0' 'ARG1' 'location' 'mod' 'name' 'time']\n",
      "[0.85294118 0.69387755 0.62857143 0.69491525 0.37931034 0.        ]\n",
      "[0.70731707 0.50746269 0.66666667 0.89912281 0.1641791  0.        ]\n",
      "[0.77333333 0.5862069  0.64705882 0.78393881 0.22916667 0.        ]\n",
      "[ 41  67  33 228  67   6]\n",
      "D:\\miniconda3\\envs\\amr\\lib\\site-packages\\sklearn\\utils\\validation.py:70: FutureWarning: Pass labels=['ARG0' 'ARG1' 'location' 'mod' 'name' 'time'] as keyword args. From version 1.0 (renaming of 0.25) passing these as positional arguments will result in an error\n",
      "  warnings.warn(f\"Pass {args_msg} as keyword args. From version \"\n",
      "D:\\miniconda3\\envs\\amr\\lib\\site-packages\\sklearn\\metrics\\_classification.py:1248: UndefinedMetricWarning: Precision and F-score are ill-defined and being set to 0.0 in labels with no predicted samples. Use `zero_division` parameter to control this behavior.\n",
      "  _warn_prf(average, modifier, msg_start, len(result))\n",
      "Precision: 0.705\n",
      "Recall: 0.677\n",
      "F-score: 0.691\n",
      "c-gedung-roboh\n",
      "\n",
      "Accuracy: 0.695\n",
      "F1 Micro : 0.695\n",
      "F1 Macro: 0.459\n",
      "SMATCH: 0.000\n",
      "['ARG0' 'ARG1' 'location' 'mod' 'name' 'time']\n",
      "[0.92857143 0.75510204 0.09090909 0.76315789 0.40425532 0.        ]\n",
      "[0.72222222 0.46835443 0.06666667 0.87437186 0.55882353 0.        ]\n",
      "[0.8125     0.578125   0.07692308 0.81498829 0.4691358  0.        ]\n",
      "[ 36  79  15 199  34   7]\n",
      "D:\\miniconda3\\envs\\amr\\lib\\site-packages\\sklearn\\utils\\validation.py:70: FutureWarning: Pass labels=['ARG0' 'ARG1' 'location' 'mod' 'name' 'time'] as keyword args. From version 1.0 (renaming of 0.25) passing these as positional arguments will result in an error\n",
      "  warnings.warn(f\"Pass {args_msg} as keyword args. From version \"\n",
      "Precision: 0.706\n",
      "Recall: 0.664\n",
      "F-score: 0.684\n",
      "d-indo-fuji\n",
      "\n",
      "Accuracy: 0.816\n",
      "F1 Micro : 0.816\n",
      "F1 Macro: 0.574\n",
      "SMATCH: 0.000\n",
      "['ARG0' 'ARG1' 'location' 'mod' 'name' 'time']\n",
      "[0.81818182 0.88235294 0.         0.8767507  0.48888889 0.        ]\n",
      "[0.65853659 0.59405941 0.         0.92878338 0.57894737 0.        ]\n",
      "[0.72972973 0.71005917 0.         0.90201729 0.53012048 0.        ]\n",
      "[ 41 101   0 337  38   0]\n",
      "D:\\miniconda3\\envs\\amr\\lib\\site-packages\\sklearn\\utils\\validation.py:70: FutureWarning: Pass labels=['ARG0' 'ARG1' 'location' 'mod' 'name' 'time'] as keyword args. From version 1.0 (renaming of 0.25) passing these as positional arguments will result in an error\n",
      "  warnings.warn(f\"Pass {args_msg} as keyword args. From version \"\n",
      "D:\\miniconda3\\envs\\amr\\lib\\site-packages\\sklearn\\metrics\\_classification.py:1248: UndefinedMetricWarning: Precision and F-score are ill-defined and being set to 0.0 in labels with no predicted samples. Use `zero_division` parameter to control this behavior.\n",
      "  _warn_prf(average, modifier, msg_start, len(result))\n",
      "D:\\miniconda3\\envs\\amr\\lib\\site-packages\\sklearn\\metrics\\_classification.py:1248: UndefinedMetricWarning: Recall and F-score are ill-defined and being set to 0.0 in labels with no true samples. Use `zero_division` parameter to control this behavior.\n",
      "  _warn_prf(average, modifier, msg_start, len(result))\n",
      "Precision: 0.708\n",
      "Recall: 0.694\n",
      "F-score: 0.701\n",
      "f-bunuh-diri\n",
      "\n",
      "Accuracy: 0.695\n",
      "F1 Micro : 0.695\n",
      "F1 Macro: 0.465\n",
      "SMATCH: 0.000\n",
      "['ARG0' 'ARG1' 'location' 'mod' 'name' 'time']\n",
      "[0.72413793 0.79166667 0.47058824 0.75897436 0.34375    0.        ]\n",
      "[0.72413793 0.38       0.2962963  0.90797546 0.37931034 0.        ]\n",
      "[0.72413793 0.51351351 0.36363636 0.82681564 0.36065574 0.        ]\n",
      "[ 29  50  27 163  29   0]\n",
      "D:\\miniconda3\\envs\\amr\\lib\\site-packages\\sklearn\\utils\\validation.py:70: FutureWarning: Pass labels=['ARG0' 'ARG1' 'location' 'mod' 'name' 'time'] as keyword args. From version 1.0 (renaming of 0.25) passing these as positional arguments will result in an error\n",
      "  warnings.warn(f\"Pass {args_msg} as keyword args. From version \"\n",
      "D:\\miniconda3\\envs\\amr\\lib\\site-packages\\sklearn\\metrics\\_classification.py:1248: UndefinedMetricWarning: Recall and F-score are ill-defined and being set to 0.0 in labels with no true samples. Use `zero_division` parameter to control this behavior.\n",
      "  _warn_prf(average, modifier, msg_start, len(result))\n",
      "Precision: 0.687\n",
      "Recall: 0.687\n",
      "F-score: 0.687\n",
      "g-gempa-dieng\n",
      "\n",
      "Accuracy: 0.683\n",
      "F1 Micro : 0.683\n",
      "F1 Macro: 0.546\n",
      "SMATCH: 0.000\n",
      "['ARG0' 'ARG1' 'location' 'mod' 'name' 'time']\n",
      "[0.93333333 0.62068966 0.23076923 0.73295455 0.51724138 0.66666667]\n",
      "[0.77777778 0.35294118 0.5        0.87755102 0.41666667 0.28571429]\n",
      "[0.84848485 0.45       0.31578947 0.79876161 0.46153846 0.4       ]\n",
      "[ 18  51   6 147  36   7]\n",
      "D:\\miniconda3\\envs\\amr\\lib\\site-packages\\sklearn\\utils\\validation.py:70: FutureWarning: Pass labels=['ARG0' 'ARG1' 'location' 'mod' 'name' 'time'] as keyword args. From version 1.0 (renaming of 0.25) passing these as positional arguments will result in an error\n",
      "  warnings.warn(f\"Pass {args_msg} as keyword args. From version \"\n",
      "Precision: 0.683\n",
      "Recall: 0.678\n",
      "F-score: 0.681\n"
     ]
    }
   ],
   "source": [
    "for filepath in TEST_BERITA_FILE_NAMES:\n",
    "    topic = filepath.split('.')[0]\n",
    "    print(topic)\n",
    "    print()\n",
    "    \n",
    "    test_berita_filepath = TEST_BERITA_DIR+\"labeled_df_\"+filepath\n",
    "    test_dependency_features_df = pd.read_csv(test_berita_filepath)\n",
    "    X_test, y_test = test_dependency_features_df.drop(['label'], axis=1), test_dependency_features_df['label']\n",
    "\n",
    "    filtered_X_test = feature_selection(X_test, feature_filter_type)\n",
    "    X_test_processed = preprocess(filtered_X_test, word_vec, one_hot_encoder)\n",
    "    \n",
    "    y_test_pred = best_model.predict(np.array(X_test_processed))\n",
    "    performance = get_metrics(label_encoder.transform(y_test), y_test_pred, label_encoder)\n",
    "    cm = confusion_matrix(label_encoder.transform(y_test), y_test_pred)\n",
    "\n",
    "    print_performance_metrics(performance, label_encoder.classes_)\n",
    "    precision, recall, fscore, support = precision_recall_fscore_support(y_test, label_encoder.inverse_transform(y_test_pred), average=None, labels=label_encoder.classes_)\n",
    "    print(label_encoder.classes_)\n",
    "    print(precision)\n",
    "    print(recall)\n",
    "    print(fscore)\n",
    "    print(support)\n",
    "\n",
    "#     ax= plt.subplot()\n",
    "#     sns.heatmap(cm, annot=True, ax = ax); #annot=True to annotate cells\n",
    "#     # labels, title and ticks\n",
    "#     ax.set_xlabel('Predicted labels');ax.set_ylabel('True labels'); \n",
    "#     ax.set_title('Confusion Matrix'); \n",
    "#     ax.xaxis.set_ticklabels(labels); ax.yaxis.set_ticklabels(labels);\n",
    "#     plt.show()\n",
    "    \n",
    "    predictions = create_pediction_graph(X_test, y_test_pred)\n",
    "    amr_graphs = []\n",
    "    for idx, prediction in enumerate(predictions):\n",
    "        graph = create_amr_graph_from_prediction(prediction)\n",
    "        amr_graphs.append(graph)\n",
    "\n",
    "    amr_output_path = TEST_BERITA_DIR+'amr_output_'+ topic\n",
    "    save_amr_graphs(amr_graphs, amr_output_path)\n",
    "    amr_test_path = TEST_BERITA_DIR+topic+\".txt\"\n",
    "    \n",
    "    !python tools/smatch/smatch.py -f {amr_output_path}.pred.txt {amr_test_path} --pr --significant 3"
   ]
  },
  {
   "cell_type": "code",
   "execution_count": null,
   "metadata": {},
   "outputs": [],
   "source": []
  }
 ],
 "metadata": {
  "kernelspec": {
   "name": "python3",
   "display_name": "Python 3.9.5 64-bit ('amr': conda)"
  },
  "language_info": {
   "codemirror_mode": {
    "name": "ipython",
    "version": 3
   },
   "file_extension": ".py",
   "mimetype": "text/x-python",
   "name": "python",
   "nbconvert_exporter": "python",
   "pygments_lexer": "ipython3",
   "version": "3.9.5"
  },
  "interpreter": {
   "hash": "0ca5d393f6b226cd3ca7fbdd8acf7d8339a1fda0aa6b601d6b6cc21d35a38bcb"
  }
 },
 "nbformat": 4,
 "nbformat_minor": 4
}